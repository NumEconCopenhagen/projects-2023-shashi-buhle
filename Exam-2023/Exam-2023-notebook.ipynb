{
 "cells": [
  {
   "attachments": {},
   "cell_type": "markdown",
   "metadata": {},
   "source": [
    "**Table of contents**<a id='toc0_'></a>    \n",
    "- 1. [Problem 1: Optimal taxation with government consumption](#toc1_)    \n",
    "- 2. [Problem 2: Labor adjustment costs](#toc2_)    \n",
    "- 3. [Problem 3: Global optimizer with refined multi-start](#toc3_)    \n",
    "\n",
    "<!-- vscode-jupyter-toc-config\n",
    "\tnumbering=true\n",
    "\tanchor=true\n",
    "\tflat=false\n",
    "\tminLevel=2\n",
    "\tmaxLevel=6\n",
    "\t/vscode-jupyter-toc-config -->\n",
    "<!-- THIS CELL WILL BE REPLACED ON TOC UPDATE. DO NOT WRITE YOUR TEXT IN THIS CELL -->"
   ]
  },
  {
   "cell_type": "code",
   "execution_count": 1,
   "metadata": {},
   "outputs": [],
   "source": [
    "# Import of needed packages \n",
    "import math\n",
    "import time\n",
    "import numpy as np\n",
    "import sympy as sp\n",
    "import matplotlib.pyplot as plt\n",
    "from mpl_toolkits.mplot3d import Axes3D\n",
    "from scipy.optimize import minimize\n",
    "from scipy.optimize import fsolve\n",
    "from scipy.optimize import minimize_scalar\n",
    "\n",
    "# setting a seed\n",
    "np.random.seed(1986)"
   ]
  },
  {
   "attachments": {},
   "cell_type": "markdown",
   "metadata": {},
   "source": [
    "## 1. <a id='toc1_'></a>[Problem 1: Optimal taxation with government consumption](#toc0_)"
   ]
  },
  {
   "attachments": {},
   "cell_type": "markdown",
   "metadata": {},
   "source": [
    "\n",
    "Consider a worker choosing hours of labor, $L\\in[0,24]$, to maximize utility: \n",
    "\n",
    "$$\n",
    "\\begin{align*}\n",
    "V(w,\\tau,G)&=\\max_{L\\in[0,24]}\\ln\\left(C^{\\alpha}G^{1-\\alpha}\\right)-\\nu\\frac{L^{2}}{2}\\\\&\\text{s.t.}\\\\&C=\\kappa+(1-\\tau)wL\n",
    "\\end{align*}\n",
    "$$\n",
    "\n",
    "where \n",
    "\n",
    "* $C$ is *private* consumption with weight $\\alpha\\in(0,1)$.\n",
    "* $\\kappa > 0$ is the *free private* consumption component.\n",
    "* $C = (1-\\tau)wL$ is the *costly private* consumption component.\n",
    "* $w > 0 $ is the real wage.\n",
    "* $\\tau \\in (0,1)$ is the labor-income tax rate.\n",
    "* $G > 0 $ is *government* consumption with weight $1-\\alpha$.\n",
    "* $\\nu > 0$ is the disutility of labor scaling factor"
   ]
  },
  {
   "attachments": {},
   "cell_type": "markdown",
   "metadata": {},
   "source": [
    "\n",
    "The baseline parameters are:\n",
    "\n",
    "$$\n",
    "\\begin{align*}\n",
    "\\alpha &= 0.5\\\\\n",
    "\\kappa &= 1.0\\\\\n",
    "\\nu &= \\frac{1}{2\\cdot16^2} \\\\\n",
    "w &= 1.0 \\\\ \n",
    "\\tau &= 0.30 \\\\\n",
    "\\end{align*}\n",
    "$$"
   ]
  },
  {
   "attachments": {},
   "cell_type": "markdown",
   "metadata": {},
   "source": [
    "**Question 1:** Verify that the optimal labor supply choice is $L^{\\star}(\\tilde{w}) =\\frac{-\\kappa+\\sqrt{\\kappa^{2}+4\\frac{\\alpha}{\\nu}\\tilde{w}^2}}{2\\tilde{w}}$, where $\\tilde{w} = (1-\\tau)w$, for $G\\in\\left\\{1.0 , 2.0\\right\\}$."
   ]
  },
  {
   "cell_type": "code",
   "execution_count": 2,
   "metadata": {},
   "outputs": [
    {
     "name": "stdout",
     "output_type": "stream",
     "text": [
      "Optimal value of L for G = 1.0 (from optimization): 15.301650159969068\n",
      "Optimal value of L for G = 1.0 (analytical): 15.30165022719559\n",
      "Are the results equal? True\n",
      "\n",
      "Optimal value of L for G = 2.0 (from optimization): 15.301650159969068\n",
      "Optimal value of L for G = 2.0 (analytical): 15.30165022719559\n",
      "Are the results equal? True\n",
      "\n"
     ]
    }
   ],
   "source": [
    "# Define the objective function\n",
    "def objective_function(L, w, tau, alpha, kappa, nu, G):\n",
    "    C = kappa + (1 - tau) * w * L\n",
    "    utility = np.log(C**alpha * G**(1 - alpha)) - nu * L**2 / 2\n",
    "    return -utility  # Minimize the negative of the utility function because we want to maximize\n",
    "\n",
    "# Define the bounds for L\n",
    "L_bounds = (0, 24)\n",
    "\n",
    "# Define the other parameters\n",
    "w = 1.0\n",
    "tau = 0.3\n",
    "alpha = 0.5\n",
    "kappa = 1.0\n",
    "nu = 1/(2*16**2)\n",
    "G_values = [1.0, 2.0]\n",
    "\n",
    "# Create lists to sstore the results of the analytical solution\n",
    "optimal_L_values = []\n",
    "analytical_optimal_L_values = [] \n",
    "\n",
    "# Solve the optimization problem and compare to the anylytical expression\n",
    "for G in G_values:\n",
    "    result = minimize_scalar(objective_function, bounds=L_bounds, args=(w, tau, alpha, kappa, nu, G), method='bounded')\n",
    "    optimal_L = result.x\n",
    "    optimal_L_values.append(optimal_L)\n",
    "\n",
    "    # Calculate the optimal labor supply choice using the analytical expression\n",
    "    tilde_w = (1 - tau) * w\n",
    "    analytical_optimal_L = (-kappa + np.sqrt(kappa**2 + 4 * alpha / nu * tilde_w**2)) / (2 * tilde_w)\n",
    "    analytical_optimal_L_values.append(analytical_optimal_L)\n",
    "  \n",
    "# Print the results\n",
    "for i, G in enumerate(G_values):\n",
    "    print(f\"Optimal value of L for G = {G} (from optimization): {optimal_L_values[i]}\")\n",
    "    print(f\"Optimal value of L for G = {G} (analytical): {analytical_optimal_L_values[i]}\")\n",
    "    print(f\"Are the results equal? {np.isclose(optimal_L_values[i], analytical_optimal_L_values[i])}\")\n",
    "    print()"
   ]
  },
  {
   "attachments": {},
   "cell_type": "markdown",
   "metadata": {},
   "source": [
    "**Question 2:** Illustrate how $L^{\\star}(\\tilde{w})$ depends on $w$."
   ]
  },
  {
   "cell_type": "code",
   "execution_count": 3,
   "metadata": {},
   "outputs": [
    {
     "data": {
      "image/png": "[encoded data removed]",
      "text/plain": [
       "<Figure size 640x480 with 1 Axes>"
      ]
     },
     "metadata": {},
     "output_type": "display_data"
    }
   ],
   "source": [
    "# Creating a plot to show how the optimum labor supply L* is contingent on w:\n",
    "\n",
    "# Define the optimal labor supply function (here it still depends on w_tilde)\n",
    "def optimal_labor_supply(kappa=kappa, alpha=alpha, nu=nu, tau=tau, w=w):\n",
    "    return (-kappa + sp.sqrt(kappa**2 + 4 * (alpha / nu) * ((1 - tau) * w)**2)) / (2 * ((1 - tau) * w))\n",
    "\n",
    "# Generate a range of w values to run through\n",
    "w_values = np.linspace(0.1, 2, 100)\n",
    "\n",
    "#Create a list to store values of opimal L\n",
    "L_star_values = []\n",
    "\n",
    "# Calculate the optimal labor supply for each w\n",
    "for w in w_values:\n",
    "    result = optimal_labor_supply(w=w)\n",
    "    L_star_values.append(result)\n",
    "\n",
    "# Plot L_star as a function of w\n",
    "plt.plot(w_values, L_star_values)\n",
    "plt.xlabel('w')\n",
    "plt.ylabel('Optimal labor supply L*')\n",
    "plt.title('Optimal labor supply as a function of w')\n",
    "plt.grid(True)\n",
    "plt.show()"
   ]
  },
  {
   "attachments": {},
   "cell_type": "markdown",
   "metadata": {},
   "source": [
    "The optimal labor supply $L^{\\star}(\\tilde{w})$ was given by the equation:\n",
    "\n",
    "$L^{\\star}(\\tilde{w}) =\\frac{-\\kappa+\\sqrt{\\kappa^{2}+4\\frac{\\alpha}{\\nu}\\tilde{w}^2}}{2\\tilde{w}}$ where $\\tilde{w} = (1-\\tau)w$.\n",
    "\n",
    "From this equation, we can see that the optimal labor supply is a function of the gross wage $w$ through net wage  $\\tilde{w}$. As $w$ increases, $\\tilde{w}$ also increases, because the tax rate $\\tau$ is constant.  \n",
    "As can be seen in the plot above the dependence of $L^{\\star}(\\tilde{w})$ on $w$ is non-linear. This is because of the square root term in the numerator and the $\\tilde{w}$ term in the denominator. The term $\\sqrt{\\kappa^{2}+4\\frac{\\alpha}{\\nu}\\tilde{w}^2}$ in the numerator increases with $w$, which would lead to an increase in $L^{\\star}(\\tilde{w})$. However, the increase is moderated by the $\\tilde{w}$ containing $w$ in the denominator. Therefore, as $w$ increases, we would expect $L^{\\star}(\\tilde{w})$ to increase, but at a decreasing rate due to the square root term and the $\\tilde{w}$ in the denominator. This is clearly displayed in the plot.  \n",
    "\n"
   ]
  },
  {
   "attachments": {},
   "cell_type": "markdown",
   "metadata": {},
   "source": [
    "\n",
    "We now consider a government, who chooses $\\tau$ and spend all of the taxes on government consumption so:\n",
    "\n",
    "$$\n",
    "G = \\tau w L^{\\star}((1-\\tau)w)\n",
    "$$\n",
    "\n",
    "**Question 3:** Plot the implied $L$, $G$ and worker utility for a grid of $\\tau$-values.\n"
   ]
  },
  {
   "cell_type": "code",
   "execution_count": 10,
   "metadata": {},
   "outputs": [
    {
     "ename": "TypeError",
     "evalue": "loop of ufunc does not support argument 0 of type Float which has no callable log method",
     "output_type": "error",
     "traceback": [
      "\u001b[1;31m---------------------------------------------------------------------------\u001b[0m",
      "\u001b[1;31mAttributeError\u001b[0m                            Traceback (most recent call last)",
      "\u001b[1;31mAttributeError\u001b[0m: 'Float' object has no attribute 'log'",
      "\nThe above exception was the direct cause of the following exception:\n",
      "\u001b[1;31mTypeError\u001b[0m                                 Traceback (most recent call last)",
      "\u001b[1;32m~\\AppData\\Local\\Temp\\ipykernel_16816\\94850850.py\u001b[0m in \u001b[0;36m<module>\u001b[1;34m\u001b[0m\n\u001b[0;32m      9\u001b[0m     \u001b[1;32mreturn\u001b[0m \u001b[0mnp\u001b[0m\u001b[1;33m.\u001b[0m\u001b[0mlog\u001b[0m\u001b[1;33m(\u001b[0m\u001b[0mC\u001b[0m\u001b[1;33m**\u001b[0m\u001b[0malpha\u001b[0m \u001b[1;33m*\u001b[0m \u001b[0mG\u001b[0m\u001b[1;33m**\u001b[0m\u001b[1;33m(\u001b[0m\u001b[1;36m1\u001b[0m \u001b[1;33m-\u001b[0m \u001b[0malpha\u001b[0m\u001b[1;33m)\u001b[0m\u001b[1;33m)\u001b[0m \u001b[1;33m-\u001b[0m \u001b[0mnu\u001b[0m \u001b[1;33m*\u001b[0m \u001b[1;33m(\u001b[0m\u001b[0moptimal_labor_supply\u001b[0m\u001b[1;33m(\u001b[0m\u001b[0mtau\u001b[0m\u001b[1;33m=\u001b[0m\u001b[0mtau_gov\u001b[0m\u001b[1;33m)\u001b[0m\u001b[1;33m**\u001b[0m\u001b[1;36m2\u001b[0m \u001b[1;33m/\u001b[0m \u001b[1;36m2\u001b[0m\u001b[1;33m)\u001b[0m\u001b[1;33m\u001b[0m\u001b[1;33m\u001b[0m\u001b[0m\n\u001b[0;32m     10\u001b[0m \u001b[1;33m\u001b[0m\u001b[0m\n\u001b[1;32m---> 11\u001b[1;33m \u001b[0mresult\u001b[0m \u001b[1;33m=\u001b[0m \u001b[0mworker_utility\u001b[0m\u001b[1;33m(\u001b[0m\u001b[1;36m0.5\u001b[0m\u001b[1;33m)\u001b[0m\u001b[1;33m\u001b[0m\u001b[1;33m\u001b[0m\u001b[0m\n\u001b[0m\u001b[0;32m     12\u001b[0m \u001b[0mresult\u001b[0m\u001b[1;33m\u001b[0m\u001b[1;33m\u001b[0m\u001b[0m\n",
      "\u001b[1;32m~\\AppData\\Local\\Temp\\ipykernel_16816\\94850850.py\u001b[0m in \u001b[0;36mworker_utility\u001b[1;34m(tau_gov, kappa, alpha, nu, w)\u001b[0m\n\u001b[0;32m      7\u001b[0m     \u001b[0mC\u001b[0m \u001b[1;33m=\u001b[0m \u001b[0mkappa\u001b[0m \u001b[1;33m+\u001b[0m \u001b[1;33m(\u001b[0m\u001b[1;36m1\u001b[0m \u001b[1;33m-\u001b[0m \u001b[0mtau_gov\u001b[0m\u001b[1;33m)\u001b[0m \u001b[1;33m*\u001b[0m \u001b[0mw\u001b[0m \u001b[1;33m*\u001b[0m \u001b[0moptimal_labor_supply\u001b[0m\u001b[1;33m(\u001b[0m\u001b[0mtau\u001b[0m\u001b[1;33m=\u001b[0m\u001b[0mtau_gov\u001b[0m\u001b[1;33m)\u001b[0m\u001b[1;33m\u001b[0m\u001b[1;33m\u001b[0m\u001b[0m\n\u001b[0;32m      8\u001b[0m     \u001b[0mG\u001b[0m \u001b[1;33m=\u001b[0m \u001b[0mgovernment_consumption\u001b[0m\u001b[1;33m(\u001b[0m\u001b[0mtau_gov\u001b[0m\u001b[1;33m)\u001b[0m\u001b[1;33m\u001b[0m\u001b[1;33m\u001b[0m\u001b[0m\n\u001b[1;32m----> 9\u001b[1;33m     \u001b[1;32mreturn\u001b[0m \u001b[0mnp\u001b[0m\u001b[1;33m.\u001b[0m\u001b[0mlog\u001b[0m\u001b[1;33m(\u001b[0m\u001b[0mC\u001b[0m\u001b[1;33m**\u001b[0m\u001b[0malpha\u001b[0m \u001b[1;33m*\u001b[0m \u001b[0mG\u001b[0m\u001b[1;33m**\u001b[0m\u001b[1;33m(\u001b[0m\u001b[1;36m1\u001b[0m \u001b[1;33m-\u001b[0m \u001b[0malpha\u001b[0m\u001b[1;33m)\u001b[0m\u001b[1;33m)\u001b[0m \u001b[1;33m-\u001b[0m \u001b[0mnu\u001b[0m \u001b[1;33m*\u001b[0m \u001b[1;33m(\u001b[0m\u001b[0moptimal_labor_supply\u001b[0m\u001b[1;33m(\u001b[0m\u001b[0mtau\u001b[0m\u001b[1;33m=\u001b[0m\u001b[0mtau_gov\u001b[0m\u001b[1;33m)\u001b[0m\u001b[1;33m**\u001b[0m\u001b[1;36m2\u001b[0m \u001b[1;33m/\u001b[0m \u001b[1;36m2\u001b[0m\u001b[1;33m)\u001b[0m\u001b[1;33m\u001b[0m\u001b[1;33m\u001b[0m\u001b[0m\n\u001b[0m\u001b[0;32m     10\u001b[0m \u001b[1;33m\u001b[0m\u001b[0m\n\u001b[0;32m     11\u001b[0m \u001b[0mresult\u001b[0m \u001b[1;33m=\u001b[0m \u001b[0mworker_utility\u001b[0m\u001b[1;33m(\u001b[0m\u001b[1;36m0.5\u001b[0m\u001b[1;33m)\u001b[0m\u001b[1;33m\u001b[0m\u001b[1;33m\u001b[0m\u001b[0m\n",
      "\u001b[1;31mTypeError\u001b[0m: loop of ufunc does not support argument 0 of type Float which has no callable log method"
     ]
    }
   ],
   "source": [
    "# Define the government consumption function\n",
    "def government_consumption(tau_gov, w=w):\n",
    "    return tau_gov * w * optimal_labor_supply(tau=tau_gov)\n",
    "\n",
    "# Define the worker utility function\n",
    "def worker_utility(tau_gov, kappa=kappa, alpha=alpha, nu=nu, w=w):\n",
    "    C = kappa + (1 - tau_gov) * w * optimal_labor_supply(tau=tau_gov)\n",
    "    G = government_consumption(tau_gov)\n",
    "    return np.log(C**alpha * G**(1 - alpha)) - nu * (optimal_labor_supply(tau=tau_gov)**2 / 2)\n",
    "\n",
    "result = worker_utility(0.5)\n",
    "result"
   ]
  },
  {
   "cell_type": "code",
   "execution_count": null,
   "metadata": {},
   "outputs": [],
   "source": [
    "# Define the government consumption function\n",
    "def government_consumption(tau_gov, w=w):\n",
    "    return tau_gov * w * optimal_labor_supply(tau=tau_gov)\n",
    "\n",
    "# Define the worker utility function\n",
    "def worker_utility(tau_gov, kappa=kappa, alpha=alpha, nu=nu, w=w):\n",
    "    C = kappa + (1 - tau_gov) * w * optimal_labor_supply(tau=tau_gov)\n",
    "    G = government_consumption(tau_gov)\n",
    "    return np.log(C**alpha * G**(1 - alpha)) - nu * (optimal_labor_supply(tau=tau_gov)**2 / 2)\n",
    "\n",
    "# Generate a grid of tau values\n",
    "tau_gov_values = np.linspace(0, 1, 100)\n",
    "\n",
    "# Create empty lists to store the values we are going to plot \n",
    "L_values = []\n",
    "G_values = []\n",
    "utility_values = []\n",
    "\n",
    "# Calculate L, G, and utility for each tau\n",
    "for tau_gov in tau_gov_values:\n",
    "    result = optimal_labor_supply(tau=tau_gov)\n",
    "    L_values.append(result)\n",
    "\n",
    "for tau_gov in tau_gov_values:\n",
    "    result = government_consumption(tau_gov)\n",
    "    G_values.append(result)\n",
    "\n",
    "for tau_gov in tau_gov_values:\n",
    "    result = worker_utility(tau_gov)\n",
    "    utility_values.append(result)\n",
    "\n",
    "# Plot the values we got for L, G, and utility as functions of tau\n",
    "plt.figure(figsize=(12, 8))                                             # set up plot\n",
    "\n",
    "plt.subplot(3, 1, 1)                                                    # plot of labour supply\n",
    "plt.plot(tau_gov_values, L_values)\n",
    "plt.ylabel('Optimal labor supply L*')\n",
    "\n",
    "plt.subplot(3, 1, 2)                                                    # plot of government Consumption\n",
    "plt.plot(tau_gov_values, G_values)\n",
    "plt.ylabel('Government consumption G')\n",
    "\n",
    "plt.subplot(3, 1, 3)                                                    # plot of worker utility\n",
    "plt.plot(tau_gov_values, utility_values)\n",
    "plt.xlabel('tau')\n",
    "plt.ylabel('Worker utility')\n",
    "\n",
    "plt.tight_layout()                                                      # make plot look better\n",
    "plt.show()                                                              # make plot show up"
   ]
  },
  {
   "cell_type": "code",
   "execution_count": null,
   "metadata": {},
   "outputs": [],
   "source": [
    "# Trash\n",
    "\n",
    "# Define the worker utility function\n",
    "def worker_utility(tau_gov, kappa=kappa, alpha=alpha, nu=nu, w=w):\n",
    "    C = kappa + (1 - tau_gov) * w * optimal_labor_supply(tau=tau_gov)\n",
    "    G = government_consumption(tau_gov)\n",
    "    CG_weighted = C**alpha * G**(1 - alpha)\n",
    "    if CG_weighted > 0:\n",
    "        return np.log(CG_weighted) - nu * (optimal_labor_supply(tau=tau_gov)**2 / 2)\n",
    "    else:\n",
    "        return 0\n",
    "    \n",
    "\n",
    "\n",
    "\n",
    "\n",
    "\n",
    "\n",
    "\n",
    "\n",
    "\n",
    "\n",
    "\n",
    "\n",
    "    "
   ]
  },
  {
   "attachments": {},
   "cell_type": "markdown",
   "metadata": {},
   "source": [
    "**Question 4:** Find the socially optimal tax rate $\\tau^{\\star}\\in(0,1)$ maximizing worker utility. Illustrate your result."
   ]
  },
  {
   "cell_type": "code",
   "execution_count": null,
   "metadata": {},
   "outputs": [],
   "source": [
    "# Define the objective function for finding optimal L which will be used to find optimal_tau\n",
    "def objective_function_gov(L, w, tau, alpha, kappa, nu):\n",
    "    C = kappa + (1 - tau) * w * L\n",
    "    utility = np.log(C**alpha * (tau * w * L)**(1 - alpha)) - nu * L**2 / 2\n",
    "    return -utility  # Minimize the negative of the utility function\n",
    "\n",
    "# Define the objective function for finding optimal tau by first finding the optimal L and plugging that in\n",
    "def objective_function_tau(tau, w, alpha, kappa, nu, L):\n",
    "    C = kappa + (1 - tau) * w * L\n",
    "    utility = np.log(C**alpha * (tau * w * L)**(1 - alpha)) - nu * L**2 / 2\n",
    "    return -utility  # Minimize the negative of the utility function\n",
    "\n",
    "# Define the bounds for L and tau\n",
    "L_bounds = (0, 24)\n",
    "tau_bounds = (0, 1)\n",
    "\n",
    "# Solve the optimization problem to find optimal L\n",
    "result_L = minimize_scalar(objective_function_gov, bounds=L_bounds, args=(w, tau, alpha, kappa, nu), method='bounded')\n",
    "optimal_L = result_L.x\n",
    "\n",
    "# Solve the optimization problem to find optimal tau\n",
    "result_tau = minimize_scalar(objective_function_tau, bounds=tau_bounds, args=(w, alpha, kappa, nu, optimal_L), method='bounded')\n",
    "optimal_tau = result_tau.x\n",
    "\n",
    "# Calculate the optimal government consumption\n",
    "G = optimal_tau * w * optimal_L\n",
    "\n",
    "# Print the result\n",
    "print(f\"Optimal tax rate: {optimal_tau}\")\n",
    "print(f\"Optimal labor supply: {optimal_L}\")\n",
    "print(f\"Optimal government consumption: {G}\")\n",
    "\n",
    "\n",
    "# For creating the plot:\n",
    "\n",
    "# Define the range of tax rates to plot\n",
    "tau_range = np.linspace(0, 1, 100)\n",
    "\n",
    "# Calculate worker utility for each tax rate by subbing in the tau_range and optimal_L\n",
    "C = kappa + (1 - tau_range) * w * optimal_L\n",
    "worker_utilities = np.log(C**alpha * (tau_range * w * optimal_L)**(1 - alpha)) - nu * optimal_L**2 / 2\n",
    "\n",
    "# Find the index of the maximum worker utility\n",
    "max_index = np.argmax(worker_utilities)\n",
    "\n",
    "# Plot the results making a point to show the max \n",
    "plt.plot(tau_range, worker_utilities)\n",
    "plt.scatter(tau_range[max_index], worker_utilities[max_index], color='red', label='Maximum Utility')\n",
    "plt.xlabel('Tax Rate (τ)')\n",
    "plt.ylabel('Worker Utility')\n",
    "plt.title('Optimal Tax Rate vs. Worker Utility')\n",
    "plt.grid(True)\n",
    "plt.legend()\n",
    "plt.show()\n"
   ]
  },
  {
   "attachments": {},
   "cell_type": "markdown",
   "metadata": {},
   "source": [
    "A more general preference formulation for the worker is:\n",
    "\n",
    "$$\n",
    "\\begin{align*}\n",
    "\\mathcal{V}(w,\\tau,G)&=\\max_{L\\in[0,24]}\\frac{\\left[ \\left( \\alpha C^{\\frac{\\sigma-1}{\\sigma}}+(1-\\alpha) G^{\\frac{\\sigma-1}{\\sigma}} \\right)^{\\frac{\\sigma}{1-\\sigma} }\\right]^{1-\\rho}-1}{1-\\rho}- \\nu\\frac{L^{1+\\varepsilon}}{1+\\varepsilon},\\,\\,\\,\\varepsilon,\\rho,\\sigma>0,\\,\\,\\,\\rho,\\sigma\\neq1\\\\&\\text{s.t.}\\\\&C=\\kappa+(1-\\tau)wL\n",
    "\\end{align*}    \n",
    "$$\n",
    "\n",
    "Optimal labor supply is now $L^{\\star}(\\tilde{w},G)$."
   ]
  },
  {
   "attachments": {},
   "cell_type": "markdown",
   "metadata": {},
   "source": [
    "Questions 5 and 6 must be answered with the general formulation, and for 2 different set of parameters:\n",
    "\n",
    "- Set 1:  $\\sigma = 1.001$, $\\rho = 1.001$ and $\\varepsilon = 1.0$.\n",
    "- Set 2:  $\\sigma = 1.5$, $\\rho = 1.5$ and $\\varepsilon = 1.0 $."
   ]
  },
  {
   "attachments": {},
   "cell_type": "markdown",
   "metadata": {},
   "source": [
    "**Question 5:** Find the $G$ that solves $G = \\tau w L^{\\star}((1-\\tau)w,G)$ using the $\\tau$ found in question 4.\n",
    "\n",
    "*Hint: First write code that solves the worker problem for given values of $G$ and $\\tau$. Then find the correct G based on this.*"
   ]
  },
  {
   "cell_type": "code",
   "execution_count": 36,
   "metadata": {},
   "outputs": [
    {
     "name": "stdout",
     "output_type": "stream",
     "text": [
      "Parameter Set: sigma=1.001, rho=1.001, epsilon=1.0\n",
      "Optimal L: 14.98\n",
      "Optimal G: 7.66\n",
      "\n",
      "Parameter Set: sigma=1.5, rho=1.5, epsilon=1.0\n",
      "Optimal L: 6.51\n",
      "Optimal G: 3.33\n",
      "\n"
     ]
    }
   ],
   "source": [
    "# take the base parameters as given from previous question(s)\n",
    "\n",
    "# Define the worker's preference parameter sets in a dictionary which we will iterate over\n",
    "parameter_sets = [\n",
    "    {\"sigma\": 1.001, \"rho\": 1.001, \"epsilon\": 1.0},\n",
    "    {\"sigma\": 1.5, \"rho\": 1.5, \"epsilon\": 1.0}\n",
    "]\n",
    "\n",
    "# Define the objective function for finding optimal L given G and τ defined previously\n",
    "def objective_function_L(L, w, tau, G, kappa, nu, alpha, sigma, rho, epsilon):\n",
    "    C = kappa + (1 - tau) * w * L\n",
    "    utility = (((alpha * C**((sigma - 1) / sigma) + (1 - alpha) * G**((sigma - 1) / sigma))**(sigma / (sigma - 1)))**(1 - rho) - 1) / (1 - rho) - nu * (L**(1 + epsilon)) / (1 + epsilon)\n",
    "    return -utility  # Minimize the negative of the utility function\n",
    "\n",
    "# Define the bounds for L\n",
    "L_bounds = (0, 24)\n",
    "\n",
    "# Iterate over parameter sets; solve\n",
    "for params in parameter_sets:\n",
    "    sigma = params[\"sigma\"]\n",
    "    rho = params[\"rho\"]\n",
    "    epsilon = params[\"epsilon\"]\n",
    "    \n",
    "    # Solve the optimization problem to find optimal L using optimal_tau\n",
    "    result_L = minimize_scalar(objective_function_L, bounds=L_bounds, args=(w, optimal_tau, G, kappa, nu, alpha, sigma, rho, epsilon), method='bounded')\n",
    "    optimal_L = result_L.x\n",
    "    \n",
    "    # Define the function to solve for G using optimal_L from optimization above and optimal_tau from previous solution\n",
    "    def equation_G(G, w, optimal_tau, optimal_L):\n",
    "        return G - optimal_tau * w * optimal_L\n",
    "    \n",
    "    # Solve for the corresponding G using the optimal_tau (from Q4) and optimal_L; also setting an initial guess of 0.1\n",
    "    result_G = fsolve(equation_G, x0=0.1, args=(w, optimal_tau, optimal_L))\n",
    "    optimal_G = result_G[0]\n",
    "    \n",
    "    # Print the results for each parameter set\n",
    "    print(f\"Parameter Set: sigma={sigma}, rho={rho}, epsilon={epsilon}\")\n",
    "    print(f\"Optimal L: {optimal_L:.2f}\")\n",
    "    print(f\"Optimal G: {optimal_G:.2f}\")\n",
    "    print()"
   ]
  },
  {
   "attachments": {},
   "cell_type": "markdown",
   "metadata": {},
   "source": [
    "**Question 6:** Find the socially optimal tax rate, $\\tau^{\\star}$, maximizing worker utility, while keeping $G = \\tau w L^{\\star}((1-\\tau)w,G)$."
   ]
  },
  {
   "cell_type": "code",
   "execution_count": null,
   "metadata": {},
   "outputs": [],
   "source": [
    "# Define the objective function to be minimized\n",
    "def objective(tau):\n",
    "    w_tilde = (1 - tau) * w\n",
    "    L_star = optimal_labor_supply(w_tilde)\n",
    "    G = tau * w * L_star\n",
    "    C = w * L_star - G\n",
    "    utility = np.log(C * alpha * G_star[0]**(1 - alpha)) - nu\n",
    "    return -utility\n",
    "\n",
    "# Run the optimizer\n",
    "result = minimize(objective, tau, method='Nelder-Mead')\n",
    "\n",
    "# Print the optimal tau\n",
    "print(f\"The optimal tau while keeping G is {result.x}\")"
   ]
  },
  {
   "attachments": {},
   "cell_type": "markdown",
   "metadata": {},
   "source": [
    "## 2. <a id='toc2_'></a>[Problem 2: Labor adjustment costs](#toc0_)"
   ]
  },
  {
   "attachments": {},
   "cell_type": "markdown",
   "metadata": {},
   "source": [
    "You own a hair salon. You employ hairdressers, $\\ell_t$, to produce haircuts, $y_t = \\ell_t$.\n",
    "\n",
    "The wage for each haridresser is $w$.\n",
    "\n",
    "The demand for haircuts implies that the price of haircuts you can charge is $p_t = \\kappa_t y_t^{-\\eta}$, where $\\kappa_t$ is a demand-shock and $\\eta \\in (0,1)$ measures the elasticity of demand.\n",
    "\n",
    "Profits are:\n",
    "\n",
    "$$\n",
    "\\Pi_t = p_t y_t - w \\ell_t = \\kappa_t \\ell_t^{1-\\eta} - w \\ell_t\n",
    "$$"
   ]
  },
  {
   "attachments": {},
   "cell_type": "markdown",
   "metadata": {},
   "source": [
    "Baseline parameters are:\n",
    "- $\\eta = 0.5$\n",
    "- $w = 1.0$"
   ]
  },
  {
   "attachments": {},
   "cell_type": "markdown",
   "metadata": {},
   "source": [
    "**Question 1:** Verify numerically that $\\ell_{t}=\\left(\\frac{(1-\\eta)\\kappa_{t}}{w}\\right)^{\\frac{1}{\\eta}}$ maximises profits, for $\\kappa\\in\\left\\{1.0 , 2.0\\right\\}$."
   ]
  },
  {
   "cell_type": "code",
   "execution_count": null,
   "metadata": {},
   "outputs": [],
   "source": [
    "#Set Parameters\n",
    "\n",
    "eta = 0.5\n",
    "w = 1.0\n",
    "\n",
    "def calculate_profits(kappa, l):\n",
    "    return kappa * l ** (1 - eta) - w * l\n",
    "\n",
    "def find_optimal_l(kappa):\n",
    "    optimal_l = ((1 - eta) * kappa / w) ** (1 / eta)\n",
    "    max_profit = calculate_profits(kappa, optimal_l)\n",
    "    return optimal_l, max_profit\n",
    "\n",
    "kappas = [1.0, 2.0]\n",
    "results = {}\n",
    "\n",
    "for kappa in kappas:\n",
    "    optimal_l, max_profit = find_optimal_l(kappa)\n",
    "    results[kappa] = (optimal_l, max_profit)\n",
    "\n",
    "for kappa, (optimal_l, max_profit) in results.items():\n",
    "    print(f\"For kappa = {kappa}:\")\n",
    "    print(f\"Optimal l: {optimal_l}\")\n",
    "    print(f\"Max profit: {max_profit}\")\n",
    "    print()"
   ]
  },
  {
   "attachments": {},
   "cell_type": "markdown",
   "metadata": {},
   "source": [
    "We now consider a *dynamic* version of the model.\n",
    "\n",
    "* The demand-shock is a so-called AR(1) in logs, \n",
    "\n",
    "$$\n",
    "\\log \\kappa_{t} = \\rho \\log \\kappa_{t-1} + \\epsilon_{t},\\,\\,\\, \\epsilon_{t+1} \\sim \\mathcal{N}(-0.5\\sigma_{\\epsilon}^2,\\sigma_{\\epsilon})\n",
    "$$\n",
    "\n",
    "* Any hiring or firing implies a fixed adjustment cost, $\\iota > 0 $.\n",
    "* Future profits are discounted with a monthly factor of $R \\in (0,1)$.\n",
    "\n",
    "The initial demand shock is $\\kappa_{-1} = 1$ and the planning horizon is 10 years, i.e. 120 months so $t \\in \\{0,1,2,\\dots,119\\}$. Initially you don't have any employees, $\\ell_{-1}=0$"
   ]
  },
  {
   "attachments": {},
   "cell_type": "markdown",
   "metadata": {},
   "source": [
    "\n",
    "The *ex post* value of the salon is *conditional* on the shock series is:\n",
    "\n",
    "$$\n",
    "h(\\epsilon_0,\\epsilon_1,\\dots,\\epsilon_{119}) = \\left[\\sum_{t=0}^{119}R^{-t}\\left[\\kappa_{t}\\ell_{t}^{1-\\eta}-w\\ell_{t}-\\boldsymbol{1}_{\\ell_{t}\\neq\\ell_{t-1}}\\iota\\right]\\right]\n",
    "$$\n",
    "\n",
    "The *ex ante* expected value of the salon can be approximated by\n",
    "\n",
    "$$\n",
    "H = \\mathbb{E}[h(\\epsilon_0,\\epsilon_1,\\dots,\\epsilon_{119})] \\approx \\frac{1}{K}\\sum_{k=0}^{K} h(\\epsilon_0^k,\\epsilon_1^k,\\dots,\\epsilon_{119}^k)\n",
    "$$\n",
    "\n",
    "where each $k\\in\\{0,1,\\dots,K-1\\}$ is a random shock series. Maximizing profitability means maximizing $H$.\n"
   ]
  },
  {
   "attachments": {},
   "cell_type": "markdown",
   "metadata": {},
   "source": [
    "Baseline parameters are: \n",
    "\n",
    "- $\\rho = 0.90$\n",
    "- $\\iota = 0.01$\n",
    "- $\\sigma_{\\epsilon} = 0.10$\n",
    "- $R = \\left(1+0.01\\right)^{1/12}$"
   ]
  },
  {
   "attachments": {},
   "cell_type": "markdown",
   "metadata": {},
   "source": [
    "**Question 2:** Calculate $H$ if the policy  $\\ell_{t}=\\left(\\frac{(1-\\eta)\\kappa_{t}}{w}\\right)^{\\frac{1}{\\eta}}$ from question 1 is followed. Choose $K$ so the approximation is good enough to not affect your results substantially."
   ]
  },
  {
   "cell_type": "code",
   "execution_count": null,
   "metadata": {},
   "outputs": [],
   "source": [
    "#Set baseline parameters (Note: eta and w are set in Q1)\n",
    "rho = 0.9\n",
    "iota = 0.01\n",
    "sigma_epsilon = 0.1\n",
    "R = (1 + 0.01)**(1 / 12)\n",
    "\n",
    "# Simulation parameters\n",
    "K = 10000  # Number of shock series to simulate\n",
    "\n",
    "# Generate shock series using the normal distribution as provided\n",
    "epsilon_series = np.random.normal(-0.5 * sigma_epsilon**2, sigma_epsilon, (K, 120))\n",
    "\n",
    "# Initialize variables\n",
    "l = np.zeros((K, 120))\n",
    "kappa = np.zeros((K, 120))\n",
    "kappa[:, 0] = 1.0\n",
    "\n",
    "# Calculate l_t and kappa_t for each time period and shock series\n",
    "for t in range(1, 120):\n",
    "    log_kappa = np.log(kappa[:, t - 1])\n",
    "    log_kappa_next = rho * log_kappa + epsilon_series[:, t - 1]\n",
    "    kappa[:, t] = np.exp(log_kappa_next)\n",
    "    l[:, t] = ((1 - eta) * kappa[:, t] / w)**(1 / eta)\n",
    "\n",
    "# Calculate h(epsilon_0^k, epsilon_1^k, ..., epsilon_119^k) for each shock series\n",
    "discount_factors = R**(-np.arange(120))\n",
    "h_values = np.sum(discount_factors * (kappa * l**(1 - eta) - w * l - (l != np.roll(l, 1, axis=1))* iota), axis=1)\n",
    "                                                              # the np.roll line represents a comparison between current employment l \n",
    "                                                              # and lagged employment shifted by one time period\n",
    "                                                              # used as an indicator function to determine whether there is a change in employment level,\n",
    "                                                              # from previous period to current period\n",
    "                                                              # helps identify periods where firing or hiring occurs; incorporates fixed adjustment cost into ex post value\n",
    "\n",
    "\n",
    "# Calculate the approximate expected value H\n",
    "H = np.mean(h_values)\n",
    "\n",
    "print(f\"Approximated ex ante expected value H: {H}\")"
   ]
  },
  {
   "attachments": {},
   "cell_type": "markdown",
   "metadata": {},
   "source": [
    "Next, we consider policies on the form:\n",
    "\n",
    "$$\n",
    "\n",
    "\\ell_{t}=\\begin{cases}\n",
    "\\ell_t^{\\ast}  & \\text{if }\\left|\\ell_{t-1}-\\ell_t^{\\ast} \\right|>\\Delta\\\\\n",
    "\\ell_{t-1} & \\text{else }\n",
    "\\end{cases}\n",
    "\\\\\n",
    "\\text{where}\\,\\,\\ell_t^{\\ast} = \\left(\\frac{(1-\\eta)\\kappa_{t}}{w}\\right)^{\\frac{1}{\\eta}} \\\\\n",
    "\n",
    "$$\n",
    "With $\\Delta \\geq 0$ and $\\Delta = 0$ being the previous policy.\n"
   ]
  },
  {
   "attachments": {},
   "cell_type": "markdown",
   "metadata": {},
   "source": [
    "\n",
    "**Question 3:** Calculate $H$ if the policy above was followed with $\\Delta = 0.05$. Does it improve profitability?"
   ]
  },
  {
   "cell_type": "code",
   "execution_count": null,
   "metadata": {},
   "outputs": [],
   "source": [
    "# Holding baseline parameters constant from previous question and adding delta\n",
    "delta = 0.05  # Policy change parameter\n",
    "\n",
    "# Simulation parameters\n",
    "K = 10000  # Number of shock series to simulate\n",
    "\n",
    "# Generate shock series using the normal distribution as provided\n",
    "epsilon_series = np.random.normal(-0.5 * sigma_epsilon**2, sigma_epsilon, (K, 120))\n",
    "\n",
    "# Initialize variables\n",
    "l = np.zeros((K, 120))\n",
    "kappa = np.zeros((K, 120))\n",
    "kappa[:, 0] = 1.0\n",
    "\n",
    "# Calculate l_t and kappa_t for each time period and shock series\n",
    "for t in range(1, 120):\n",
    "    log_kappa = np.log(kappa[:, t - 1])\n",
    "    log_kappa_next = rho * log_kappa + epsilon_series[:, t - 1]\n",
    "    kappa[:, t] = np.exp(log_kappa_next)\n",
    "    \n",
    "\n",
    "    # Calculate l_t based on the new policy\n",
    "    l_star = ((1 - eta) * kappa [:, t] / w)**(1 / eta)\n",
    "    l_change = np.abs(l[:, t - 1] - l_star)\n",
    "    l[:, t] = np.where(l_change > delta, l_star, l[:, t - 1]) # using the np.where conditional function, \n",
    "                                                              # check whether condition (1) is true, \n",
    "                                                              # value to then be assigned (2) if true  \n",
    "                                                              # and value to be assigned if false (3)                                                          \n",
    "\n",
    "# Calculate h(epsilon_0^k, epsilon_1^k, ..., epsilon_119^k) for each shock series\n",
    "discount_factors = R**(-np.arange(120))\n",
    "h_values = np.sum(discount_factors * (kappa * l**(1 - eta) - w * l - (l != np.roll(l, 1, axis=1)) * iota), axis=1) \n",
    "\n",
    "# Calculate the approximate expected value H\n",
    "H = np.mean(h_values)\n",
    "\n",
    "print(f\"Approximated ex ante expected value H: {H}\")"
   ]
  },
  {
   "attachments": {},
   "cell_type": "markdown",
   "metadata": {},
   "source": [
    "The policy check $l_{change}$ > $\\Delta$ compares the absolute difference between $l_{t-1}$ and $l^{star}$ with the threshold $\\Delta$. If the difference is greater than $\\Delta$, $l_{t}$ is set to $l_{star}$, otherwise, it retains the previous value $l_{t-1}$.\n",
    "\n",
    "As you can see from running the code, by adding the $\\Delta$ parameter and incorporating this policy, we are able to achieve a higher profit than previously when $\\Delta$ = 0"
   ]
  },
  {
   "attachments": {},
   "cell_type": "markdown",
   "metadata": {},
   "source": [
    "**Question 4:** Find the optimal $\\Delta$ maximizing $H$. Illustrate your result."
   ]
  },
  {
   "cell_type": "code",
   "execution_count": null,
   "metadata": {},
   "outputs": [],
   "source": [
    "#Baseline parameters are constant from previous question(s)\n",
    "\n",
    "# Simulation parameters\n",
    "K = 10000  # Number of shock series to simulate\n",
    "delta_values = np.linspace(0, 0.25, 100)  # Range of delta values to test\n",
    "\n",
    "# Generate shock series using the normal distribution as provided\n",
    "epsilon_series = np.random.normal(-0.5 * sigma_epsilon**2, sigma_epsilon, (K, 120))\n",
    "\n",
    "# Initialize variables\n",
    "kappa = np.zeros((K, 120))\n",
    "kappa[:, 0] = 1.0\n",
    "\n",
    "# Calculate labr_t and kappa_t for each time period and shock series\n",
    "for t in range(1, 120):\n",
    "    log_kappa = np.log(kappa[:, t - 1])\n",
    "    log_kappa_next = rho * log_kappa + epsilon_series[:, t - 1]\n",
    "    kappa[:, t] = np.exp(log_kappa_next)\n",
    "\n",
    "# Calculate h(epsilon_0^k, epsilon_1^k, ..., epsilon_119^k) for each shock series\n",
    "discount_factors = R**(-np.arange(120))\n",
    "h_values = np.zeros(len(delta_values), dtype=float)                         #initialize array of zeros for h_values whose length is determined by # of delta values analayzed\n",
    "\n",
    "for i, delta in enumerate(delta_values):\n",
    "    l = np.zeros((K, 120))                                                  # store the values of l_t for each shock series and time period\n",
    "    l_star = ((1 - eta) * kappa / w)**(1 / eta)                             # from q3\n",
    "    l[:, 0] = l_star[:, 0]                                                  # initialize employment level in 1st time period = desired level based on initial kappa\n",
    "\n",
    "    for t in range(1, 120):                                                 # begin nested loop for each time period\n",
    "        l_change = np.abs(l[:, t - 1] - l_star[:, t])                       # as before, calculate the absolute difference and store in l_change\n",
    "        l[:, t] = np.where(l_change > delta, l_star[:, t], l[:, t - 1])     # updating l_t values given the policy defined by condition statement\n",
    "\n",
    "    h_values[i] = np.mean(\n",
    "        np.sum(discount_factors * (kappa * l**(1 - eta) - w * l - (l != np.roll(l, 1, axis=1)) * iota), axis=1)\n",
    "    )\n",
    "\n",
    "                                                                            # calculating H and h_values simultaneously by taking the mean of the sum of the expression defined in previous questions(s)\n",
    "\n",
    "\n",
    "window_size = 5\n",
    "moving_average = np.convolve(h_values, np.ones(window_size) / window_size, mode='valid')        # applying a moving average to our h_values by the convolution approach between... \n",
    "                                                                                                # the h_values array and the weight array \n",
    "\n",
    "\n",
    "# Find the optimal delta maximizing H\n",
    "optimal_delta = delta_values[np.argmax(h_values)]                           # stores the optimal delta that maximizes H\n",
    "max_h = np.max(h_values)                                                    # returns the max value in the h_values array; highest value of H among the delta's\n",
    "\n",
    "\n",
    "print(f\"Optimal Delta: {optimal_delta}\")\n",
    "print(f\"Maximum H: {max_h}\")\n",
    "\n",
    "# Plot the results\n",
    "plt.figure(figsize=(8, 6))\n",
    "plt.plot(delta_values, h_values, label='Original')\n",
    "plt.plot(delta_values[window_size - 1:], moving_average, label='Moving Average')\n",
    "plt.xlabel(\"Delta\")\n",
    "plt.ylabel(\"H\")\n",
    "plt.title(\"Effect of Delta on H\")\n",
    "plt.legend()\n",
    "plt.show()\n"
   ]
  },
  {
   "attachments": {},
   "cell_type": "markdown",
   "metadata": {},
   "source": [
    "You can see from the graph displayed above that the adjustment of the policy or thereby the $\\Delta$ values has an initial increasing effect up to a global maximum after which increasing $\\Delta$ any further has negative effects on $H$; there exists an inverse-U relationship between $\\Delta$ and $H$ with a long-tail on the right side approaching an 'asymptote' which we can visualize by simply adjusting the upper-bound of $\\Delta$ from 0.25 to whatever value we see fit.\n",
    "\n",
    "By applying a moving average, we are able to create a smoothed curve that gives a better representation of the overall relationship between $\\Delta$ and $H$. It can provide a clearer understanding of how $H$ varies with different $\\Delta$ values by removing short-term fluctuations and emphasizing the long-term trends.\n",
    "\n",
    "This optimal $\\Delta$ is approximately 0.075 at a maximum $H$ value of ~ 28.35."
   ]
  },
  {
   "attachments": {},
   "cell_type": "markdown",
   "metadata": {},
   "source": [
    "\n",
    "**Question 5:** Suggest an alternative policy you believe might improve profitability. Implement and test your policy.\n",
    "\n"
   ]
  },
  {
   "attachments": {},
   "cell_type": "markdown",
   "metadata": {},
   "source": [
    " An alternative policy:\n",
    " \n",
    " Introduce a dynamic adjustment to the wage rate w based on the previous period's employment level. The idea behind this policy is to adjust the wage rate in response to changes in employment, aiming to optimize labor allocation and enhance profitability."
   ]
  },
  {
   "cell_type": "code",
   "execution_count": null,
   "metadata": {},
   "outputs": [],
   "source": [
    "#Baseline parameters are constant from previous question(s)\n",
    "\n",
    "# Simulation parameters\n",
    "K = 10000  # Number of shock series to simulate\n",
    "delta_values = np.linspace(0, 0.25, 100)  # Range of delta values to test\n",
    "\n",
    "# Generate shock series using the normal distribution as provided\n",
    "epsilon_series = np.random.normal(-0.5 * sigma_epsilon**2, sigma_epsilon, (K, 120))\n",
    "\n",
    "# Initialize variables\n",
    "kappa = np.zeros((K, 120))\n",
    "kappa[:, 0] = 1.0\n",
    "\n",
    "# Calculate labr_t and kappa_t for each time period and shock series\n",
    "for t in range(1, 120):\n",
    "    log_kappa = np.log(kappa[:, t - 1])\n",
    "    log_kappa_next = rho * log_kappa + epsilon_series[:, t - 1]\n",
    "    kappa[:, t] = np.exp(log_kappa_next)\n",
    "\n",
    "# Calculate h(epsilon_0^k, epsilon_1^k, ..., epsilon_119^k) for each shock series\n",
    "discount_factors = R**(-np.arange(120))\n",
    "h_values = np.zeros(len(delta_values), dtype=float)\n",
    "\n",
    "optimal_wage_adjustments = np.zeros(len(delta_values), dtype=float)  # Initialize array to store optimal wage adjustments\n",
    "\n",
    "for i, delta in enumerate(delta_values):\n",
    "    l = np.zeros((K, 120))  # store the values of l_t for each shock series and time period\n",
    "    l_star = ((1 - eta) * kappa / w)**(1 / eta)  # from q3\n",
    "    l[:, 0] = l_star[:, 0]  # initialize employment level in 1st time period = desired level based on initial kappa\n",
    "\n",
    "    for t in range(1, 120):  # begin nested loop for each time period\n",
    "        l_change = np.abs(l[:, t - 1] - l_star[:, t])  # as before, calculate the absolute difference and store in l_change\n",
    "        l[:, t] = np.where(l_change > delta, l_star[:, t], l[:, t - 1])  # updating l_t values given the policy defined by condition statement\n",
    "\n",
    "    # Calculate wage adjustment\n",
    "    wage_adjustment = w * l - kappa * l**(1 - eta)\n",
    "\n",
    "    h_values[i] = np.mean(\n",
    "        np.sum(discount_factors * (kappa * l**(1 - eta) - w * l - (l != np.roll(l, 1, axis=1)) * iota), axis=1)\n",
    "    )\n",
    "\n",
    "    # Calculate optimal wage adjustment that maximizes H\n",
    "    optimal_wage_adjustments[i] = np.mean(wage_adjustment)\n",
    "\n",
    "# Find the optimal delta maximizing H\n",
    "optimal_delta = delta_values[np.argmax(h_values)]  # stores the optimal delta that maximizes H\n",
    "max_h = np.max(h_values)  # returns the max value in the h_values array; highest value of H among the delta's\n",
    "optimal_wage_adjustment = optimal_wage_adjustments[np.argmax(h_values)]  # optimal wage adjustment maximizing H\n",
    "\n",
    "print(f\"Optimal Delta: {optimal_delta}\")\n",
    "print(f\"Maximum H: {max_h}\")\n",
    "print(f\"Optimal Wage Adjustment: {optimal_wage_adjustment}\")\n",
    "\n",
    "# Plot the results\n",
    "\n",
    "# Create a 3D figure\n",
    "fig = plt.figure(figsize=(10, 8))\n",
    "ax = fig.add_subplot(111, projection='3d')\n",
    "\n",
    "# Scatter plot of delta, wage_adjustment, and h_values\n",
    "ax.scatter(delta_values, optimal_wage_adjustments, h_values, c=h_values, cmap='viridis')\n",
    "\n",
    "# Set labels and title\n",
    "ax.set_xlabel('Delta')\n",
    "ax.set_ylabel('Wage Adjustment')\n",
    "ax.set_zlabel('H')\n",
    "ax.set_title('Effect of Delta and Wage Adjustment on H')\n",
    "\n",
    "# Show the plot\n",
    "plt.show()"
   ]
  },
  {
   "attachments": {},
   "cell_type": "markdown",
   "metadata": {},
   "source": [
    "The policy choice of wage adjustment in our model aims to maximize the value of the objective function `H`. By optimizing the wage adjustment, we seek to find the point where `H` is maximized, indicating its highest level of profitability.\n",
    "\n",
    "The optimal wage adjustment obtained through our analysis provides several benefits. Firstly, it allows the firm to align labor costs more closely with the desired employment level ($\\ell^{star}$) based on the demand-shock variable ($\\kappa$). This alignment helps to achieve greater efficiency in resource allocation, as the wage adjustment incentivizes the desired employment level, reducing the gap between actual and desired employment.\n",
    "\n",
    "The optimal wage adjustment positively impacts profitability, with a larger max $H$ in this question. By adjusting wages in response to deviations from the desired employment level, the firm can enhance labor utilization and productivity, leading to improved overall profitability.\n",
    "\n",
    "Furthermore, the policy choice of wage adjustment reflects a dynamic approach to managing labor costs over time. As economic conditions change and the firm's desired employment level evolves, the wage adjustment allows for flexibility in adapting to these changes. This adaptability contributes to maintaining a competitive advantage by optimizing labor resource allocation in a dynamic business environment as we had noted earlier.\n",
    "\n",
    "*Note: You can see from our code that the optimal delta and the optimal wage adjustment represent different parameters in the model, and they are optimized independently to maximize different objectives, but our shown in the 3D scatter plot to assess their behaviour*"
   ]
  },
  {
   "attachments": {},
   "cell_type": "markdown",
   "metadata": {},
   "source": [
    "## 3. <a id='toc3_'></a>[Problem 3: Global optimizer with refined multi-start](#toc0_)"
   ]
  },
  {
   "attachments": {},
   "cell_type": "markdown",
   "metadata": {},
   "source": [
    "We consider the Griewank function:\n",
    "\n",
    "$$ f(\\boldsymbol{x}) = \\sum^n_{i=1} \\frac{x^2_i}{4000}-\\prod^n_{i=1}\\cos\\left(\\frac{x_i}{\\sqrt{i}}\\right)+1$$\n",
    "\n",
    "The **global minimum** of this function is $f(0,0) = 0$ (remember: $\\cos(0)=1$).<br>\n",
    "But the function also have a lot of **local minima**."
   ]
  },
  {
   "cell_type": "code",
   "execution_count": null,
   "metadata": {},
   "outputs": [],
   "source": [
    "def griewank(x):\n",
    "    return griewank_(x[0],x[1])\n",
    "    \n",
    "def griewank_(x1,x2):\n",
    "    A = x1**2/4000 + x2**2/4000\n",
    "    B = np.cos(x1/np.sqrt(1))*np.cos(x2/np.sqrt(2))\n",
    "    return A-B+1"
   ]
  },
  {
   "attachments": {},
   "cell_type": "markdown",
   "metadata": {},
   "source": [
    "A **refined global optimizer with multi-start** is:\n",
    "\n",
    "1. Choose *bounds* for $\\mathbf{x}$ and *tolerance* $\\tau > 0$.\n",
    "2. Choose number of *warm-up iterations*, $\\underline{K} > 0$ and *maximum number of iterations*, $K > \\underline{K}$.\n",
    "3. In each iteration for $k \\in \\{0,1,\\dots,K-1\\}$:\n",
    "\n",
    "    A. Draw random $\\mathbf{x}^k$ uniformly within chosen bounds.\n",
    "\n",
    "    B. If $k < \\underline{K}$ go to step E.\n",
    "\n",
    "    C. Calculate $\\chi^k = 0.50\\cdot\\frac{2}{1+\\exp((k-\\underline{K})/100)}$  \n",
    "\n",
    "    D. Set $\\mathbf{x}^{k0} = \\chi^k \\mathbf{x}^k + (1-\\chi^k)\\mathbf{x}^{\\ast} $\n",
    "\n",
    "    E. Run optimizer with $\\mathbf{x}^{k0}$ as initial guess and $\\mathbf{x}^{k\\ast}$ as result.\n",
    "\n",
    "    F. Set $\\mathbf{x}^{\\ast} = \\mathbf{x}^{k\\ast}$ if $k = 0$ or $f(\\mathbf{x}^{k\\ast}) < f(\\mathbf{x}^{\\ast})$\n",
    "\n",
    "    G. If $f(\\mathbf{x}^{\\ast}) < \\tau$ go to step 4.\n",
    "\n",
    "4. Return the result $\\mathbf{x}^{\\ast}$."
   ]
  },
  {
   "attachments": {},
   "cell_type": "markdown",
   "metadata": {},
   "source": [
    "As settings we choose:\n",
    "\n",
    "* $x_1,x_2 \\in  [-600,600]$\n",
    "* $\\tau = 10^{-8}$\n",
    "* $\\underline{K}=10$\n",
    "* $K=1000$\n",
    "\n",
    "The optimizer in Step 3.E is `BFGS` with a tolerance of $\\tau$."
   ]
  },
  {
   "attachments": {},
   "cell_type": "markdown",
   "metadata": {},
   "source": [
    "**Question 1:** Implement the refined global optimizer with multi-start. Illustrate how the effective initial guesses $\\mathbf{x}^{k0}$ vary with the iteration counter $k$."
   ]
  },
  {
   "cell_type": "code",
   "execution_count": null,
   "metadata": {},
   "outputs": [],
   "source": [
    "#Implementing the refined global optimizer with multi-start:\n",
    "\n",
    "\n",
    "# step 1: Set bounds and tolerances \n",
    "bounds_given = (-600,600)\n",
    "tolerance_given = 0.00000001\n",
    "\n",
    "# step 2: Set warm-up iterations and maximum number of iterations \n",
    "num_warmup_iters_given = 10\n",
    "num_max_iters_given = 1000\n",
    "\n",
    "# step 3: Defining the refined_global_opimizer according to the algorithm \n",
    "def refined_global_optimizer_griewank(bounds = bounds_given,\n",
    "                                      tolerance = tolerance_given,\n",
    "                                      num_warmup_iters = num_warmup_iters_given,\n",
    "                                      num_max_iters = num_max_iters_given):\n",
    "    number_of_iterations = 0                                                    #setting up counter for iterations\n",
    "    eff_initial_guesses_list = []                                               #setting up empty list to store values\n",
    "    current_best = None\n",
    "\n",
    "    for k in range(num_max_iters):\n",
    "        x_k = np.random.uniform(bounds[0], bounds[1], size=len(bounds))         #step 3A\n",
    "\n",
    "        if k >= num_warmup_iters:\n",
    "            chi_k = 0.5 * (2/(1 + np.exp((k - num_warmup_iters) / 100)))        #step 3C\n",
    "            x_k0 = chi_k * x_k + (1-chi_k) * current_best                       #step 3D\n",
    "        else:                                                                   \n",
    "            x_k0 = x_k                                                          #step 3B\n",
    "        eff_initial_guesses_list.append(x_k0)                                   #appending effective initial guesses to the list\n",
    "        number_of_iterations += 1                                               #adding to counter of iterations\n",
    "\n",
    "        result = minimize(griewank, x_k0, method='BFGS', tol=tolerance)         #step 3E\n",
    "        x_kstar = result.x\n",
    "\n",
    "        if k == 0 or griewank(x_kstar) < griewank(current_best):                #step 3F\n",
    "            current_best = x_kstar\n",
    "\n",
    "        if griewank(current_best) < tolerance:                                  #step 3G\n",
    "            break\n",
    "\n",
    "    # step 4: Returning the result \n",
    "    return current_best, eff_initial_guesses_list, number_of_iterations\n",
    "\n",
    "\n",
    "# Call the refined_global_optimizer_griewank function and print the solution it found\n",
    "Best_result, eff_initial_guesses_global_list, number_of_iterations = refined_global_optimizer_griewank()\n",
    "print(\"The global minimum found by the algorithm is:\", Best_result)\n",
    "print(\"The number of iterations it took the code to find a minimum was:\", number_of_iterations)"
   ]
  },
  {
   "cell_type": "code",
   "execution_count": null,
   "metadata": {},
   "outputs": [],
   "source": [
    "# Setting up a plot to show how the initial guesses x_k0 vary with the progress of the iteration counter k:\n",
    "\n",
    "\n",
    "# turning the list of effective initial guesses into a numpy-array\n",
    "eff_initial_guesses_global_list = np.array(eff_initial_guesses_global_list)\n",
    "\n",
    "# extracting the x1 and x2 values \n",
    "x1 = eff_initial_guesses_global_list[:, 0]\n",
    "x2 = eff_initial_guesses_global_list[:, 1]\n",
    "\n",
    "# plotting x1 and x2 values against each other and connecting the dots with a line from start to finish\n",
    "plt.figure                                                                                              # setting figure\n",
    "plt.scatter(x1, x2)                                                                                     # creating scatterplot\n",
    "plt.plot(x1[10:], x2[10:], '-o', linewidth=0.5)                                                         # creating a line plot over the top to connect the dots for the ones after multistart\n",
    "plt.plot(x1[0:10], x2[0:10], '-o', linewidth=0, color='red', label='Multi-start points')                # marking starting points red\n",
    "plt.plot(x1[-1], x2[-1], '-o', linewidth=0, color='yellow', label='End point')                          # marking end point yellow\n",
    "plt.xlabel('x1')                                                                                        # labeling axis\n",
    "plt.ylabel('x2')                                                                                        # labeling axis\n",
    "plt.title('Development of the effective initial guesses with increasing iteration counter')             # title\n",
    "plt.legend()                                                                                            # show the legend\n",
    "plt.show()                                                                                              # make plot show up"
   ]
  },
  {
   "attachments": {},
   "cell_type": "markdown",
   "metadata": {},
   "source": [
    "**Question 2:** Is it a better idea to set $\\underline{K} = 100$? Is the convergence faster?"
   ]
  },
  {
   "cell_type": "code",
   "execution_count": null,
   "metadata": {},
   "outputs": [],
   "source": [
    "# Creating a function to evaluate the performance of our refined_global_optimizer_griewank:\n",
    "\n",
    "\n",
    "def performance_evaluation_griewank(runs=20, warm_up_iterations = 10):\n",
    "\n",
    "    # Creating lists to store the number of iterations it took to find a sufficient minimum\n",
    "    time_to_run_list = []\n",
    "    iterations_to_converge_list = []\n",
    "    results_list = []\n",
    "\n",
    "    # Running through the refined_global_optimizer_griewank an collecting data\n",
    "    for _ in range(runs):\n",
    "        start_time = time.time()\n",
    "        rest_result, eff_initial_guesses_global_list, number_of_iterations = refined_global_optimizer_griewank(num_warmup_iters = warm_up_iterations)\n",
    "        end_time = time.time()\n",
    "        elapsed_time = end_time - start_time\n",
    "        time_to_run_list.append(elapsed_time)\n",
    "        iterations_to_converge_list.append(number_of_iterations)\n",
    "        results_list.append(rest_result)\n",
    "\n",
    "    # Calculating the mean of the data generated for time and iterations\n",
    "    mean_time = sum(time_to_run_list) / len(time_to_run_list)\n",
    "    mean_iterations = sum(iterations_to_converge_list) / len(iterations_to_converge_list)\n",
    "\n",
    "    # Calculating the mean euklidian distance from the global minimum (0,0)\n",
    "    euklidan_distance_to_0 = []\n",
    "    for result in results_list:\n",
    "        distance = math.sqrt((0-result[0])**2 + (0-result[1])**2)\n",
    "        euklidan_distance_to_0.append(distance)\n",
    "    mean_euklidian_distance = sum(euklidan_distance_to_0) / len(euklidan_distance_to_0)\n",
    "\n",
    "    # Printing out the results\n",
    "    print(\"The average time the function took to find a minimum (and append its results to variables) was:\", mean_time, \"seconds\")\n",
    "    print(\"The average number of iterations was:\", mean_iterations)\n",
    "    print(\"The average euklidian distance to the global minimum at (0,0) is:\", mean_euklidian_distance)"
   ]
  },
  {
   "cell_type": "code",
   "execution_count": null,
   "metadata": {},
   "outputs": [],
   "source": [
    "# Evaluating the performance of refined_global_optimizer_griewank with 10 warm-up iterations\n",
    "performance_evaluation_griewank(warm_up_iterations=10)"
   ]
  },
  {
   "cell_type": "code",
   "execution_count": null,
   "metadata": {},
   "outputs": [],
   "source": [
    "# Evaluating the performance of refined_global_optimizer_griewank with 100 warm-up iterations\n",
    "performance_evaluation_griewank(warm_up_iterations=100)"
   ]
  },
  {
   "attachments": {},
   "cell_type": "markdown",
   "metadata": {},
   "source": [
    "*Answer:* \n",
    "\n",
    "When we set $\\underline{K} = 10$ the code on average took about 1.9 seconds (on my slow PC) to converge after about 309 iterations (10 of those were random multi-start points). The  minimum found had an euklidian distance to the point of (0,0) of about 1.253e-8. \n",
    "\n",
    "When we set $\\underline{K} = 100$ the code on average took about 2.6 seconds to converge after about 404 iterations (100 of those were random multi-start points). The  minimum found had an euklidian distance to the point of (0,0) of about 1.246e-8. \n",
    "\n",
    "Depending on the seed set the above numbers do change a bit but generally tend to stay in the same ballpark. We can infer that when increasing the number of multi-start points the convergence does happen a bit quicker but the number of the multi-start point must obviously also be considered. It was due to this reason that the runs with 100 multi-start points did take longer than with 10. But using more multi-start points can be useful in other instances depending on the grid size to be searched. The accuracy of the final minimum found does not seem to be dependent on the number of multi-start points but rather on the tolerance provided to the optimizer (I guess this only applies though if you got enough random start points to eventually find your way to the global minimum)"
   ]
  }
 ],
 "metadata": {
  "kernelspec": {
   "display_name": "base",
   "language": "python",
   "name": "python3"
  },
  "language_info": {
   "codemirror_mode": {
    "name": "ipython",
    "version": 3
   },
   "file_extension": ".py",
   "mimetype": "text/x-python",
   "name": "python",
   "nbconvert_exporter": "python",
   "pygments_lexer": "ipython3",
   "version": "3.9.13"
  },
  "orig_nbformat": 4,
  "vscode": {
   "interpreter": {
    "hash": "8d3d87ccdefad26727745608b6e2c318ea0e6227948721763511471dc41e3e75"
   }
  }
 },
 "nbformat": 4,
 "nbformat_minor": 2
}
