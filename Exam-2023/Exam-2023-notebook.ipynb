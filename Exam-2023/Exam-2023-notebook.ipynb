{
 "cells": [
  {
   "attachments": {},
   "cell_type": "markdown",
   "metadata": {},
   "source": [
    "**Table of contents**<a id='toc0_'></a>    \n",
    "- 1. [Problem 1: Optimal taxation with government consumption](#toc1_)    \n",
    "- 2. [Problem 2: Labor adjustment costs](#toc2_)    \n",
    "- 3. [Problem 3: Global optimizer with refined multi-start](#toc3_)    \n",
    "\n",
    "<!-- vscode-jupyter-toc-config\n",
    "\tnumbering=true\n",
    "\tanchor=true\n",
    "\tflat=false\n",
    "\tminLevel=2\n",
    "\tmaxLevel=6\n",
    "\t/vscode-jupyter-toc-config -->\n",
    "<!-- THIS CELL WILL BE REPLACED ON TOC UPDATE. DO NOT WRITE YOUR TEXT IN THIS CELL -->"
   ]
  },
  {
   "cell_type": "code",
   "execution_count": 50,
   "metadata": {},
   "outputs": [],
   "source": [
    "# Import of needed packages \n",
    "import numpy as np\n",
    "import matplotlib.pyplot as plt\n",
    "from scipy.optimize import minimize\n",
    "\n",
    "# setting a seed\n",
    "np.random.seed(1986)"
   ]
  },
  {
   "attachments": {},
   "cell_type": "markdown",
   "metadata": {},
   "source": [
    "## 1. <a id='toc1_'></a>[Problem 1: Optimal taxation with government consumption](#toc0_)"
   ]
  },
  {
   "attachments": {},
   "cell_type": "markdown",
   "metadata": {},
   "source": [
    "\n",
    "Consider a worker choosing hours of labor, $L\\in[0,24]$, to maximize utility: \n",
    "\n",
    "$$\n",
    "\\begin{align*}\n",
    "V(w,\\tau,G)&=\\max_{L\\in[0,24]}\\ln\\left(C^{\\alpha}G^{1-\\alpha}\\right)-\\nu\\frac{L^{2}}{2}\\\\&\\text{s.t.}\\\\&C=\\kappa+(1-\\tau)wL\n",
    "\\end{align*}\n",
    "$$\n",
    "\n",
    "where \n",
    "\n",
    "* $C$ is *private* consumption with weight $\\alpha\\in(0,1)$.\n",
    "* $\\kappa > 0$ is the *free private* consumption component.\n",
    "* $C = (1-\\tau)wL$ is the *costly private* consumption component.\n",
    "* $w > 0 $ is the real wage.\n",
    "* $\\tau \\in (0,1)$ is the labor-income tax rate.\n",
    "* $G > 0 $ is *government* consumption with weight $1-\\alpha$.\n",
    "* $\\nu > 0$ is the disutility of labor scaling factor"
   ]
  },
  {
   "attachments": {},
   "cell_type": "markdown",
   "metadata": {},
   "source": [
    "\n",
    "The baseline parameters are:\n",
    "\n",
    "$$\n",
    "\\begin{align*}\n",
    "\\alpha &= 0.5\\\\\n",
    "\\kappa &= 1.0\\\\\n",
    "\\nu &= \\frac{1}{2\\cdot16^2} \\\\\n",
    "w &= 1.0 \\\\ \n",
    "\\tau &= 0.30 \\\\\n",
    "\\end{align*}\n",
    "$$"
   ]
  },
  {
   "attachments": {},
   "cell_type": "markdown",
   "metadata": {},
   "source": [
    "**Question 1:** Verify that the optimal labor supply choice is $L^{\\star}(\\tilde{w}) =\\frac{-\\kappa+\\sqrt{\\kappa^{2}+4\\frac{\\alpha}{\\nu}\\tilde{w}^2}}{2\\tilde{w}}$, where $\\tilde{w} = (1-\\tau)w$, for $G\\in\\left\\{1.0 , 2.0\\right\\}$."
   ]
  },
  {
   "cell_type": "code",
   "execution_count": 51,
   "metadata": {},
   "outputs": [],
   "source": [
    "# write your code here"
   ]
  },
  {
   "attachments": {},
   "cell_type": "markdown",
   "metadata": {},
   "source": [
    "**Question 2:** Illustrate how $L^{\\star}(\\tilde{w})$ depends on $w$."
   ]
  },
  {
   "cell_type": "code",
   "execution_count": 52,
   "metadata": {},
   "outputs": [],
   "source": [
    "# write your code here"
   ]
  },
  {
   "attachments": {},
   "cell_type": "markdown",
   "metadata": {},
   "source": [
    "\n",
    "We now consider a government, who chooses $\\tau$ and spend all of the taxes on government consumption so:\n",
    "\n",
    "$$\n",
    "G = \\tau w L^{\\star}((1-\\tau)w)\n",
    "$$\n",
    "\n",
    "**Question 3:** Plot the implied $L$, $G$ and worker utility for a grid of $\\tau$-values.\n"
   ]
  },
  {
   "cell_type": "code",
   "execution_count": 53,
   "metadata": {},
   "outputs": [],
   "source": [
    "# write your code here"
   ]
  },
  {
   "attachments": {},
   "cell_type": "markdown",
   "metadata": {},
   "source": [
    "**Question 4:** Find the socially optimal tax rate $\\tau^{\\star}\\in(0,1)$ maximizing worker utility. Illustrate your result."
   ]
  },
  {
   "cell_type": "code",
   "execution_count": 54,
   "metadata": {},
   "outputs": [],
   "source": [
    "# write your code here"
   ]
  },
  {
   "attachments": {},
   "cell_type": "markdown",
   "metadata": {},
   "source": [
    "A more general preference formulation for the worker is:\n",
    "\n",
    "$$\n",
    "\\begin{align*}\n",
    "\\mathcal{V}(w,\\tau,G)&=\\max_{L\\in[0,24]}\\frac{\\left[ \\left( \\alpha C^{\\frac{\\sigma-1}{\\sigma}}+(1-\\alpha) G^{\\frac{\\sigma-1}{\\sigma}} \\right)^{\\frac{\\sigma}{1-\\sigma} }\\right]^{1-\\rho}-1}{1-\\rho}- \\nu\\frac{L^{1+\\varepsilon}}{1+\\varepsilon},\\,\\,\\,\\varepsilon,\\rho,\\sigma>0,\\,\\,\\,\\rho,\\sigma\\neq1\\\\&\\text{s.t.}\\\\&C=\\kappa+(1-\\tau)wL\n",
    "\\end{align*}    \n",
    "$$\n",
    "\n",
    "Optimal labor supply is now $L^{\\star}(\\tilde{w},G)$."
   ]
  },
  {
   "attachments": {},
   "cell_type": "markdown",
   "metadata": {},
   "source": [
    "Questions 5 and 6 must be answered with the general formulation, and for 2 different set of parameters:\n",
    "\n",
    "- Set 1:  $\\sigma = 1.001$, $\\rho = 1.001$ and $\\varepsilon = 1.0$.\n",
    "- Set 2:  $\\sigma = 1.5$, $\\rho = 1.5$ and $\\varepsilon = 1.0 $."
   ]
  },
  {
   "attachments": {},
   "cell_type": "markdown",
   "metadata": {},
   "source": [
    "**Question 5:** Find the $G$ that solves $G = \\tau w L^{\\star}((1-\\tau)w,G)$ using the $\\tau$ found in question 4.\n",
    "\n",
    "*Hint: First write code that solves the worker problem for given values of $G$ and $\\tau$. Then find the correct G based on this.*"
   ]
  },
  {
   "cell_type": "code",
   "execution_count": 55,
   "metadata": {},
   "outputs": [],
   "source": [
    "# write your code here"
   ]
  },
  {
   "attachments": {},
   "cell_type": "markdown",
   "metadata": {},
   "source": [
    "**Question 6:** Find the socially optimal tax rate, $\\tau^{\\star}$, maximizing worker utility, while keeping $G = \\tau w L^{\\star}((1-\\tau)w,G)$."
   ]
  },
  {
   "cell_type": "code",
   "execution_count": 56,
   "metadata": {},
   "outputs": [],
   "source": [
    "# write your code here  "
   ]
  },
  {
   "attachments": {},
   "cell_type": "markdown",
   "metadata": {},
   "source": [
    "## 2. <a id='toc2_'></a>[Problem 2: Labor adjustment costs](#toc0_)"
   ]
  },
  {
   "attachments": {},
   "cell_type": "markdown",
   "metadata": {},
   "source": [
    "You own a hair salon. You employ hairdressers, $\\ell_t$, to produce haircuts, $y_t = \\ell_t$.\n",
    "\n",
    "The wage for each haridresser is $w$.\n",
    "\n",
    "The demand for haircuts implies that the price of haircuts you can charge is $p_t = \\kappa_t y_t^{-\\eta}$, where $\\kappa_t$ is a demand-shock and $\\eta \\in (0,1)$ measures the elasticity of demand.\n",
    "\n",
    "Profits are:\n",
    "\n",
    "$$\n",
    "\\Pi_t = p_t y_t - w \\ell_t = \\kappa_t \\ell_t^{1-\\eta} - w \\ell_t\n",
    "$$"
   ]
  },
  {
   "attachments": {},
   "cell_type": "markdown",
   "metadata": {},
   "source": [
    "Baseline parameters are:\n",
    "- $\\eta = 0.5$\n",
    "- $w = 1.0$"
   ]
  },
  {
   "attachments": {},
   "cell_type": "markdown",
   "metadata": {},
   "source": [
    "**Question 1:** Verify numerically that $\\ell_{t}=\\left(\\frac{(1-\\eta)\\kappa_{t}}{w}\\right)^{\\frac{1}{\\eta}}$ maximises profits, for $\\kappa\\in\\left\\{1.0 , 2.0\\right\\}$."
   ]
  },
  {
   "cell_type": "code",
   "execution_count": 57,
   "metadata": {},
   "outputs": [
    {
     "name": "stdout",
     "output_type": "stream",
     "text": [
      "For kappa = 1.0:\n",
      "Optimal l: 0.25\n",
      "Max profit: 0.25\n",
      "\n",
      "For kappa = 2.0:\n",
      "Optimal l: 1.0\n",
      "Max profit: 1.0\n",
      "\n"
     ]
    }
   ],
   "source": [
    "#Set Parameters\n",
    "\n",
    "eta = 0.5\n",
    "w = 1.0\n",
    "\n",
    "def calculate_profits(kappa, l):\n",
    "    return kappa * l ** (1 - eta) - w * l\n",
    "\n",
    "def find_optimal_l(kappa):\n",
    "    optimal_l = ((1 - eta) * kappa / w) ** (1 / eta)\n",
    "    max_profit = calculate_profits(kappa, optimal_l)\n",
    "    return optimal_l, max_profit\n",
    "\n",
    "kappas = [1.0, 2.0]\n",
    "results = {}\n",
    "\n",
    "for kappa in kappas:\n",
    "    optimal_l, max_profit = find_optimal_l(kappa)\n",
    "    results[kappa] = (optimal_l, max_profit)\n",
    "\n",
    "for kappa, (optimal_l, max_profit) in results.items():\n",
    "    print(f\"For kappa = {kappa}:\")\n",
    "    print(f\"Optimal l: {optimal_l}\")\n",
    "    print(f\"Max profit: {max_profit}\")\n",
    "    print()"
   ]
  },
  {
   "attachments": {},
   "cell_type": "markdown",
   "metadata": {},
   "source": [
    "We now consider a *dynamic* version of the model.\n",
    "\n",
    "* The demand-shock is a so-called AR(1) in logs, \n",
    "\n",
    "$$\n",
    "\\log \\kappa_{t} = \\rho \\log \\kappa_{t-1} + \\epsilon_{t},\\,\\,\\, \\epsilon_{t+1} \\sim \\mathcal{N}(-0.5\\sigma_{\\epsilon}^2,\\sigma_{\\epsilon})\n",
    "$$\n",
    "\n",
    "* Any hiring or firing implies a fixed adjustment cost, $\\iota > 0 $.\n",
    "* Future profits are discounted with a monthly factor of $R \\in (0,1)$.\n",
    "\n",
    "The initial demand shock is $\\kappa_{-1} = 1$ and the planning horizon is 10 years, i.e. 120 months so $t \\in \\{0,1,2,\\dots,119\\}$. Initially you don't have any employees, $\\ell_{-1}=0$"
   ]
  },
  {
   "attachments": {},
   "cell_type": "markdown",
   "metadata": {},
   "source": [
    "\n",
    "The *ex post* value of the salon is *conditional* on the shock series is:\n",
    "\n",
    "$$\n",
    "h(\\epsilon_0,\\epsilon_1,\\dots,\\epsilon_{119}) = \\left[\\sum_{t=0}^{119}R^{-t}\\left[\\kappa_{t}\\ell_{t}^{1-\\eta}-w\\ell_{t}-\\boldsymbol{1}_{\\ell_{t}\\neq\\ell_{t-1}}\\iota\\right]\\right]\n",
    "$$\n",
    "\n",
    "The *ex ante* expected value of the salon can be approximated by\n",
    "\n",
    "$$\n",
    "H = \\mathbb{E}[h(\\epsilon_0,\\epsilon_1,\\dots,\\epsilon_{119})] \\approx \\frac{1}{K}\\sum_{k=0}^{K} h(\\epsilon_0^k,\\epsilon_1^k,\\dots,\\epsilon_{119}^k)\n",
    "$$\n",
    "\n",
    "where each $k\\in\\{0,1,\\dots,K-1\\}$ is a random shock series. Maximizing profitability means maximizing $H$.\n"
   ]
  },
  {
   "attachments": {},
   "cell_type": "markdown",
   "metadata": {},
   "source": [
    "Baseline parameters are: \n",
    "\n",
    "- $\\rho = 0.90$\n",
    "- $\\iota = 0.01$\n",
    "- $\\sigma_{\\epsilon} = 0.10$\n",
    "- $R = \\left(1+0.01\\right)^{1/12}$"
   ]
  },
  {
   "attachments": {},
   "cell_type": "markdown",
   "metadata": {},
   "source": [
    "**Question 2:** Calculate $H$ if the policy  $\\ell_{t}=\\left(\\frac{(1-\\eta)\\kappa_{t}}{w}\\right)^{\\frac{1}{\\eta}}$ from question 1 is followed. Choose $K$ so the approximation is good enough to not affect your results substantially."
   ]
  },
  {
   "cell_type": "code",
   "execution_count": 58,
   "metadata": {},
   "outputs": [
    {
     "name": "stdout",
     "output_type": "stream",
     "text": [
      "Approximated ex ante expected value H: 27.338008195069904\n"
     ]
    }
   ],
   "source": [
    "#Set baseline parameters (Note: eta and w are set in Q1)\n",
    "rho = 0.9\n",
    "iota = 0.01\n",
    "sigma_epsilon = 0.1\n",
    "R = (1 + 0.01)**(1 / 12)\n",
    "\n",
    "# Simulation parameters\n",
    "K = 10000  # Number of shock series to simulate\n",
    "\n",
    "# Generate shock series using the normal distribution as provided\n",
    "epsilon_series = np.random.normal(-0.5 * sigma_epsilon**2, sigma_epsilon, (K, 120))\n",
    "\n",
    "# Initialize variables\n",
    "l = np.zeros((K, 120))\n",
    "kappa = np.zeros((K, 120))\n",
    "kappa[:, 0] = 1.0\n",
    "\n",
    "# Calculate l_t and kappa_t for each time period and shock series\n",
    "for t in range(1, 120):\n",
    "    log_kappa = np.log(kappa[:, t - 1])\n",
    "    log_kappa_next = rho * log_kappa + epsilon_series[:, t - 1]\n",
    "    kappa[:, t] = np.exp(log_kappa_next)\n",
    "    l[:, t] = ((1 - eta) * kappa[:, t] / w)**(1 / eta)\n",
    "\n",
    "# Calculate h(epsilon_0^k, epsilon_1^k, ..., epsilon_119^k) for each shock series\n",
    "discount_factors = R**(-np.arange(120))\n",
    "h_values = np.sum(discount_factors * (kappa * l**(1 - eta) - w * l - (l != np.roll(l, 1, axis=1))* iota), axis=1)\n",
    "                                                              # the np.roll line represents a comparison between current employment l \n",
    "                                                              # and lagged employment shifted by one time period\n",
    "                                                              # used as an indicator function to determine whether there is a change in employment level,\n",
    "                                                              # from previous period to current period\n",
    "                                                              # helps identify periods where firing or hiring occurs; incorporates fixed adjustment cost into ex post value\n",
    "\n",
    "\n",
    "# Calculate the approximate expected value H\n",
    "H = np.mean(h_values)\n",
    "\n",
    "print(f\"Approximated ex ante expected value H: {H}\")"
   ]
  },
  {
   "attachments": {},
   "cell_type": "markdown",
   "metadata": {},
   "source": [
    "Next, we consider policies on the form:\n",
    "\n",
    "$$\n",
    "\n",
    "\\ell_{t}=\\begin{cases}\n",
    "\\ell_t^{\\ast}  & \\text{if }\\left|\\ell_{t-1}-\\ell_t^{\\ast} \\right|>\\Delta\\\\\n",
    "\\ell_{t-1} & \\text{else }\n",
    "\\end{cases}\n",
    "\\\\\n",
    "\\text{where}\\,\\,\\ell_t^{\\ast} = \\left(\\frac{(1-\\eta)\\kappa_{t}}{w}\\right)^{\\frac{1}{\\eta}} \\\\\n",
    "\n",
    "$$\n",
    "With $\\Delta \\geq 0$ and $\\Delta = 0$ being the previous policy.\n"
   ]
  },
  {
   "attachments": {},
   "cell_type": "markdown",
   "metadata": {},
   "source": [
    "\n",
    "**Question 3:** Calculate $H$ if the policy above was followed with $\\Delta = 0.05$. Does it improve profitability?"
   ]
  },
  {
   "cell_type": "code",
   "execution_count": 59,
   "metadata": {},
   "outputs": [
    {
     "name": "stdout",
     "output_type": "stream",
     "text": [
      "Approximated ex ante expected value H: 28.106057050909325\n"
     ]
    }
   ],
   "source": [
    "# Holding baseline parameters constant from previous question and adding delta\n",
    "delta = 0.05  # Policy change parameter\n",
    "\n",
    "# Simulation parameters\n",
    "K = 10000  # Number of shock series to simulate\n",
    "\n",
    "# Generate shock series using the normal distribution as provided\n",
    "epsilon_series = np.random.normal(-0.5 * sigma_epsilon**2, sigma_epsilon, (K, 120))\n",
    "\n",
    "# Initialize variables\n",
    "l = np.zeros((K, 120))\n",
    "kappa = np.zeros((K, 120))\n",
    "kappa[:, 0] = 1.0\n",
    "\n",
    "# Calculate l_t and kappa_t for each time period and shock series\n",
    "for t in range(1, 120):\n",
    "    log_kappa = np.log(kappa[:, t - 1])\n",
    "    log_kappa_next = rho * log_kappa + epsilon_series[:, t - 1]\n",
    "    kappa[:, t] = np.exp(log_kappa_next)\n",
    "\n",
    "    # Calculate l_t based on the new policy\n",
    "    l_star = ((1 - eta) * kappa[:, t] / w)**(1 / eta)\n",
    "    l_change = np.abs(l[:, t - 1] - l_star)\n",
    "    l[:, t] = np.where(l_change > delta, l_star, l[:, t - 1]) # using the np.where conditional function, \n",
    "                                                              # check whether condition (1) is true, \n",
    "                                                              # value to then be assigned (2) if true  \n",
    "                                                              # and value to be assigned if false (3)                                                          \n",
    "\n",
    "# Calculate h(epsilon_0^k, epsilon_1^k, ..., epsilon_119^k) for each shock series\n",
    "discount_factors = R**(-np.arange(120))\n",
    "h_values = np.sum(discount_factors * (kappa * l**(1 - eta) - w * l - (l != np.roll(l, 1, axis=1)) * iota), axis=1) \n",
    "\n",
    "# Calculate the approximate expected value H\n",
    "H = np.mean(h_values)\n",
    "\n",
    "print(f\"Approximated ex ante expected value H: {H}\")"
   ]
  },
  {
   "attachments": {},
   "cell_type": "markdown",
   "metadata": {},
   "source": [
    "The policy check $l_{change}$ > $\\Delta$ compares the absolute difference between $l_{t-1}$ and $l^{star}$ with the threshold $\\Delta$. If the difference is greater than $\\Delta$, $l_{t}$ is set to $l_{star}$, otherwise, it retains the previous value $l_{t-1}$.\n",
    "\n",
    "As you can see from running the code, by adding the $\\Delta$ parameter and incorporating this policy, we are able to achieve a higher profit than previously when $\\Delta$ = 0"
   ]
  },
  {
   "attachments": {},
   "cell_type": "markdown",
   "metadata": {},
   "source": [
    "**Question 4:** Find the optimal $\\Delta$ maximizing $H$. Illustrate your result."
   ]
  },
  {
   "cell_type": "code",
   "execution_count": 60,
   "metadata": {},
   "outputs": [],
   "source": [
    "# write your code here"
   ]
  },
  {
   "attachments": {},
   "cell_type": "markdown",
   "metadata": {},
   "source": [
    "\n",
    "**Question 5:** Suggest an alternative policy you believe might improve profitability. Implement and test your policy.\n",
    "\n"
   ]
  },
  {
   "cell_type": "code",
   "execution_count": 61,
   "metadata": {},
   "outputs": [],
   "source": [
    "# write your code here"
   ]
  },
  {
   "attachments": {},
   "cell_type": "markdown",
   "metadata": {},
   "source": [
    "## 3. <a id='toc3_'></a>[Problem 3: Global optimizer with refined multi-start](#toc0_)"
   ]
  },
  {
   "attachments": {},
   "cell_type": "markdown",
   "metadata": {},
   "source": [
    "We consider the Griewank function:\n",
    "\n",
    "$$ f(\\boldsymbol{x}) = \\sum^n_{i=1} \\frac{x^2_i}{4000}-\\prod^n_{i=1}\\cos\\left(\\frac{x_i}{\\sqrt{i}}\\right)+1$$\n",
    "\n",
    "The **global minimum** of this function is $f(0,0) = 0$ (remember: $\\cos(0)=1$).<br>\n",
    "But the function also have a lot of **local minima**."
   ]
  },
  {
   "cell_type": "code",
   "execution_count": 62,
   "metadata": {},
   "outputs": [],
   "source": [
    "def griewank(x):\n",
    "    return griewank_(x[0],x[1])\n",
    "    \n",
    "def griewank_(x1,x2):\n",
    "    A = x1**2/4000 + x2**2/4000\n",
    "    B = np.cos(x1/np.sqrt(1))*np.cos(x2/np.sqrt(2))\n",
    "    return A-B+1"
   ]
  },
  {
   "attachments": {},
   "cell_type": "markdown",
   "metadata": {},
   "source": [
    "A **refined global optimizer with multi-start** is:\n",
    "\n",
    "1. Choose *bounds* for $\\mathbf{x}$ and *tolerance* $\\tau > 0$.\n",
    "2. Choose number of *warm-up iterations*, $\\underline{K} > 0$ and *maximum number of iterations*, $K > \\underline{K}$.\n",
    "3. In each iteration for $k \\in \\{0,1,\\dots,K-1\\}$:\n",
    "\n",
    "    A. Draw random $\\mathbf{x}^k$ uniformly within chosen bounds.\n",
    "\n",
    "    B. If $k < \\underline{K}$ go to step E.\n",
    "\n",
    "    C. Calculate $\\chi^k = 0.50\\cdot\\frac{2}{1+\\exp((k-\\underline{K})/100)}$  \n",
    "\n",
    "    D. Set $\\mathbf{x}^{k0} = \\chi^k \\mathbf{x}^k + (1-\\chi^k)\\mathbf{x}^{\\ast} $\n",
    "\n",
    "    E. Run optimizer with $\\mathbf{x}^{k0}$ as initial guess and $\\mathbf{x}^{k\\ast}$ as result.\n",
    "\n",
    "    F. Set $\\mathbf{x}^{\\ast} = \\mathbf{x}^{k\\ast}$ if $k = 0$ or $f(\\mathbf{x}^{k\\ast}) < f(\\mathbf{x}^{\\ast})$\n",
    "\n",
    "    G. If $f(\\mathbf{x}^{\\ast}) < \\tau$ go to step 4.\n",
    "\n",
    "4. Return the result $\\mathbf{x}^{\\ast}$."
   ]
  },
  {
   "attachments": {},
   "cell_type": "markdown",
   "metadata": {},
   "source": [
    "As settings we choose:\n",
    "\n",
    "* $x_1,x_2 \\in  [-600,600]$\n",
    "* $\\tau = 10^{-8}$\n",
    "* $\\underline{K}=10$\n",
    "* $K=1000$\n",
    "\n",
    "The optimizer in Step 3.E is `BFGS` with a tolerance of $\\tau$."
   ]
  },
  {
   "attachments": {},
   "cell_type": "markdown",
   "metadata": {},
   "source": [
    "**Question 1:** Implement the refined global optimizer with multi-start. Illustrate how the effective initial guesses $\\mathbf{x}^{k0}$ vary with the iteration counter $k$."
   ]
  },
  {
   "cell_type": "code",
   "execution_count": 63,
   "metadata": {},
   "outputs": [
    {
     "name": "stdout",
     "output_type": "stream",
     "text": [
      "The global minimum found by the algorithm is: [-4.73274491e-09 -1.15478445e-08]\n"
     ]
    }
   ],
   "source": [
    "#Implementing the refined global optimizer with multi-start:\n",
    "\n",
    "\n",
    "# step 1: Set bounds and tolerances \n",
    "bounds = (-600,600)\n",
    "tolerance = 0.00000001\n",
    "\n",
    "# step 2: Set warm-up iterations and maximum number of iterations \n",
    "num_warmup_iters = 10\n",
    "num_max_iters = 1000\n",
    "\n",
    "# step 3: Defining the refined_global_opimizer according to the algorithm \n",
    "def refined_global_optimizer_griewank(bounds, tolerance, num_warmup_iters, num_max_iters):\n",
    "    eff_initial_guesses_list = []                                               #setting up empty list to store values\n",
    "    current_best = None\n",
    "\n",
    "    for k in range(num_max_iters):\n",
    "        x_k = np.random.uniform(bounds[0], bounds[1], size=len(bounds))         #step 3A\n",
    "\n",
    "        if k >= num_warmup_iters:\n",
    "            chi_k = 0.5 * (2/(1 + np.exp((k - num_warmup_iters) / 100)))        #step 3C\n",
    "            x_k0 = chi_k * x_k + (1-chi_k) * current_best                       #step 3D\n",
    "        else:                                                                   \n",
    "            x_k0 = x_k                                                          #step 3B\n",
    "        eff_initial_guesses_list.append(x_k0)                                   #appending effective initial guesses to the list\n",
    "\n",
    "        result = minimize(griewank, x_k0, method='BFGS', tol=tolerance)         #step 3E\n",
    "        x_kstar = result.x\n",
    "\n",
    "        if k == 0 or griewank(x_kstar) < griewank(current_best):                #step 3F\n",
    "            current_best = x_kstar\n",
    "\n",
    "        if griewank(current_best) < tolerance:                                  #step 3G\n",
    "            break\n",
    "\n",
    "    # step 4: Returning the result \n",
    "    return current_best, eff_initial_guesses_list\n",
    "\n",
    "\n",
    "# Call the refined_global_optimizer_griewank function and print the solution it found\n",
    "Best_result, eff_initial_guesses_global_list = refined_global_optimizer_griewank(bounds, tolerance, num_warmup_iters, num_max_iters)\n",
    "print(\"The global minimum found by the algorithm is:\", Best_result)"
   ]
  },
  {
   "cell_type": "code",
   "execution_count": 64,
   "metadata": {},
   "outputs": [
    {
     "data": {
      "image/png": "[encoded data removed]",
      "text/plain": [
       "<Figure size 640x480 with 1 Axes>"
      ]
     },
     "metadata": {},
     "output_type": "display_data"
    }
   ],
   "source": [
    "# Setting up a plot to show how the initial guesses x_k0 vary with the progress of the iteration counter k:\n",
    "\n",
    "\n",
    "# turning the list of effective initial guesses into a numpy-array\n",
    "eff_initial_guesses_global_list = np.array(eff_initial_guesses_global_list)\n",
    "\n",
    "# extracting the x1 and x2 values \n",
    "x1 = eff_initial_guesses_global_list[:, 0]\n",
    "x2 = eff_initial_guesses_global_list[:, 1]\n",
    "\n",
    "# plotting x1 and x2 values against each other and connecting the dots with a line from start to finish\n",
    "plt.figure                                                                                              # setting figure\n",
    "plt.scatter(x1, x2)                                                                                     # creating scatterplot\n",
    "plt.plot(x1, x2, '-o', linewidth=0.5)                                                                   # creating a line plot over the top to connect the dots\n",
    "plt.plot(x1[0], x2[0], '-o', linewidth=0.5, color='red')                                                # marking start red\n",
    "plt.plot(x1[-1], x2[-1], '-o', linewidth=0.5, color='red')                                              # marking end red\n",
    "plt.text(x1[0], x2[0], 'Starting point', ha='right', va='bottom')                                       # labeling start\n",
    "plt.text(x1[-1], x2[-1], 'End point', ha='right', va='bottom')                                          # labeling end \n",
    "plt.xlabel('x1')                                                                                        # labeling axis\n",
    "plt.ylabel('x2')                                                                                        # labeling axis\n",
    "plt.title('Development of the effective initial guesses with increasing iteration counter')             # title\n",
    "plt.show()                                                                                              # make plot show up"
   ]
  },
  {
   "attachments": {},
   "cell_type": "markdown",
   "metadata": {},
   "source": [
    "**Question 2:** Is it a better idea to set $\\underline{K} = 100$? Is the convergence faster?"
   ]
  },
  {
   "cell_type": "code",
   "execution_count": 65,
   "metadata": {},
   "outputs": [],
   "source": [
    "# write your code here"
   ]
  }
 ],
 "metadata": {
  "kernelspec": {
   "display_name": "base",
   "language": "python",
   "name": "python3"
  },
  "language_info": {
   "codemirror_mode": {
    "name": "ipython",
    "version": 3
   },
   "file_extension": ".py",
   "mimetype": "text/x-python",
   "name": "python",
   "nbconvert_exporter": "python",
   "pygments_lexer": "ipython3",
   "version": "3.9.13"
  },
  "orig_nbformat": 4,
  "vscode": {
   "interpreter": {
    "hash": "8d3d87ccdefad26727745608b6e2c318ea0e6227948721763511471dc41e3e75"
   }
  }
 },
 "nbformat": 4,
 "nbformat_minor": 2
}
