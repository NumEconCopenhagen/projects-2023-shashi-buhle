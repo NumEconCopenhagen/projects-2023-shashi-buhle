{
 "cells": [
  {
   "attachments": {},
   "cell_type": "markdown",
   "metadata": {},
   "source": [
    "**Table of contents**<a id='toc0_'></a>    \n",
    "- 1. [Problem 1: Optimal taxation with government consumption](#toc1_)    \n",
    "- 2. [Problem 2: Labor adjustment costs](#toc2_)    \n",
    "- 3. [Problem 3: Global optimizer with refined multi-start](#toc3_)    \n",
    "\n",
    "<!-- vscode-jupyter-toc-config\n",
    "\tnumbering=true\n",
    "\tanchor=true\n",
    "\tflat=false\n",
    "\tminLevel=2\n",
    "\tmaxLevel=6\n",
    "\t/vscode-jupyter-toc-config -->\n",
    "<!-- THIS CELL WILL BE REPLACED ON TOC UPDATE. DO NOT WRITE YOUR TEXT IN THIS CELL -->"
   ]
  },
  {
   "cell_type": "code",
   "execution_count": 1,
   "metadata": {},
   "outputs": [],
   "source": [
    "# Import of needed packages \n",
    "import numpy as np\n",
    "import matplotlib.pyplot as plt\n",
    "from scipy.optimize import minimize"
   ]
  },
  {
   "attachments": {},
   "cell_type": "markdown",
   "metadata": {},
   "source": [
    "## 1. <a id='toc1_'></a>[Problem 1: Optimal taxation with government consumption](#toc0_)"
   ]
  },
  {
   "attachments": {},
   "cell_type": "markdown",
   "metadata": {},
   "source": [
    "\n",
    "Consider a worker choosing hours of labor, $L\\in[0,24]$, to maximize utility: \n",
    "\n",
    "$$\n",
    "\\begin{align*}\n",
    "V(w,\\tau,G)&=\\max_{L\\in[0,24]}\\ln\\left(C^{\\alpha}G^{1-\\alpha}\\right)-\\nu\\frac{L^{2}}{2}\\\\&\\text{s.t.}\\\\&C=\\kappa+(1-\\tau)wL\n",
    "\\end{align*}\n",
    "$$\n",
    "\n",
    "where \n",
    "\n",
    "* $C$ is *private* consumption with weight $\\alpha\\in(0,1)$.\n",
    "* $\\kappa > 0$ is the *free private* consumption component.\n",
    "* $C = (1-\\tau)wL$ is the *costly private* consumption component.\n",
    "* $w > 0 $ is the real wage.\n",
    "* $\\tau \\in (0,1)$ is the labor-income tax rate.\n",
    "* $G > 0 $ is *government* consumption with weight $1-\\alpha$.\n",
    "* $\\nu > 0$ is the disutility of labor scaling factor"
   ]
  },
  {
   "attachments": {},
   "cell_type": "markdown",
   "metadata": {},
   "source": [
    "\n",
    "The baseline parameters are:\n",
    "\n",
    "$$\n",
    "\\begin{align*}\n",
    "\\alpha &= 0.5\\\\\n",
    "\\kappa &= 1.0\\\\\n",
    "\\nu &= \\frac{1}{2\\cdot16^2} \\\\\n",
    "w &= 1.0 \\\\ \n",
    "\\tau &= 0.30 \\\\\n",
    "\\end{align*}\n",
    "$$"
   ]
  },
  {
   "attachments": {},
   "cell_type": "markdown",
   "metadata": {},
   "source": [
    "**Question 1:** Verify that the optimal labor supply choice is $L^{\\star}(\\tilde{w}) =\\frac{-\\kappa+\\sqrt{\\kappa^{2}+4\\frac{\\alpha}{\\nu}\\tilde{w}^2}}{2\\tilde{w}}$, where $\\tilde{w} = (1-\\tau)w$, for $G\\in\\left\\{1.0 , 2.0\\right\\}$."
   ]
  },
  {
   "cell_type": "code",
   "execution_count": 2,
   "metadata": {},
   "outputs": [],
   "source": [
    "# write your code here"
   ]
  },
  {
   "attachments": {},
   "cell_type": "markdown",
   "metadata": {},
   "source": [
    "**Question 2:** Illustrate how $L^{\\star}(\\tilde{w})$ depends on $w$."
   ]
  },
  {
   "cell_type": "code",
   "execution_count": 3,
   "metadata": {},
   "outputs": [],
   "source": [
    "# write your code here"
   ]
  },
  {
   "attachments": {},
   "cell_type": "markdown",
   "metadata": {},
   "source": [
    "\n",
    "We now consider a government, who chooses $\\tau$ and spend all of the taxes on government consumption so:\n",
    "\n",
    "$$\n",
    "G = \\tau w L^{\\star}((1-\\tau)w)\n",
    "$$\n",
    "\n",
    "**Question 3:** Plot the implied $L$, $G$ and worker utility for a grid of $\\tau$-values.\n"
   ]
  },
  {
   "cell_type": "code",
   "execution_count": 4,
   "metadata": {},
   "outputs": [],
   "source": [
    "# write your code here"
   ]
  },
  {
   "attachments": {},
   "cell_type": "markdown",
   "metadata": {},
   "source": [
    "**Question 4:** Find the socially optimal tax rate $\\tau^{\\star}\\in(0,1)$ maximizing worker utility. Illustrate your result."
   ]
  },
  {
   "cell_type": "code",
   "execution_count": 5,
   "metadata": {},
   "outputs": [],
   "source": [
    "# write your code here"
   ]
  },
  {
   "attachments": {},
   "cell_type": "markdown",
   "metadata": {},
   "source": [
    "A more general preference formulation for the worker is:\n",
    "\n",
    "$$\n",
    "\\begin{align*}\n",
    "\\mathcal{V}(w,\\tau,G)&=\\max_{L\\in[0,24]}\\frac{\\left[ \\left( \\alpha C^{\\frac{\\sigma-1}{\\sigma}}+(1-\\alpha) G^{\\frac{\\sigma-1}{\\sigma}} \\right)^{\\frac{\\sigma}{1-\\sigma} }\\right]^{1-\\rho}-1}{1-\\rho}- \\nu\\frac{L^{1+\\varepsilon}}{1+\\varepsilon},\\,\\,\\,\\varepsilon,\\rho,\\sigma>0,\\,\\,\\,\\rho,\\sigma\\neq1\\\\&\\text{s.t.}\\\\&C=\\kappa+(1-\\tau)wL\n",
    "\\end{align*}    \n",
    "$$\n",
    "\n",
    "Optimal labor supply is now $L^{\\star}(\\tilde{w},G)$."
   ]
  },
  {
   "attachments": {},
   "cell_type": "markdown",
   "metadata": {},
   "source": [
    "Questions 5 and 6 must be answered with the general formulation, and for 2 different set of parameters:\n",
    "\n",
    "- Set 1:  $\\sigma = 1.001$, $\\rho = 1.001$ and $\\varepsilon = 1.0$.\n",
    "- Set 2:  $\\sigma = 1.5$, $\\rho = 1.5$ and $\\varepsilon = 1.0 $."
   ]
  },
  {
   "attachments": {},
   "cell_type": "markdown",
   "metadata": {},
   "source": [
    "**Question 5:** Find the $G$ that solves $G = \\tau w L^{\\star}((1-\\tau)w,G)$ using the $\\tau$ found in question 4.\n",
    "\n",
    "*Hint: First write code that solves the worker problem for given values of $G$ and $\\tau$. Then find the correct G based on this.*"
   ]
  },
  {
   "cell_type": "code",
   "execution_count": 6,
   "metadata": {},
   "outputs": [],
   "source": [
    "# write your code here"
   ]
  },
  {
   "attachments": {},
   "cell_type": "markdown",
   "metadata": {},
   "source": [
    "**Question 6:** Find the socially optimal tax rate, $\\tau^{\\star}$, maximizing worker utility, while keeping $G = \\tau w L^{\\star}((1-\\tau)w,G)$."
   ]
  },
  {
   "cell_type": "code",
   "execution_count": 7,
   "metadata": {},
   "outputs": [],
   "source": [
    "# write your code here  "
   ]
  },
  {
   "attachments": {},
   "cell_type": "markdown",
   "metadata": {},
   "source": [
    "## 2. <a id='toc2_'></a>[Problem 2: Labor adjustment costs](#toc0_)"
   ]
  },
  {
   "attachments": {},
   "cell_type": "markdown",
   "metadata": {},
   "source": [
    "You own a hair salon. You employ hairdressers, $\\ell_t$, to produce haircuts, $y_t = \\ell_t$.\n",
    "\n",
    "The wage for each haridresser is $w$.\n",
    "\n",
    "The demand for haircuts implies that the price of haircuts you can charge is $p_t = \\kappa_t y_t^{-\\eta}$, where $\\kappa_t$ is a demand-shock and $\\eta \\in (0,1)$ measures the elasticity of demand.\n",
    "\n",
    "Profits are:\n",
    "\n",
    "$$\n",
    "\\Pi_t = p_t y_t - w \\ell_t = \\kappa_t \\ell_t^{1-\\eta} - w \\ell_t\n",
    "$$"
   ]
  },
  {
   "attachments": {},
   "cell_type": "markdown",
   "metadata": {},
   "source": [
    "Baseline parameters are:\n",
    "- $\\eta = 0.5$\n",
    "- $w = 1.0$"
   ]
  },
  {
   "attachments": {},
   "cell_type": "markdown",
   "metadata": {},
   "source": [
    "**Question 1:** Verify numerically that $\\ell_{t}=\\left(\\frac{(1-\\eta)\\kappa_{t}}{w}\\right)^{\\frac{1}{\\eta}}$ maximises profits, for $\\kappa\\in\\left\\{1.0 , 2.0\\right\\}$."
   ]
  },
  {
   "cell_type": "code",
   "execution_count": 8,
   "metadata": {},
   "outputs": [],
   "source": [
    "# write your code here"
   ]
  },
  {
   "attachments": {},
   "cell_type": "markdown",
   "metadata": {},
   "source": [
    "We now consider a *dynamic* version of the model.\n",
    "\n",
    "* The demand-shock is a so-called AR(1) in logs, \n",
    "\n",
    "$$\n",
    "\\log \\kappa_{t} = \\rho \\log \\kappa_{t-1} + \\epsilon_{t},\\,\\,\\, \\epsilon_{t+1} \\sim \\mathcal{N}(-0.5\\sigma_{\\epsilon}^2,\\sigma_{\\epsilon})\n",
    "$$\n",
    "\n",
    "* Any hiring or firing implies a fixed adjustment cost, $\\iota > 0 $.\n",
    "* Future profits are discounted with a monthly factor of $R \\in (0,1)$.\n",
    "\n",
    "The initial demand shock is $\\kappa_{-1} = 1$ and the planning horizon is 10 years, i.e. 120 months so $t \\in \\{0,1,2,\\dots,119\\}$. Initially you don't have any employees, $\\ell_{-1}=0$"
   ]
  },
  {
   "attachments": {},
   "cell_type": "markdown",
   "metadata": {},
   "source": [
    "\n",
    "The *ex post* value of the salon is *conditional* on the shock series is:\n",
    "\n",
    "$$\n",
    "h(\\epsilon_0,\\epsilon_1,\\dots,\\epsilon_{119}) = \\left[\\sum_{t=0}^{119}R^{-t}\\left[\\kappa_{t}\\ell_{t}^{1-\\eta}-w\\ell_{t}-\\boldsymbol{1}_{\\ell_{t}\\neq\\ell_{t-1}}\\iota\\right]\\right]\n",
    "$$\n",
    "\n",
    "The *ex ante* expected value of the salon can be approximated by\n",
    "\n",
    "$$\n",
    "H = \\mathbb{E}[h(\\epsilon_0,\\epsilon_1,\\dots,\\epsilon_{119})] \\approx \\frac{1}{K}\\sum_{k=0}^{K} h(\\epsilon_0^k,\\epsilon_1^k,\\dots,\\epsilon_{119}^k)\n",
    "$$\n",
    "\n",
    "where each $k\\in\\{0,1,\\dots,K-1\\}$ is a random shock series. Maximizing profitability means maximizing $H$.\n"
   ]
  },
  {
   "attachments": {},
   "cell_type": "markdown",
   "metadata": {},
   "source": [
    "Baseline parameters are: \n",
    "\n",
    "- $\\rho = 0.90$\n",
    "- $\\iota = 0.01$\n",
    "- $\\sigma_{\\epsilon} = 0.10$\n",
    "- $R = \\left(1+0.01\\right)^{1/12}$"
   ]
  },
  {
   "attachments": {},
   "cell_type": "markdown",
   "metadata": {},
   "source": [
    "**Question 2:** Calculate $H$ if the policy  $\\ell_{t}=\\left(\\frac{(1-\\eta)\\kappa_{t}}{w}\\right)^{\\frac{1}{\\eta}}$ from question 1 is followed. Choose $K$ so the approximation is good enough to not affect your results substantially."
   ]
  },
  {
   "cell_type": "code",
   "execution_count": 9,
   "metadata": {},
   "outputs": [],
   "source": [
    "# write your code here "
   ]
  },
  {
   "attachments": {},
   "cell_type": "markdown",
   "metadata": {},
   "source": [
    "Next, we consider policies on the form:\n",
    "\n",
    "$$\n",
    "\n",
    "\\ell_{t}=\\begin{cases}\n",
    "\\ell_t^{\\ast}  & \\text{if }\\left|\\ell_{t-1}-\\ell_t^{\\ast} \\right|>\\Delta\\\\\n",
    "\\ell_{t-1} & \\text{else }\n",
    "\\end{cases}\n",
    "\\\\\n",
    "\\text{where}\\,\\,\\ell_t^{\\ast} = \\left(\\frac{(1-\\eta)\\kappa_{t}}{w}\\right)^{\\frac{1}{\\eta}} \\\\\n",
    "\n",
    "$$\n",
    "With $\\Delta \\geq 0$ and $\\Delta = 0$ being the previous policy.\n"
   ]
  },
  {
   "attachments": {},
   "cell_type": "markdown",
   "metadata": {},
   "source": [
    "\n",
    "**Question 3:** Calculate $H$ if the policy above was followed with $\\Delta = 0.05$. Does it improve profitability?"
   ]
  },
  {
   "cell_type": "code",
   "execution_count": 10,
   "metadata": {},
   "outputs": [],
   "source": [
    "# write your code here"
   ]
  },
  {
   "attachments": {},
   "cell_type": "markdown",
   "metadata": {},
   "source": [
    "**Question 4:** Find the optimal $\\Delta$ maximizing $H$. Illustrate your result."
   ]
  },
  {
   "cell_type": "code",
   "execution_count": 11,
   "metadata": {},
   "outputs": [],
   "source": [
    "# write your code here"
   ]
  },
  {
   "attachments": {},
   "cell_type": "markdown",
   "metadata": {},
   "source": [
    "\n",
    "**Question 5:** Suggest an alternative policy you believe might improve profitability. Implement and test your policy.\n",
    "\n"
   ]
  },
  {
   "cell_type": "code",
   "execution_count": 12,
   "metadata": {},
   "outputs": [],
   "source": [
    "# write your code here"
   ]
  },
  {
   "attachments": {},
   "cell_type": "markdown",
   "metadata": {},
   "source": [
    "## 3. <a id='toc3_'></a>[Problem 3: Global optimizer with refined multi-start](#toc0_)"
   ]
  },
  {
   "attachments": {},
   "cell_type": "markdown",
   "metadata": {},
   "source": [
    "We consider the Griewank function:\n",
    "\n",
    "$$ f(\\boldsymbol{x}) = \\sum^n_{i=1} \\frac{x^2_i}{4000}-\\prod^n_{i=1}\\cos\\left(\\frac{x_i}{\\sqrt{i}}\\right)+1$$\n",
    "\n",
    "The **global minimum** of this function is $f(0,0) = 0$ (remember: $\\cos(0)=1$).<br>\n",
    "But the function also have a lot of **local minima**."
   ]
  },
  {
   "cell_type": "code",
   "execution_count": 13,
   "metadata": {},
   "outputs": [],
   "source": [
    "def griewank(x):\n",
    "    return griewank_(x[0],x[1])\n",
    "    \n",
    "def griewank_(x1,x2):\n",
    "    A = x1**2/4000 + x2**2/4000\n",
    "    B = np.cos(x1/np.sqrt(1))*np.cos(x2/np.sqrt(2))\n",
    "    return A-B+1"
   ]
  },
  {
   "attachments": {},
   "cell_type": "markdown",
   "metadata": {},
   "source": [
    "A **refined global optimizer with multi-start** is:\n",
    "\n",
    "1. Choose *bounds* for $\\mathbf{x}$ and *tolerance* $\\tau > 0$.\n",
    "2. Choose number of *warm-up iterations*, $\\underline{K} > 0$ and *maximum number of iterations*, $K > \\underline{K}$.\n",
    "3. In each iteration for $k \\in \\{0,1,\\dots,K-1\\}$:\n",
    "\n",
    "    A. Draw random $\\mathbf{x}^k$ uniformly within chosen bounds.\n",
    "\n",
    "    B. If $k < \\underline{K}$ go to step E.\n",
    "\n",
    "    C. Calculate $\\chi^k = 0.50\\cdot\\frac{2}{1+\\exp((k-\\underline{K})/100)}$  \n",
    "\n",
    "    D. Set $\\mathbf{x}^{k0} = \\chi^k \\mathbf{x}^k + (1-\\chi^k)\\mathbf{x}^{\\ast} $\n",
    "\n",
    "    E. Run optimizer with $\\mathbf{x}^{k0}$ as initial guess and $\\mathbf{x}^{k\\ast}$ as result.\n",
    "\n",
    "    F. Set $\\mathbf{x}^{\\ast} = \\mathbf{x}^{k\\ast}$ if $k = 0$ or $f(\\mathbf{x}^{k\\ast}) < f(\\mathbf{x}^{\\ast})$\n",
    "\n",
    "    G. If $f(\\mathbf{x}^{\\ast}) < \\tau$ go to step 4.\n",
    "\n",
    "4. Return the result $\\mathbf{x}^{\\ast}$."
   ]
  },
  {
   "attachments": {},
   "cell_type": "markdown",
   "metadata": {},
   "source": [
    "As settings we choose:\n",
    "\n",
    "* $x_1,x_2 \\in  [-600,600]$\n",
    "* $\\tau = 10^{-8}$\n",
    "* $\\underline{K}=10$\n",
    "* $K=1000$\n",
    "\n",
    "The optimizer in Step 3.E is `BFGS` with a tolerance of $\\tau$."
   ]
  },
  {
   "attachments": {},
   "cell_type": "markdown",
   "metadata": {},
   "source": [
    "**Question 1:** Implement the refined global optimizer with multi-start. Illustrate how the effective initial guesses $\\mathbf{x}^{k0}$ vary with the iteration counter $k$."
   ]
  },
  {
   "cell_type": "code",
   "execution_count": 16,
   "metadata": {},
   "outputs": [
    {
     "name": "stdout",
     "output_type": "stream",
     "text": [
      "The global minimum found by the algorithm is: [-1.29613223e-08 -1.56056823e-08]\n"
     ]
    }
   ],
   "source": [
    "# setting a seed\n",
    "np.random.seed(1986)\n",
    "\n",
    "# step 1: Set bounds and tolerances \n",
    "bounds = (-600,600)\n",
    "tolerance = 0.00000001\n",
    "\n",
    "# step 2: Set warm-up iterations and maximum number of iterations \n",
    "num_warmup_iters = 10\n",
    "num_max_iters = 1000\n",
    "\n",
    "# step 3: Defining the refined_global_opimizer according to the algorithm \n",
    "def refined_global_optimizer_griewank(bounds, tolerance, num_warmup_iters, num_max_iters):\n",
    "    initial_guesses_list = []                                                   #setting up empty list to store values\n",
    "    current_best = None\n",
    "\n",
    "    for k in range(num_max_iters):\n",
    "        x_k = np.random.uniform(bounds[0], bounds[1], size=len(bounds))         #step 3A\n",
    "        initial_guesses_list.append(x_k)                                        #appending initial guesses to the list\n",
    "\n",
    "        if k >= num_warmup_iters:\n",
    "            chi_k = 0.5 * (2/(1 + np.exp((k - num_warmup_iters) / 100)))        #step 3C\n",
    "            x_k0 = chi_k * x_k + (1-chi_k) * current_best                       #step 3D\n",
    "        else:                                                                   \n",
    "            x_k0 = x_k                                                          #step 3B\n",
    "\n",
    "        result = minimize(griewank, x_k0, method='BFGS', tol=tolerance)         #step 3E\n",
    "        x_kstar = result.x\n",
    "\n",
    "        if k == 0 or griewank(x_kstar) < griewank(current_best):                #step 3F\n",
    "            current_best = x_kstar\n",
    "\n",
    "        if griewank(current_best) < tolerance:                                  #step 3G\n",
    "            break\n",
    "\n",
    "    # step 4: Returning the result \n",
    "    return current_best, initial_guesses_list\n",
    "\n",
    "\n",
    "# Call the refined_global_optimizer_griewank function\n",
    "Best_result, initial_guesses_global_list = refined_global_optimizer_griewank(bounds, tolerance, num_warmup_iters, num_max_iters)\n",
    "\n",
    "\n",
    "# Print the best solution for a global minimum with the global optimizer\n",
    "print(\"The global minimum found by the algorithm is:\", Best_result)"
   ]
  },
  {
   "cell_type": "code",
   "execution_count": 19,
   "metadata": {},
   "outputs": [
    {
     "name": "stdout",
     "output_type": "stream",
     "text": [
      "[[  82.65038984 -507.19405382]\n",
      " [ 130.17535415  476.99730993]\n",
      " [  53.88813456  243.26637758]\n",
      " [-136.6355729   181.9901649 ]\n",
      " [ 228.06194019  262.36168693]\n",
      " [ 228.22350752  368.16506167]\n",
      " [-259.50061021  309.21415696]\n",
      " [-230.91194213  -74.51214935]\n",
      " [  63.23525655  -80.56793418]\n",
      " [  93.14256471  470.64849994]\n",
      " [-318.55532978  -29.8167286 ]\n",
      " [ 430.51786634 -267.53831251]\n",
      " [ -42.79180925 -442.85518606]\n",
      " [ 210.44148243  -39.09363023]\n",
      " [  21.68542172 -529.90102548]\n",
      " [ 404.45725074   84.29397371]\n",
      " [  14.2067665  -573.40696192]\n",
      " [ 418.19584784  572.07447573]\n",
      " [-426.24768442  202.36101136]\n",
      " [ 400.90796242  230.70417342]\n",
      " [ 555.02753938 -579.58837096]\n",
      " [ 485.21249488  203.91482559]\n",
      " [ 100.33588721 -170.33286072]\n",
      " [-369.54406996 -441.04432398]\n",
      " [ -40.54658897 -521.08454018]\n",
      " [  56.5657133  -134.77345838]\n",
      " [-298.68987436 -181.17493107]\n",
      " [-372.31147858  -43.01937348]\n",
      " [-166.05808314  -47.35190526]\n",
      " [ 119.06099664 -577.37960079]\n",
      " [ -10.72008773 -346.72318087]\n",
      " [ 449.28892698  394.24744198]\n",
      " [ 501.42873731  118.63296573]\n",
      " [-458.92391524  238.97169091]\n",
      " [ 459.44290212 -552.29992309]\n",
      " [-165.92279155  143.24634532]\n",
      " [-315.74872567 -417.7332241 ]\n",
      " [-507.25169992  -28.84863366]\n",
      " [ 133.45128944  485.18764342]\n",
      " [-414.44055433  -56.01429429]\n",
      " [-376.58166782   -5.46535194]\n",
      " [-269.00376815   40.84077514]\n",
      " [-173.40433612  406.82976619]\n",
      " [ 180.49555463 -382.28932124]\n",
      " [ 474.80482482   46.10261748]\n",
      " [ 511.9548275   373.27370456]\n",
      " [ 321.02135535 -437.8653697 ]\n",
      " [-217.48405504  434.51964175]\n",
      " [ 429.12230672 -342.18680764]\n",
      " [ 424.94246862 -454.60391362]\n",
      " [ -68.9529685   218.77748832]\n",
      " [-403.17400581   94.19573978]\n",
      " [-151.81018012 -255.14368241]\n",
      " [  72.8316076   587.10126986]\n",
      " [-173.86063929  240.4482449 ]\n",
      " [-537.03350171  279.21160407]\n",
      " [ 347.87187599  319.23409646]\n",
      " [ -28.1424063    -4.62464269]\n",
      " [ 438.16016356 -380.91557717]\n",
      " [-120.07785157 -431.75068391]\n",
      " [-283.59198695 -560.80375082]\n",
      " [-224.68049357 -134.34859152]\n",
      " [ 220.10335216   52.11594113]\n",
      " [  57.64281094  140.10687679]\n",
      " [-235.2711579   376.07434139]\n",
      " [-457.08451981  400.79906372]\n",
      " [ 405.36027396 -333.27003956]\n",
      " [ -28.09991389  305.39785359]\n",
      " [-541.20229613 -429.27631121]\n",
      " [ 392.52424987 -103.59728697]\n",
      " [-152.60090213 -491.16379956]\n",
      " [-494.56732685   37.10052377]\n",
      " [-428.57255858 -537.59058901]\n",
      " [ 400.75495469 -441.33753054]\n",
      " [ 283.03787233  317.10431972]\n",
      " [  48.26571747  -26.44145352]\n",
      " [-140.84780114 -147.86041901]\n",
      " [-363.54915868  178.81519493]\n",
      " [-136.22149482  246.35147334]\n",
      " [ 241.17092913  -93.56510137]\n",
      " [-339.67698451  439.3637807 ]\n",
      " [-418.39472073  598.83746514]\n",
      " [  69.97396785 -108.47323005]\n",
      " [ -79.08702001  560.98424853]\n",
      " [ -38.68248409  -37.02094967]\n",
      " [-576.82454109 -377.2376076 ]\n",
      " [-263.89302674  439.96139896]\n",
      " [ 357.16393039 -425.9431982 ]\n",
      " [ 432.43457757 -477.07679642]\n",
      " [ 567.51600743  157.83292017]\n",
      " [ 311.42849337  221.14152814]\n",
      " [ 309.93816423  290.45111015]\n",
      " [-501.1904371  -442.33031419]\n",
      " [ 462.44981304  315.06011252]\n",
      " [-327.17588238   -4.54252679]\n",
      " [ 128.22404697  254.22765024]\n",
      " [-371.34670345  -90.71818901]\n",
      " [-418.25015454  -41.92782826]\n",
      " [ -82.47091818 -483.88036492]\n",
      " [ 305.566214    513.04204842]\n",
      " [ -59.22137679 -257.48394146]\n",
      " [ 130.26064724  -12.24920302]\n",
      " [ 115.07614051  254.18071491]\n",
      " [ 454.50244291  156.71872843]\n",
      " [  22.3885494   319.82182028]\n",
      " [ 551.80387903  581.73652501]\n",
      " [-369.07088278 -412.28583549]\n",
      " [   2.57899281  392.42698485]\n",
      " [ 416.63659685 -133.39759434]\n",
      " [  -8.53917706 -447.41357882]\n",
      " [-466.13354976 -328.00888046]\n",
      " [-550.83690686  147.06842289]\n",
      " [ -33.31490382  353.36653332]\n",
      " [-272.99592071  284.96914173]\n",
      " [ 153.22749872  454.87277337]\n",
      " [ -82.704454   -492.13272227]\n",
      " [   8.76773555  -53.41531155]\n",
      " [-583.35315262  238.76693075]\n",
      " [ 310.7135535   143.89638106]\n",
      " [-393.50689943  231.63905065]\n",
      " [ 102.86657976  154.06390645]\n",
      " [ -85.87106442  182.96917124]\n",
      " [-186.97002284  372.88027357]\n",
      " [ 381.86351664 -293.28926826]\n",
      " [ -75.76410256  134.3092011 ]\n",
      " [ 407.48884176 -354.16346616]\n",
      " [ 408.33866698  566.03480548]\n",
      " [ 340.79944169 -571.95386937]\n",
      " [ 296.52902941  216.00625758]\n",
      " [   8.9054993  -203.63021192]\n",
      " [ 379.6586513  -215.67880947]\n",
      " [-193.67642054  108.24337393]\n",
      " [ 149.64433079 -413.78355707]\n",
      " [-479.45840181  292.45824229]\n",
      " [-256.8122724   583.09532686]\n",
      " [ 415.78737056  507.28352888]\n",
      " [ 104.24988216  441.03164938]\n",
      " [-599.80216847  554.98014166]\n",
      " [-423.3032363   232.64323511]\n",
      " [ 438.26959438   87.42403371]\n",
      " [ 137.48054267  311.74498801]\n",
      " [ 247.04563064 -178.75926841]\n",
      " [ 470.52233931  544.96274816]\n",
      " [ -41.59677898   -5.77717404]\n",
      " [ -19.94180755  371.22438657]\n",
      " [  65.94068389 -363.49632583]\n",
      " [ -57.9188813   332.66089729]\n",
      " [-328.72153006  -26.50626426]\n",
      " [ 300.68929502 -293.50409752]\n",
      " [ 381.73166816 -513.70929841]\n",
      " [-581.08671722  341.20029323]\n",
      " [-402.82619233  -88.5215194 ]\n",
      " [-141.83172361 -539.03359762]\n",
      " [ 309.11368291  598.93334457]\n",
      " [-541.22307501   13.27807241]\n",
      " [-464.49900369  276.20381821]\n",
      " [  -6.39767584 -339.78462303]\n",
      " [-506.46734228  338.59504058]\n",
      " [-589.31566034 -454.07162493]\n",
      " [ 294.97711291 -589.88582908]\n",
      " [-371.64243978   17.17507773]\n",
      " [ 237.00754317  183.77373375]\n",
      " [ 406.6739277   243.63085234]\n",
      " [  -6.75234544  359.87205316]\n",
      " [-417.19787157 -356.80146381]\n",
      " [ 591.47597334  548.53544984]\n",
      " [ 206.21910694    2.62240201]\n",
      " [-326.97666596  575.95117696]\n",
      " [ 126.3904229   364.08241969]\n",
      " [ 582.40733523 -553.31835616]\n",
      " [ 307.85228199  386.50461857]\n",
      " [ 476.24616949 -474.84000048]\n",
      " [ 252.689692     -5.70455008]\n",
      " [ 506.74438421  341.77501289]\n",
      " [ 569.49277633 -433.66954364]\n",
      " [ 402.32682384  226.67361972]\n",
      " [ 192.55079499  133.7209481 ]\n",
      " [-448.03334639 -428.12975907]\n",
      " [ 112.61977121  303.65990128]\n",
      " [ -65.96566664   -6.70417427]\n",
      " [-525.15683721  264.43419729]\n",
      " [-351.02861072  235.70692921]\n",
      " [ 505.78612757  558.53269408]\n",
      " [-334.12059471 -513.384595  ]\n",
      " [ 406.05088703 -275.0817879 ]\n",
      " [-508.26944855  367.53094313]\n",
      " [ 275.07926281  107.42616664]\n",
      " [ 239.29631883 -198.04269195]\n",
      " [ 235.85053415 -540.68523223]\n",
      " [-105.10013181  113.00627877]\n",
      " [ -50.92509763  538.96334533]\n",
      " [ 438.63686068  234.87722032]\n",
      " [  10.90666044  419.50441775]\n",
      " [-178.10044459 -560.73147393]\n",
      " [-167.75842661 -321.23074664]\n",
      " [ 406.93456443  363.72439231]\n",
      " [ 213.46293899  165.66864423]\n",
      " [ 308.97054517 -459.70198456]\n",
      " [ -54.10416362 -339.15792739]\n",
      " [-385.64974096  305.18108602]\n",
      " [-108.17367229 -113.14989267]\n",
      " [ 253.48418829  -73.27936152]\n",
      " [-554.64742677   22.92205419]\n",
      " [ -21.9026274   290.45721439]\n",
      " [-163.20771735 -139.72384915]\n",
      " [ 452.76469897  102.48264029]\n",
      " [  74.66870552  551.80979672]\n",
      " [-299.91366175  374.93174497]\n",
      " [-162.12231334  -59.12097054]\n",
      " [  45.82878417 -394.70726   ]\n",
      " [-140.76590012 -565.36566361]\n",
      " [ 191.23354915  120.04259243]\n",
      " [-514.38674198  535.72640155]\n",
      " [-209.3900527   524.40344046]\n",
      " [  27.12074488  599.87196117]\n",
      " [-139.62627451 -279.63551644]\n",
      " [ 359.07619928 -219.67912442]\n",
      " [ 344.00716644 -473.54996322]\n",
      " [ 558.35385518  386.98004587]\n",
      " [-163.52924531 -175.26993355]\n",
      " [ 137.09872721  215.18108161]\n",
      " [  74.49529304  -22.36740066]\n",
      " [-197.73570613 -366.67058336]\n",
      " [ 114.98224028   -8.49216206]\n",
      " [ 269.05085342 -413.18331756]\n",
      " [ 149.12405586  364.42976758]\n",
      " [  57.86194446  145.41967118]\n",
      " [ 202.25907102  360.61715074]\n",
      " [ -44.43432282  282.99538625]\n",
      " [  21.89681056  536.2307193 ]\n",
      " [ 555.45240004  -21.47810074]\n",
      " [ 427.66200403 -246.88786764]\n",
      " [ 480.0693151   272.99305042]\n",
      " [ -68.98865073  109.95146645]\n",
      " [-241.81304448 -357.03959945]\n",
      " [ 508.75607319  477.96635267]\n",
      " [-185.64179305  496.56066441]\n",
      " [ 500.15461559  -26.35017757]\n",
      " [-536.25319204 -509.40867307]\n",
      " [ 495.00829894   50.85874798]\n",
      " [ 170.06759659 -474.60706698]\n",
      " [  52.64539259   93.81893867]\n",
      " [ -76.2480678   123.93060813]\n",
      " [-149.4546894   386.53864762]\n",
      " [ -98.71612211   71.69210931]\n",
      " [ 283.94040275  151.69120626]\n",
      " [ 268.39096494  511.63828826]\n",
      " [-516.88490299  193.7757551 ]\n",
      " [-447.41211299  381.36731531]\n",
      " [-436.90834574   71.39626249]\n",
      " [  89.22831455  441.3584491 ]\n",
      " [-402.87361972  505.5201935 ]\n",
      " [ 288.33224015  409.44791975]\n",
      " [-415.46850453  569.09611804]\n",
      " [-271.19827832  -97.03297363]\n",
      " [ 586.67401798 -354.28269762]\n",
      " [-126.62462918  231.81285315]\n",
      " [ 559.0449921  -218.64619908]\n",
      " [-244.47390687 -499.106869  ]\n",
      " [ -38.30018755  593.69351741]\n",
      " [ 394.11984146  446.54060951]\n",
      " [-371.11964404  450.21033147]\n",
      " [-275.18965566 -464.16428577]\n",
      " [-342.07225558 -167.3513012 ]\n",
      " [-119.97781857  329.1504987 ]\n",
      " [-564.88330289   92.15732517]\n",
      " [ 570.05944533  327.40960317]\n",
      " [-542.29229764 -540.03064543]\n",
      " [ 590.94545902  435.651622  ]\n",
      " [-295.63884668  189.59082597]\n",
      " [ 404.31788712  109.66934537]\n",
      " [ -94.94591058 -528.5619277 ]\n",
      " [ 123.46921974  -25.91279573]\n",
      " [ 382.13356645  432.6417551 ]\n",
      " [-500.91958328  334.72306914]\n",
      " [ 109.62783433  -53.39020976]\n",
      " [ -76.06648455  166.0267608 ]\n",
      " [-487.35288762  232.31929652]\n",
      " [ 216.58790947  273.51641039]\n",
      " [-276.01800095 -334.92204221]\n",
      " [ 102.92850543  394.38907823]\n",
      " [ -64.86282715 -489.21148196]\n",
      " [-380.80475018 -446.04904919]\n",
      " [-572.44773422  119.71385497]\n",
      " [ 239.81896323 -344.33200393]\n",
      " [ 269.79443617 -420.2844167 ]\n",
      " [ 251.71600836  104.90570248]\n",
      " [ 320.65927917 -390.71753809]\n",
      " [ 318.72582156  228.69277928]\n",
      " [-536.41460197 -191.96944152]\n",
      " [-219.24778874 -285.25483934]\n",
      " [ 443.87281272  124.27867175]\n",
      " [ 523.52933877  -44.55340465]\n",
      " [ 529.40164768 -218.18245778]\n",
      " [-413.43179942 -220.82337693]\n",
      " [-220.03585617 -513.72471829]\n",
      " [ 511.18439248  230.67421527]\n",
      " [  -3.71651836   -4.03791181]\n",
      " [-395.39841371 -557.55013849]\n",
      " [-110.23631435 -549.20039367]\n",
      " [-322.6925765   -79.26437181]\n",
      " [-183.55228782 -380.48959766]\n",
      " [ 492.77924602 -482.56369261]\n",
      " [ 505.14932187  274.76609206]\n",
      " [ 374.02789655 -297.8505504 ]\n",
      " [ 203.81700128  -80.02964458]\n",
      " [ 372.59848671 -132.14604743]\n",
      " [ 293.53112492 -240.74263178]\n",
      " [-444.7480918   194.69753959]\n",
      " [-487.70211225  -68.94431725]\n",
      " [ 248.55971575 -183.22559985]\n",
      " [ 596.56906968 -521.66134214]\n",
      " [ 558.48263842  401.50058511]\n",
      " [  92.05878178  272.60680754]\n",
      " [ 350.92671166 -243.16661883]\n",
      " [ 363.01213596 -280.04037505]\n",
      " [ 368.65766798  485.68101345]\n",
      " [-156.73221939 -332.79325656]\n",
      " [ 115.64602016  555.76422729]\n",
      " [ -39.05380227  320.44612823]\n",
      " [  39.68372352  388.51258149]\n",
      " [  88.35631584 -399.286989  ]\n",
      " [ -84.30600097  -88.24472908]\n",
      " [-149.47655638  296.87368926]\n",
      " [-266.65247328  369.59525241]\n",
      " [-255.40970834  106.83505974]\n",
      " [-427.62025715 -563.21969389]\n",
      " [-547.4685439   525.65975242]\n",
      " [-165.87692862 -524.05170369]\n",
      " [ 531.53182058   34.9002545 ]\n",
      " [  22.05679366  -99.52849536]]\n"
     ]
    }
   ],
   "source": [
    "# Setting up a plot to show how the initial guesses x_k0 vary with the iteration counter k \n",
    "initial_guesses_global_list = np.array(initial_guesses_global_list)\n",
    "\n",
    "print(initial_guesses_global_list)"
   ]
  },
  {
   "cell_type": "code",
   "execution_count": null,
   "metadata": {},
   "outputs": [],
   "source": [
    "\n",
    "# Define the refined_global_optimizer_griewank function\n",
    "def refined_global_optimizer_griewank(bounds, tolerance, num_warmup_iters, num_max_iters):\n",
    "    current_best = None\n",
    "    initial_guesses = []\n",
    "\n",
    "    for k in range(num_max_iters):\n",
    "        x_k = np.random.uniform(bounds[0], bounds[1], size=len(bounds))  # step 3A\n",
    "        initial_guesses.append(x_k)  # Append the current initial guess to the list\n",
    "\n",
    "        if k >= num_warmup_iters:\n",
    "            chi_k = 0.5 * (2 / (1 + np.exp((k - num_warmup_iters) / 100)))  # step 3C\n",
    "            x_k0 = chi_k * x_k + (1 - chi_k) * current_best  # step 3D\n",
    "        else:\n",
    "            x_k0 = x_k  # step 3B\n",
    "\n",
    "        result = minimize(griewank, x_k0, method='BFGS', tol=tolerance)  # step 3E\n",
    "        x_kstar = result.x\n",
    "\n",
    "        if k == 0 or griewank(x_kstar) < griewank(current_best):  # step 3F\n",
    "            current_best = x_kstar\n",
    "\n",
    "        if griewank(current_best) < tolerance:  # step 3G\n",
    "            break\n",
    "\n",
    "    return current_best, initial_guesses\n",
    "\n",
    "# Call the refined_global_optimizer_griewank function\n",
    "result, initial_guesses = refined_global_optimizer_griewank(bounds, tolerance, num_warmup_iters, num_max_iters)\n",
    "\n",
    "# Print or use the result\n",
    "print(\"Best point found:\", result)\n",
    "\n",
    "# Plotting the variation of initial guesses with the iteration counter\n",
    "initial_guesses = np.array(initial_guesses)\n",
    "\n",
    "plt.figure()\n",
    "for i in range(initial_guesses.shape[1]):\n",
    "    plt.plot(range(num_max_iters), initial_guesses[:, i], label='x{}'.format(i + 1))\n",
    "plt.xlabel('Iteration')\n",
    "plt.ylabel('Initial Guess')\n",
    "plt.title('Variation of Initial Guesses with Iteration')\n",
    "plt.legend()\n",
    "plt.show()\n",
    "\n",
    "\n"
   ]
  },
  {
   "attachments": {},
   "cell_type": "markdown",
   "metadata": {},
   "source": [
    "**Question 2:** Is it a better idea to set $\\underline{K} = 100$? Is the convergence faster?"
   ]
  },
  {
   "cell_type": "code",
   "execution_count": null,
   "metadata": {},
   "outputs": [],
   "source": [
    "# write your code here"
   ]
  }
 ],
 "metadata": {
  "kernelspec": {
   "display_name": "base",
   "language": "python",
   "name": "python3"
  },
  "language_info": {
   "codemirror_mode": {
    "name": "ipython",
    "version": 3
   },
   "file_extension": ".py",
   "mimetype": "text/x-python",
   "name": "python",
   "nbconvert_exporter": "python",
   "pygments_lexer": "ipython3",
   "version": "3.9.16"
  },
  "orig_nbformat": 4
 },
 "nbformat": 4,
 "nbformat_minor": 2
}
