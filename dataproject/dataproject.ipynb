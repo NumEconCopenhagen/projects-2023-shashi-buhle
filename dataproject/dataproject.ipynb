{
 "cells": [
  {
   "attachments": {},
   "cell_type": "markdown",
   "metadata": {},
   "source": [
    "# Impact of GDP per capita on employment in worldwide agriculture over the past 30 years  "
   ]
  },
  {
   "cell_type": "markdown",
   "metadata": {},
   "source": [
    "Imports and set magics:"
   ]
  },
  {
   "cell_type": "code",
   "execution_count": 1,
   "metadata": {},
   "outputs": [],
   "source": [
    "import pandas as pd\n",
    "import numpy as np\n",
    "import plotly.graph_objs as go \n",
    "import matplotlib.pyplot as plt\n",
    "import ipywidgets as widgets\n",
    "from ipywidgets import interact\n",
    "from functools import reduce\n",
    "\n",
    "\n",
    "# autoreload modules when code is run\n",
    "%load_ext autoreload\n",
    "%autoreload 2\n",
    "\n",
    "# user written modules\n",
    "import dataproject\n",
    "\n",
    "# import the API for WorldBank-data\n",
    "from pandas_datareader import wb"
   ]
  },
  {
   "attachments": {},
   "cell_type": "markdown",
   "metadata": {},
   "source": [
    "# Read data"
   ]
  },
  {
   "attachments": {},
   "cell_type": "markdown",
   "metadata": {},
   "source": [
    "Here we are importing data using the API for WorldBank-data. We found the following data and data-codes using the Website of the WorldBank to provide us with different measures for countrys worldwide over the past decades:\\\n",
    "#\n",
    "-Arable land in hectares --> *AG.LND.ARBL.HA*\\\n",
    "-Labor force --> *SL.TLF.TOTL.IN*\\\n",
    "-GDP per capita in USD --> *NY.GDP.PCAP.CD*\\\n",
    "-Employment in agriculture in % of total empoyment --> *SL.AGR.EMPL.ZS*"
   ]
  },
  {
   "cell_type": "code",
   "execution_count": 2,
   "metadata": {},
   "outputs": [],
   "source": [
    "# Setting up list of ISO-codes of countries where we are going to import data from using the API\n",
    "countries_ISO_list = ['ABW', 'AFG', 'AGO', 'ALB', 'AND', 'ARE', 'ARG', 'ARM', 'ASM', 'AUS', 'AUT', \n",
    "                      'AZE', 'BDI', 'BEL', 'BEN', 'BFA', 'BGD', 'BGR', 'BHR', 'BHS', 'BIH', 'BLR', \n",
    "                      'BLZ', 'BMU', 'BOL', 'BRA', 'BRB', 'BRN', 'BTN', 'BWA', 'CAF', 'CAN', 'CHE', \n",
    "                      'CHL', 'CHN', 'CIV', 'CMR', 'COD', 'COG', 'COL', 'COM', 'CPV', 'CRI', 'CUB', \n",
    "                      'CUW', 'CYM', 'CYP', 'CZE', 'DEU', 'DJI', 'DMA', 'DNK', 'DOM', 'DZA', 'ECU', \n",
    "                      'EGY', 'ERI', 'ESP', 'EST', 'ETH', 'FIN', 'FJI', 'FRA', 'FRO', 'GAB', 'GBR', \n",
    "                      'GEO', 'GHA', 'GIB', 'GIN', 'GMB', 'GNB', 'GNQ', 'GRC', 'GRD', 'GRL', 'GTM', \n",
    "                      'GUY', 'HKG', 'HND', 'HRV', 'HTI', 'HUN', 'IDN', 'IMN', 'IND', 'IRL', 'IRN', \n",
    "                      'IRQ', 'ISL', 'ISR', 'ITA', 'JAM', 'JOR', 'JPN', 'KAZ', 'KEN', 'KGZ', 'KHM', \n",
    "                      'KIR', 'KNA', 'KOR', 'KWT', 'LBN', 'LBR', 'LBY', 'LCA', 'LIE', 'LKA', 'LSO', \n",
    "                      'LTU', 'LUX', 'LVA', 'MAC', 'MAF', 'MAR', 'MCO', 'MDA', 'MDG', 'MDV', 'MEX', \n",
    "                      'MKD', 'MLI', 'MLT', 'MMR', 'MNE', 'MNG', 'MOZ', 'MRT', 'MUS', 'MWI', 'MYS', \n",
    "                      'NAM', 'NCL', 'NER', 'NGA', 'NIC', 'NLD', 'NOR', 'NPL', 'NRU', 'NZL', 'OMN', \n",
    "                      'PAK', 'PAN', 'PER', 'PHL', 'PLW', 'PNG', 'POL', 'PRI', 'PRK', 'PRT', 'PRY', \n",
    "                      'PSE', 'PYF', 'QAT', 'ROU', 'RUS', 'RWA', 'SAU', 'SDN', 'SEN', 'SGP', 'SLE', \n",
    "                      'SLV', 'SMR', 'SOM', 'SRB', 'SSD', 'STP', 'SUR', 'SVK', 'SVN', 'SWE', 'SWZ', \n",
    "                      'SXM', 'SYC', 'SYR', 'TCA', 'TCD', 'TGO', 'THA', 'TJK', 'TKM', 'TLS', 'TON', \n",
    "                      'TTO', 'TUN', 'TUR', 'TUV', 'TZA', 'UGA', 'UKR', 'URY', 'USA', 'UZB', 'VCT', \n",
    "                      'VEN', 'VGB', 'VIR', 'VNM', 'VUT', 'WSM', 'YEM', 'ZAF', 'ZMB', 'ZWE']\n",
    "\n",
    "# Importing the different DataFrames from the WorldBank using the API from the lecture and resetting the index for each DataFrame\n",
    "wb_arable_land = wb.download(indicator='AG.LND.ARBL.HA', country= countries_ISO_list, start=1989, end=2019)\n",
    "wb_arable_land = wb_arable_land.reset_index()\n",
    "wb_labor_force = wb.download(indicator='SL.TLF.TOTL.IN', country= countries_ISO_list, start=1989, end=2019)\n",
    "wb_labor_force = wb_labor_force.reset_index()\n",
    "wb_emp_ag = wb.download(indicator='SL.AGR.EMPL.ZS', country= countries_ISO_list, start=1989, end=2019)\n",
    "wb_emp_ag = wb_emp_ag.reset_index()\n",
    "wb_gdp_cap = wb.download(indicator='NY.GDP.PCAP.CD', country= countries_ISO_list, start=1989, end=2019)\n",
    "wb_gdp_cap = wb_gdp_cap.reset_index()"
   ]
  },
  {
   "attachments": {},
   "cell_type": "markdown",
   "metadata": {},
   "source": [
    "# Clean and merge data "
   ]
  },
  {
   "cell_type": "code",
   "execution_count": 3,
   "metadata": {},
   "outputs": [
    {
     "data": {
      "text/html": [
       "<div>\n",
       "<style scoped>\n",
       "    .dataframe tbody tr th:only-of-type {\n",
       "        vertical-align: middle;\n",
       "    }\n",
       "\n",
       "    .dataframe tbody tr th {\n",
       "        vertical-align: top;\n",
       "    }\n",
       "\n",
       "    .dataframe thead th {\n",
       "        text-align: right;\n",
       "    }\n",
       "</style>\n",
       "<table border=\"1\" class=\"dataframe\">\n",
       "  <thead>\n",
       "    <tr style=\"text-align: right;\">\n",
       "      <th></th>\n",
       "      <th>country</th>\n",
       "      <th>year</th>\n",
       "      <th>Arable_Land</th>\n",
       "      <th>Labor_Force</th>\n",
       "      <th>Empl_in_agri_in_%_of_all_empl</th>\n",
       "      <th>GDP_per_capita</th>\n",
       "    </tr>\n",
       "  </thead>\n",
       "  <tbody>\n",
       "    <tr>\n",
       "      <th>31</th>\n",
       "      <td>Afghanistan</td>\n",
       "      <td>2019</td>\n",
       "      <td>7788000 ha</td>\n",
       "      <td>9991682</td>\n",
       "      <td>42.50%</td>\n",
       "      <td>$500.52</td>\n",
       "    </tr>\n",
       "    <tr>\n",
       "      <th>32</th>\n",
       "      <td>Afghanistan</td>\n",
       "      <td>2018</td>\n",
       "      <td>7794000 ha</td>\n",
       "      <td>9613728</td>\n",
       "      <td>43.13%</td>\n",
       "      <td>$502.06</td>\n",
       "    </tr>\n",
       "    <tr>\n",
       "      <th>33</th>\n",
       "      <td>Afghanistan</td>\n",
       "      <td>2017</td>\n",
       "      <td>7699000 ha</td>\n",
       "      <td>9254594</td>\n",
       "      <td>43.99%</td>\n",
       "      <td>$530.15</td>\n",
       "    </tr>\n",
       "    <tr>\n",
       "      <th>34</th>\n",
       "      <td>Afghanistan</td>\n",
       "      <td>2016</td>\n",
       "      <td>7729000 ha</td>\n",
       "      <td>8913938</td>\n",
       "      <td>45.81%</td>\n",
       "      <td>$520.25</td>\n",
       "    </tr>\n",
       "    <tr>\n",
       "      <th>35</th>\n",
       "      <td>Afghanistan</td>\n",
       "      <td>2015</td>\n",
       "      <td>7765000 ha</td>\n",
       "      <td>8630723</td>\n",
       "      <td>47.07%</td>\n",
       "      <td>$592.48</td>\n",
       "    </tr>\n",
       "    <tr>\n",
       "      <th>...</th>\n",
       "      <td>...</td>\n",
       "      <td>...</td>\n",
       "      <td>...</td>\n",
       "      <td>...</td>\n",
       "      <td>...</td>\n",
       "      <td>...</td>\n",
       "    </tr>\n",
       "    <tr>\n",
       "      <th>6441</th>\n",
       "      <td>Zimbabwe</td>\n",
       "      <td>1995</td>\n",
       "      <td>3110000 ha</td>\n",
       "      <td>3958602</td>\n",
       "      <td>60.92%</td>\n",
       "      <td>$646.83</td>\n",
       "    </tr>\n",
       "    <tr>\n",
       "      <th>6442</th>\n",
       "      <td>Zimbabwe</td>\n",
       "      <td>1994</td>\n",
       "      <td>3100000 ha</td>\n",
       "      <td>3871382</td>\n",
       "      <td>61.08%</td>\n",
       "      <td>$634.58</td>\n",
       "    </tr>\n",
       "    <tr>\n",
       "      <th>6443</th>\n",
       "      <td>Zimbabwe</td>\n",
       "      <td>1993</td>\n",
       "      <td>3030000 ha</td>\n",
       "      <td>3824653</td>\n",
       "      <td>61.40%</td>\n",
       "      <td>$608.05</td>\n",
       "    </tr>\n",
       "    <tr>\n",
       "      <th>6444</th>\n",
       "      <td>Zimbabwe</td>\n",
       "      <td>1992</td>\n",
       "      <td>2990000 ha</td>\n",
       "      <td>3761641</td>\n",
       "      <td>61.47%</td>\n",
       "      <td>$634.45</td>\n",
       "    </tr>\n",
       "    <tr>\n",
       "      <th>6445</th>\n",
       "      <td>Zimbabwe</td>\n",
       "      <td>1991</td>\n",
       "      <td>2950000 ha</td>\n",
       "      <td>3648635</td>\n",
       "      <td>61.43%</td>\n",
       "      <td>$832.69</td>\n",
       "    </tr>\n",
       "  </tbody>\n",
       "</table>\n",
       "<p>5011 rows × 6 columns</p>\n",
       "</div>"
      ],
      "text/plain": [
       "          country  year Arable_Land  Labor_Force  \\\n",
       "31    Afghanistan  2019  7788000 ha      9991682   \n",
       "32    Afghanistan  2018  7794000 ha      9613728   \n",
       "33    Afghanistan  2017  7699000 ha      9254594   \n",
       "34    Afghanistan  2016  7729000 ha      8913938   \n",
       "35    Afghanistan  2015  7765000 ha      8630723   \n",
       "...           ...   ...         ...          ...   \n",
       "6441     Zimbabwe  1995  3110000 ha      3958602   \n",
       "6442     Zimbabwe  1994  3100000 ha      3871382   \n",
       "6443     Zimbabwe  1993  3030000 ha      3824653   \n",
       "6444     Zimbabwe  1992  2990000 ha      3761641   \n",
       "6445     Zimbabwe  1991  2950000 ha      3648635   \n",
       "\n",
       "     Empl_in_agri_in_%_of_all_empl GDP_per_capita  \n",
       "31                          42.50%        $500.52  \n",
       "32                          43.13%        $502.06  \n",
       "33                          43.99%        $530.15  \n",
       "34                          45.81%        $520.25  \n",
       "35                          47.07%        $592.48  \n",
       "...                            ...            ...  \n",
       "6441                        60.92%        $646.83  \n",
       "6442                        61.08%        $634.58  \n",
       "6443                        61.40%        $608.05  \n",
       "6444                        61.47%        $634.45  \n",
       "6445                        61.43%        $832.69  \n",
       "\n",
       "[5011 rows x 6 columns]"
      ]
     },
     "execution_count": 3,
     "metadata": {},
     "output_type": "execute_result"
    }
   ],
   "source": [
    "# changing the data-type of the 'year'-column to an integer\n",
    "wb_arable_land.year = wb_arable_land.year.astype(int)\n",
    "wb_labor_force.year = wb_labor_force.year.astype(int)\n",
    "wb_emp_ag.year = wb_emp_ag.year.astype(int)\n",
    "wb_gdp_cap.year = wb_gdp_cap.year.astype(int)\n",
    "\n",
    "# Merging all the DataFrames into one big one\n",
    "data_frames_list = [wb_arable_land, wb_labor_force, wb_emp_ag, wb_gdp_cap]\n",
    "data_frames_combined = reduce(lambda left, right: pd.merge(left, right, on = ['country', 'year'], how = 'inner'), data_frames_list)\n",
    "\n",
    "# Renaming the columns\n",
    "namedict = {\n",
    "            'AG.LND.ARBL.HA':'Arable_Land',\n",
    "            'SL.TLF.TOTL.IN':'Labor_Force',\n",
    "            'SL.AGR.EMPL.ZS':'Empl_in_agri_in_%_of_all_empl',\n",
    "            'NY.GDP.PCAP.CD':'GDP_per_capita'}\n",
    "data_frames_combined.rename(columns=namedict, inplace=True)\n",
    "\n",
    "# Dropping all rows that contain empty values (NAN)\n",
    "data_frames_combined.dropna(inplace=True)\n",
    "\n",
    "# Rounding the floats in columns 'Empl_in_agri_in_%_of_all_empl' and 'GDP_per_capita' \n",
    "data_frames_combined['Empl_in_agri_in_%_of_all_empl'] = data_frames_combined['Empl_in_agri_in_%_of_all_empl'].round(2)\n",
    "data_frames_combined['GDP_per_capita'] = data_frames_combined['GDP_per_capita'].round(2)\n",
    "\n",
    "# Converting the values in the columns into their respective units for a better display\n",
    "data_frames_combined['Empl_in_agri_in_%_of_all_empl'] = data_frames_combined['Empl_in_agri_in_%_of_all_empl'].apply(lambda x: '{:.2f}%'.format(x*1))\n",
    "data_frames_combined['GDP_per_capita'] = data_frames_combined['GDP_per_capita'].apply(lambda x: '${:.2f}'.format(x))\n",
    "data_frames_combined['Arable_Land'] = data_frames_combined['Arable_Land'].apply(lambda x: '{:.0f} ha'.format(x))\n",
    "data_frames_combined.Labor_Force = data_frames_combined.Labor_Force.astype(int)\n",
    "\n",
    "# Display the created DataFrame so far\n",
    "data_frames_combined"
   ]
  },
  {
   "attachments": {},
   "cell_type": "markdown",
   "metadata": {},
   "source": [
    "## Exploring the individual data sets "
   ]
  },
  {
   "cell_type": "markdown",
   "metadata": {},
   "source": [
    "In order to be able to **explore the raw data**, you may provide **static** and **interactive plots** to show important developments "
   ]
  },
  {
   "cell_type": "markdown",
   "metadata": {},
   "source": [
    "**Interactive plot** :"
   ]
  },
  {
   "cell_type": "code",
   "execution_count": 4,
   "metadata": {},
   "outputs": [
    {
     "data": {
      "application/vnd.jupyter.widget-view+json": {
       "model_id": "383554ceec8e44758bcfc374af94c649",
       "version_major": 2,
       "version_minor": 0
      },
      "text/plain": [
       "interactive(children=(Dropdown(description='Country:', options=('Afghanistan', 'Angola', 'Albania', 'United Ar…"
      ]
     },
     "metadata": {},
     "output_type": "display_data"
    },
    {
     "data": {
      "application/vnd.plotly.v1+json": {
       "config": {
        "plotlyServerURL": "https://plot.ly"
       },
       "data": [
        {
         "mode": "lines+markers",
         "name": "GDP per capita",
         "type": "scatter",
         "x": [
          2019,
          2018,
          2017,
          2016,
          2015,
          2014,
          2013,
          2012,
          2011,
          2010,
          2009,
          2008,
          2007,
          2006,
          2005,
          2004,
          2003,
          2002
         ],
         "y": [
          "$500.52",
          "$502.06",
          "$530.15",
          "$520.25",
          "$592.48",
          "$628.15",
          "$651.99",
          "$663.14",
          "$621.91",
          "$554.60",
          "$443.85",
          "$387.85",
          "$375.08",
          "$274.00",
          "$255.06",
          "$221.66",
          "$200.46",
          "$183.53"
         ]
        },
        {
         "mode": "lines+markers",
         "name": "Employment in agriculture (%)",
         "type": "scatter",
         "x": [
          2019,
          2018,
          2017,
          2016,
          2015,
          2014,
          2013,
          2012,
          2011,
          2010,
          2009,
          2008,
          2007,
          2006,
          2005,
          2004,
          2003,
          2002
         ],
         "y": [
          "42.50%",
          "43.13%",
          "43.99%",
          "45.81%",
          "47.07%",
          "48.41%",
          "49.82%",
          "51.40%",
          "53.56%",
          "54.58%",
          "56.89%",
          "59.29%",
          "60.14%",
          "61.28%",
          "62.15%",
          "63.27%",
          "63.70%",
          "64.42%"
         ],
         "yaxis": "y2"
        }
       ],
       "layout": {
        "template": {
         "data": {
          "bar": [
           {
            "error_x": {
             "color": "#2a3f5f"
            },
            "error_y": {
             "color": "#2a3f5f"
            },
            "marker": {
             "line": {
              "color": "#E5ECF6",
              "width": 0.5
             },
             "pattern": {
              "fillmode": "overlay",
              "size": 10,
              "solidity": 0.2
             }
            },
            "type": "bar"
           }
          ],
          "barpolar": [
           {
            "marker": {
             "line": {
              "color": "#E5ECF6",
              "width": 0.5
             },
             "pattern": {
              "fillmode": "overlay",
              "size": 10,
              "solidity": 0.2
             }
            },
            "type": "barpolar"
           }
          ],
          "carpet": [
           {
            "aaxis": {
             "endlinecolor": "#2a3f5f",
             "gridcolor": "white",
             "linecolor": "white",
             "minorgridcolor": "white",
             "startlinecolor": "#2a3f5f"
            },
            "baxis": {
             "endlinecolor": "#2a3f5f",
             "gridcolor": "white",
             "linecolor": "white",
             "minorgridcolor": "white",
             "startlinecolor": "#2a3f5f"
            },
            "type": "carpet"
           }
          ],
          "choropleth": [
           {
            "colorbar": {
             "outlinewidth": 0,
             "ticks": ""
            },
            "type": "choropleth"
           }
          ],
          "contour": [
           {
            "colorbar": {
             "outlinewidth": 0,
             "ticks": ""
            },
            "colorscale": [
             [
              0,
              "#0d0887"
             ],
             [
              0.1111111111111111,
              "#46039f"
             ],
             [
              0.2222222222222222,
              "#7201a8"
             ],
             [
              0.3333333333333333,
              "#9c179e"
             ],
             [
              0.4444444444444444,
              "#bd3786"
             ],
             [
              0.5555555555555556,
              "#d8576b"
             ],
             [
              0.6666666666666666,
              "#ed7953"
             ],
             [
              0.7777777777777778,
              "#fb9f3a"
             ],
             [
              0.8888888888888888,
              "#fdca26"
             ],
             [
              1,
              "#f0f921"
             ]
            ],
            "type": "contour"
           }
          ],
          "contourcarpet": [
           {
            "colorbar": {
             "outlinewidth": 0,
             "ticks": ""
            },
            "type": "contourcarpet"
           }
          ],
          "heatmap": [
           {
            "colorbar": {
             "outlinewidth": 0,
             "ticks": ""
            },
            "colorscale": [
             [
              0,
              "#0d0887"
             ],
             [
              0.1111111111111111,
              "#46039f"
             ],
             [
              0.2222222222222222,
              "#7201a8"
             ],
             [
              0.3333333333333333,
              "#9c179e"
             ],
             [
              0.4444444444444444,
              "#bd3786"
             ],
             [
              0.5555555555555556,
              "#d8576b"
             ],
             [
              0.6666666666666666,
              "#ed7953"
             ],
             [
              0.7777777777777778,
              "#fb9f3a"
             ],
             [
              0.8888888888888888,
              "#fdca26"
             ],
             [
              1,
              "#f0f921"
             ]
            ],
            "type": "heatmap"
           }
          ],
          "heatmapgl": [
           {
            "colorbar": {
             "outlinewidth": 0,
             "ticks": ""
            },
            "colorscale": [
             [
              0,
              "#0d0887"
             ],
             [
              0.1111111111111111,
              "#46039f"
             ],
             [
              0.2222222222222222,
              "#7201a8"
             ],
             [
              0.3333333333333333,
              "#9c179e"
             ],
             [
              0.4444444444444444,
              "#bd3786"
             ],
             [
              0.5555555555555556,
              "#d8576b"
             ],
             [
              0.6666666666666666,
              "#ed7953"
             ],
             [
              0.7777777777777778,
              "#fb9f3a"
             ],
             [
              0.8888888888888888,
              "#fdca26"
             ],
             [
              1,
              "#f0f921"
             ]
            ],
            "type": "heatmapgl"
           }
          ],
          "histogram": [
           {
            "marker": {
             "pattern": {
              "fillmode": "overlay",
              "size": 10,
              "solidity": 0.2
             }
            },
            "type": "histogram"
           }
          ],
          "histogram2d": [
           {
            "colorbar": {
             "outlinewidth": 0,
             "ticks": ""
            },
            "colorscale": [
             [
              0,
              "#0d0887"
             ],
             [
              0.1111111111111111,
              "#46039f"
             ],
             [
              0.2222222222222222,
              "#7201a8"
             ],
             [
              0.3333333333333333,
              "#9c179e"
             ],
             [
              0.4444444444444444,
              "#bd3786"
             ],
             [
              0.5555555555555556,
              "#d8576b"
             ],
             [
              0.6666666666666666,
              "#ed7953"
             ],
             [
              0.7777777777777778,
              "#fb9f3a"
             ],
             [
              0.8888888888888888,
              "#fdca26"
             ],
             [
              1,
              "#f0f921"
             ]
            ],
            "type": "histogram2d"
           }
          ],
          "histogram2dcontour": [
           {
            "colorbar": {
             "outlinewidth": 0,
             "ticks": ""
            },
            "colorscale": [
             [
              0,
              "#0d0887"
             ],
             [
              0.1111111111111111,
              "#46039f"
             ],
             [
              0.2222222222222222,
              "#7201a8"
             ],
             [
              0.3333333333333333,
              "#9c179e"
             ],
             [
              0.4444444444444444,
              "#bd3786"
             ],
             [
              0.5555555555555556,
              "#d8576b"
             ],
             [
              0.6666666666666666,
              "#ed7953"
             ],
             [
              0.7777777777777778,
              "#fb9f3a"
             ],
             [
              0.8888888888888888,
              "#fdca26"
             ],
             [
              1,
              "#f0f921"
             ]
            ],
            "type": "histogram2dcontour"
           }
          ],
          "mesh3d": [
           {
            "colorbar": {
             "outlinewidth": 0,
             "ticks": ""
            },
            "type": "mesh3d"
           }
          ],
          "parcoords": [
           {
            "line": {
             "colorbar": {
              "outlinewidth": 0,
              "ticks": ""
             }
            },
            "type": "parcoords"
           }
          ],
          "pie": [
           {
            "automargin": true,
            "type": "pie"
           }
          ],
          "scatter": [
           {
            "fillpattern": {
             "fillmode": "overlay",
             "size": 10,
             "solidity": 0.2
            },
            "type": "scatter"
           }
          ],
          "scatter3d": [
           {
            "line": {
             "colorbar": {
              "outlinewidth": 0,
              "ticks": ""
             }
            },
            "marker": {
             "colorbar": {
              "outlinewidth": 0,
              "ticks": ""
             }
            },
            "type": "scatter3d"
           }
          ],
          "scattercarpet": [
           {
            "marker": {
             "colorbar": {
              "outlinewidth": 0,
              "ticks": ""
             }
            },
            "type": "scattercarpet"
           }
          ],
          "scattergeo": [
           {
            "marker": {
             "colorbar": {
              "outlinewidth": 0,
              "ticks": ""
             }
            },
            "type": "scattergeo"
           }
          ],
          "scattergl": [
           {
            "marker": {
             "colorbar": {
              "outlinewidth": 0,
              "ticks": ""
             }
            },
            "type": "scattergl"
           }
          ],
          "scattermapbox": [
           {
            "marker": {
             "colorbar": {
              "outlinewidth": 0,
              "ticks": ""
             }
            },
            "type": "scattermapbox"
           }
          ],
          "scatterpolar": [
           {
            "marker": {
             "colorbar": {
              "outlinewidth": 0,
              "ticks": ""
             }
            },
            "type": "scatterpolar"
           }
          ],
          "scatterpolargl": [
           {
            "marker": {
             "colorbar": {
              "outlinewidth": 0,
              "ticks": ""
             }
            },
            "type": "scatterpolargl"
           }
          ],
          "scatterternary": [
           {
            "marker": {
             "colorbar": {
              "outlinewidth": 0,
              "ticks": ""
             }
            },
            "type": "scatterternary"
           }
          ],
          "surface": [
           {
            "colorbar": {
             "outlinewidth": 0,
             "ticks": ""
            },
            "colorscale": [
             [
              0,
              "#0d0887"
             ],
             [
              0.1111111111111111,
              "#46039f"
             ],
             [
              0.2222222222222222,
              "#7201a8"
             ],
             [
              0.3333333333333333,
              "#9c179e"
             ],
             [
              0.4444444444444444,
              "#bd3786"
             ],
             [
              0.5555555555555556,
              "#d8576b"
             ],
             [
              0.6666666666666666,
              "#ed7953"
             ],
             [
              0.7777777777777778,
              "#fb9f3a"
             ],
             [
              0.8888888888888888,
              "#fdca26"
             ],
             [
              1,
              "#f0f921"
             ]
            ],
            "type": "surface"
           }
          ],
          "table": [
           {
            "cells": {
             "fill": {
              "color": "#EBF0F8"
             },
             "line": {
              "color": "white"
             }
            },
            "header": {
             "fill": {
              "color": "#C8D4E3"
             },
             "line": {
              "color": "white"
             }
            },
            "type": "table"
           }
          ]
         },
         "layout": {
          "annotationdefaults": {
           "arrowcolor": "#2a3f5f",
           "arrowhead": 0,
           "arrowwidth": 1
          },
          "autotypenumbers": "strict",
          "coloraxis": {
           "colorbar": {
            "outlinewidth": 0,
            "ticks": ""
           }
          },
          "colorscale": {
           "diverging": [
            [
             0,
             "#8e0152"
            ],
            [
             0.1,
             "#c51b7d"
            ],
            [
             0.2,
             "#de77ae"
            ],
            [
             0.3,
             "#f1b6da"
            ],
            [
             0.4,
             "#fde0ef"
            ],
            [
             0.5,
             "#f7f7f7"
            ],
            [
             0.6,
             "#e6f5d0"
            ],
            [
             0.7,
             "#b8e186"
            ],
            [
             0.8,
             "#7fbc41"
            ],
            [
             0.9,
             "#4d9221"
            ],
            [
             1,
             "#276419"
            ]
           ],
           "sequential": [
            [
             0,
             "#0d0887"
            ],
            [
             0.1111111111111111,
             "#46039f"
            ],
            [
             0.2222222222222222,
             "#7201a8"
            ],
            [
             0.3333333333333333,
             "#9c179e"
            ],
            [
             0.4444444444444444,
             "#bd3786"
            ],
            [
             0.5555555555555556,
             "#d8576b"
            ],
            [
             0.6666666666666666,
             "#ed7953"
            ],
            [
             0.7777777777777778,
             "#fb9f3a"
            ],
            [
             0.8888888888888888,
             "#fdca26"
            ],
            [
             1,
             "#f0f921"
            ]
           ],
           "sequentialminus": [
            [
             0,
             "#0d0887"
            ],
            [
             0.1111111111111111,
             "#46039f"
            ],
            [
             0.2222222222222222,
             "#7201a8"
            ],
            [
             0.3333333333333333,
             "#9c179e"
            ],
            [
             0.4444444444444444,
             "#bd3786"
            ],
            [
             0.5555555555555556,
             "#d8576b"
            ],
            [
             0.6666666666666666,
             "#ed7953"
            ],
            [
             0.7777777777777778,
             "#fb9f3a"
            ],
            [
             0.8888888888888888,
             "#fdca26"
            ],
            [
             1,
             "#f0f921"
            ]
           ]
          },
          "colorway": [
           "#636efa",
           "#EF553B",
           "#00cc96",
           "#ab63fa",
           "#FFA15A",
           "#19d3f3",
           "#FF6692",
           "#B6E880",
           "#FF97FF",
           "#FECB52"
          ],
          "font": {
           "color": "#2a3f5f"
          },
          "geo": {
           "bgcolor": "white",
           "lakecolor": "white",
           "landcolor": "#E5ECF6",
           "showlakes": true,
           "showland": true,
           "subunitcolor": "white"
          },
          "hoverlabel": {
           "align": "left"
          },
          "hovermode": "closest",
          "mapbox": {
           "style": "light"
          },
          "paper_bgcolor": "white",
          "plot_bgcolor": "#E5ECF6",
          "polar": {
           "angularaxis": {
            "gridcolor": "white",
            "linecolor": "white",
            "ticks": ""
           },
           "bgcolor": "#E5ECF6",
           "radialaxis": {
            "gridcolor": "white",
            "linecolor": "white",
            "ticks": ""
           }
          },
          "scene": {
           "xaxis": {
            "backgroundcolor": "#E5ECF6",
            "gridcolor": "white",
            "gridwidth": 2,
            "linecolor": "white",
            "showbackground": true,
            "ticks": "",
            "zerolinecolor": "white"
           },
           "yaxis": {
            "backgroundcolor": "#E5ECF6",
            "gridcolor": "white",
            "gridwidth": 2,
            "linecolor": "white",
            "showbackground": true,
            "ticks": "",
            "zerolinecolor": "white"
           },
           "zaxis": {
            "backgroundcolor": "#E5ECF6",
            "gridcolor": "white",
            "gridwidth": 2,
            "linecolor": "white",
            "showbackground": true,
            "ticks": "",
            "zerolinecolor": "white"
           }
          },
          "shapedefaults": {
           "line": {
            "color": "#2a3f5f"
           }
          },
          "ternary": {
           "aaxis": {
            "gridcolor": "white",
            "linecolor": "white",
            "ticks": ""
           },
           "baxis": {
            "gridcolor": "white",
            "linecolor": "white",
            "ticks": ""
           },
           "bgcolor": "#E5ECF6",
           "caxis": {
            "gridcolor": "white",
            "linecolor": "white",
            "ticks": ""
           }
          },
          "title": {
           "x": 0.05
          },
          "xaxis": {
           "automargin": true,
           "gridcolor": "white",
           "linecolor": "white",
           "ticks": "",
           "title": {
            "standoff": 15
           },
           "zerolinecolor": "white",
           "zerolinewidth": 2
          },
          "yaxis": {
           "automargin": true,
           "gridcolor": "white",
           "linecolor": "white",
           "ticks": "",
           "title": {
            "standoff": 15
           },
           "zerolinecolor": "white",
           "zerolinewidth": 2
          }
         }
        },
        "title": {
         "text": "GDP per capita and employment in agriculture for Afghanistan"
        },
        "xaxis": {
         "title": {
          "text": "Year"
         }
        },
        "yaxis": {
         "title": {
          "text": "GDP per capita"
         }
        },
        "yaxis2": {
         "overlaying": "y",
         "side": "right",
         "title": {
          "text": "Employment in agriculture (%)"
         }
        }
       }
      }
     },
     "metadata": {},
     "output_type": "display_data"
    },
    {
     "data": {
      "text/plain": [
       "<function __main__.plot_gdp_per_capita_and_agri_empl(country)>"
      ]
     },
     "execution_count": 4,
     "metadata": {},
     "output_type": "execute_result"
    }
   ],
   "source": [
    "countries_list = data_frames_combined['country'].unique().tolist()\n",
    "\n",
    "def plot_gdp_per_capita_and_agri_empl(country):\n",
    "    # Filter the data for the selected country\n",
    "    country_data = data_frames_combined[data_frames_combined['country'] == country]\n",
    "\n",
    "    # Create the plot\n",
    "    fig = go.Figure()\n",
    "\n",
    "    # Add GDP per capita trace (left y-axis)\n",
    "    fig.add_trace(go.Scatter(x=country_data['year'], y=country_data['GDP_per_capita'],\n",
    "                             mode='lines+markers', name='GDP per capita'))\n",
    "\n",
    "    # Add percentage of people working in agriculture trace (right y-axis)\n",
    "    fig.add_trace(go.Scatter(x=country_data['year'], y=country_data['Empl_in_agri_in_%_of_all_empl'],\n",
    "                             mode='lines+markers', name='Employment in agriculture (%)',\n",
    "                             yaxis='y2'))\n",
    "\n",
    "    # Set the plot title and axis labels\n",
    "    fig.update_layout(\n",
    "        title=f'GDP per capita and employment in agriculture for {country}',\n",
    "        xaxis_title='Year',\n",
    "        yaxis_title='GDP per capita',\n",
    "        yaxis2=dict(\n",
    "            title='Employment in agriculture (%)',\n",
    "            overlaying='y',\n",
    "            side='right'\n",
    "        )\n",
    "    )\n",
    "\n",
    "    # Show the plot\n",
    "    fig.show()\n",
    "\n",
    "# Create a dropdown menu to select a country\n",
    "interact(plot_gdp_per_capita_and_agri_empl, country=widgets.Dropdown(options=countries_list, value=countries_list[0], description='Country:'))\n"
   ]
  },
  {
   "attachments": {},
   "cell_type": "markdown",
   "metadata": {},
   "source": [
    "DISCLAIMER: DUE TO THE AMOUNT OF DATA USED HERE IT MIGHT BE POSSIBLE THAT THE INTERACTIVE PLOT ABOVE DOES NOT AUTO-DISPLAY PROPERLY AND A COUNTRY MUST FIRST BE MANUALLY SELECTED!\n",
    "\n",
    "EXPLANATION: "
   ]
  },
  {
   "cell_type": "markdown",
   "metadata": {},
   "source": [
    "# Analysis"
   ]
  },
  {
   "attachments": {},
   "cell_type": "markdown",
   "metadata": {},
   "source": [
    "We are now creating a subset of our DataFrame of the 10 countries with the largest area of arable land. In this Dataframe we will try to find a relationship between the influence of GDP per capita on the amount of arable land farmed per person working in agriculture. "
   ]
  },
  {
   "cell_type": "code",
   "execution_count": 5,
   "metadata": {},
   "outputs": [
    {
     "name": "stderr",
     "output_type": "stream",
     "text": [
      "C:\\Users\\luke-\\AppData\\Local\\Temp\\ipykernel_8432\\3674258114.py:3: FutureWarning:\n",
      "\n",
      "The default value of regex will change from True to False in a future version. In addition, single character regular expressions will *not* be treated as literal strings when regex=True.\n",
      "\n"
     ]
    }
   ],
   "source": [
    "# a. First change the units of the columns back to floats and integers to allow for calculation\n",
    "data_frames_combined['Empl_in_agri_in_%_of_all_empl'] = data_frames_combined['Empl_in_agri_in_%_of_all_empl'].str.replace('%','').astype(float)\n",
    "data_frames_combined['GDP_per_capita'] = data_frames_combined['GDP_per_capita'].str.replace('$','').astype(float)\n",
    "data_frames_combined['Arable_Land'] = data_frames_combined['Arable_Land'].str.replace(' ha','').astype(int)"
   ]
  },
  {
   "cell_type": "code",
   "execution_count": 23,
   "metadata": {},
   "outputs": [
    {
     "name": "stdout",
     "output_type": "stream",
     "text": [
      "The 10 biggest countries by area of arable land that will remain in the DataFrame are:\n",
      " ['United States', 'India', 'Russian Federation', 'China', 'Brazil', 'Canada', 'Nigeria', 'Ukraine', 'Argentina', 'Australia']\n"
     ]
    },
    {
     "data": {
      "text/html": [
       "<div>\n",
       "<style scoped>\n",
       "    .dataframe tbody tr th:only-of-type {\n",
       "        vertical-align: middle;\n",
       "    }\n",
       "\n",
       "    .dataframe tbody tr th {\n",
       "        vertical-align: top;\n",
       "    }\n",
       "\n",
       "    .dataframe thead th {\n",
       "        text-align: right;\n",
       "    }\n",
       "</style>\n",
       "<table border=\"1\" class=\"dataframe\">\n",
       "  <thead>\n",
       "    <tr style=\"text-align: right;\">\n",
       "      <th></th>\n",
       "      <th>country</th>\n",
       "      <th>year</th>\n",
       "      <th>Arable_Land</th>\n",
       "      <th>Labor_Force</th>\n",
       "      <th>Empl_in_agri_in_%_of_all_empl</th>\n",
       "      <th>GDP_per_capita</th>\n",
       "    </tr>\n",
       "  </thead>\n",
       "  <tbody>\n",
       "    <tr>\n",
       "      <th>0</th>\n",
       "      <td>Argentina</td>\n",
       "      <td>2019</td>\n",
       "      <td>32632760</td>\n",
       "      <td>20607477</td>\n",
       "      <td>0.06</td>\n",
       "      <td>9963.67</td>\n",
       "    </tr>\n",
       "    <tr>\n",
       "      <th>1</th>\n",
       "      <td>Argentina</td>\n",
       "      <td>2018</td>\n",
       "      <td>32632760</td>\n",
       "      <td>20103008</td>\n",
       "      <td>0.10</td>\n",
       "      <td>11795.16</td>\n",
       "    </tr>\n",
       "    <tr>\n",
       "      <th>2</th>\n",
       "      <td>Argentina</td>\n",
       "      <td>2017</td>\n",
       "      <td>33984900</td>\n",
       "      <td>19580710</td>\n",
       "      <td>0.06</td>\n",
       "      <td>14613.04</td>\n",
       "    </tr>\n",
       "    <tr>\n",
       "      <th>3</th>\n",
       "      <td>Argentina</td>\n",
       "      <td>2016</td>\n",
       "      <td>35336500</td>\n",
       "      <td>19404277</td>\n",
       "      <td>0.13</td>\n",
       "      <td>12790.24</td>\n",
       "    </tr>\n",
       "    <tr>\n",
       "      <th>4</th>\n",
       "      <td>Argentina</td>\n",
       "      <td>2015</td>\n",
       "      <td>36688100</td>\n",
       "      <td>19229475</td>\n",
       "      <td>0.26</td>\n",
       "      <td>13789.06</td>\n",
       "    </tr>\n",
       "    <tr>\n",
       "      <th>...</th>\n",
       "      <td>...</td>\n",
       "      <td>...</td>\n",
       "      <td>...</td>\n",
       "      <td>...</td>\n",
       "      <td>...</td>\n",
       "      <td>...</td>\n",
       "    </tr>\n",
       "    <tr>\n",
       "      <th>283</th>\n",
       "      <td>United States</td>\n",
       "      <td>1995</td>\n",
       "      <td>181839000</td>\n",
       "      <td>135975699</td>\n",
       "      <td>1.83</td>\n",
       "      <td>28690.88</td>\n",
       "    </tr>\n",
       "    <tr>\n",
       "      <th>284</th>\n",
       "      <td>United States</td>\n",
       "      <td>1994</td>\n",
       "      <td>181939000</td>\n",
       "      <td>134076656</td>\n",
       "      <td>1.86</td>\n",
       "      <td>27694.85</td>\n",
       "    </tr>\n",
       "    <tr>\n",
       "      <th>285</th>\n",
       "      <td>United States</td>\n",
       "      <td>1993</td>\n",
       "      <td>182748000</td>\n",
       "      <td>131792391</td>\n",
       "      <td>1.89</td>\n",
       "      <td>26387.29</td>\n",
       "    </tr>\n",
       "    <tr>\n",
       "      <th>286</th>\n",
       "      <td>United States</td>\n",
       "      <td>1992</td>\n",
       "      <td>184080000</td>\n",
       "      <td>130387362</td>\n",
       "      <td>1.91</td>\n",
       "      <td>25418.99</td>\n",
       "    </tr>\n",
       "    <tr>\n",
       "      <th>287</th>\n",
       "      <td>United States</td>\n",
       "      <td>1991</td>\n",
       "      <td>185676000</td>\n",
       "      <td>128277995</td>\n",
       "      <td>1.93</td>\n",
       "      <td>24342.26</td>\n",
       "    </tr>\n",
       "  </tbody>\n",
       "</table>\n",
       "<p>288 rows × 6 columns</p>\n",
       "</div>"
      ],
      "text/plain": [
       "           country  year  Arable_Land  Labor_Force  \\\n",
       "0        Argentina  2019     32632760     20607477   \n",
       "1        Argentina  2018     32632760     20103008   \n",
       "2        Argentina  2017     33984900     19580710   \n",
       "3        Argentina  2016     35336500     19404277   \n",
       "4        Argentina  2015     36688100     19229475   \n",
       "..             ...   ...          ...          ...   \n",
       "283  United States  1995    181839000    135975699   \n",
       "284  United States  1994    181939000    134076656   \n",
       "285  United States  1993    182748000    131792391   \n",
       "286  United States  1992    184080000    130387362   \n",
       "287  United States  1991    185676000    128277995   \n",
       "\n",
       "     Empl_in_agri_in_%_of_all_empl  GDP_per_capita  \n",
       "0                             0.06         9963.67  \n",
       "1                             0.10        11795.16  \n",
       "2                             0.06        14613.04  \n",
       "3                             0.13        12790.24  \n",
       "4                             0.26        13789.06  \n",
       "..                             ...             ...  \n",
       "283                           1.83        28690.88  \n",
       "284                           1.86        27694.85  \n",
       "285                           1.89        26387.29  \n",
       "286                           1.91        25418.99  \n",
       "287                           1.93        24342.26  \n",
       "\n",
       "[288 rows x 6 columns]"
      ]
     },
     "execution_count": 23,
     "metadata": {},
     "output_type": "execute_result"
    }
   ],
   "source": [
    "# b. Creating a list of the 10 biggest countries by area of arable land \n",
    "df_sorted = data_frames_combined.sort_values('year', ascending=False)   # Sort big dataframe by year \n",
    "grouped = df_sorted.groupby('country')                                  # Group by country\n",
    "latest_year = grouped.head(1)                                           # Keep rows for most recent year for each country\n",
    "largest_countries = latest_year.nlargest(10, 'Arable_Land')             # Get the 10 largest in a DataFrame\n",
    "country_column = largest_countries['country']                           # Get the country column as a Series object\n",
    "country_list = country_column.tolist()                                  # Convert into a Python list\n",
    "\n",
    "# Printing which countries we are going to keep \n",
    "print(f\"The 10 biggest countries by area of arable land that will remain in the DataFrame are:\\n {country_list}\")\n",
    "\n",
    "# Cutting down the big WorldBank-DataFrame to the 10 countries with the largest area of arable land\n",
    "data_frame_ten_biggest = data_frames_combined[data_frames_combined['country'].isin(country_list)]\n",
    "data_frame_ten_biggest = data_frame_ten_biggest.reset_index(drop=True)\n",
    "\n",
    "# Displaying the new cut down Dataframe \n",
    "data_frame_ten_biggest"
   ]
  },
  {
   "attachments": {},
   "cell_type": "markdown",
   "metadata": {},
   "source": [
    "To get to the relationship between the GDP per capita and the area of arable land farmed by a single person working in the agriculture sector we will need to compute some new columns out of our original WorldBank-data due to the fact that not all the data was available in the way we would need it.\n",
    "\n",
    "- We will have to compute the absolute amount of people working in the agriculture sector per country from the columns of the labor force and the percentage of people employed in agriculture. \n",
    "\n",
    "- We will also calculate a new column of the arable land divided by the people working in the agriculture sector. This then gives us an indicator on how much area of arable land one single worker can handle."
   ]
  },
  {
   "cell_type": "code",
   "execution_count": 25,
   "metadata": {},
   "outputs": [
    {
     "data": {
      "text/html": [
       "<div>\n",
       "<style scoped>\n",
       "    .dataframe tbody tr th:only-of-type {\n",
       "        vertical-align: middle;\n",
       "    }\n",
       "\n",
       "    .dataframe tbody tr th {\n",
       "        vertical-align: top;\n",
       "    }\n",
       "\n",
       "    .dataframe thead th {\n",
       "        text-align: right;\n",
       "    }\n",
       "</style>\n",
       "<table border=\"1\" class=\"dataframe\">\n",
       "  <thead>\n",
       "    <tr style=\"text-align: right;\">\n",
       "      <th></th>\n",
       "      <th>country</th>\n",
       "      <th>year</th>\n",
       "      <th>Arable_Land</th>\n",
       "      <th>Labor_Force</th>\n",
       "      <th>Empl_in_agri_in_%_of_all_empl</th>\n",
       "      <th>GDP_per_capita</th>\n",
       "      <th>People_in_agri</th>\n",
       "      <th>Land_per_agri_worker</th>\n",
       "    </tr>\n",
       "  </thead>\n",
       "  <tbody>\n",
       "    <tr>\n",
       "      <th>0</th>\n",
       "      <td>Argentina</td>\n",
       "      <td>2019</td>\n",
       "      <td>32632760</td>\n",
       "      <td>20607477</td>\n",
       "      <td>0.06</td>\n",
       "      <td>9963.67</td>\n",
       "      <td>12364</td>\n",
       "      <td>2639.336784</td>\n",
       "    </tr>\n",
       "    <tr>\n",
       "      <th>1</th>\n",
       "      <td>Argentina</td>\n",
       "      <td>2018</td>\n",
       "      <td>32632760</td>\n",
       "      <td>20103008</td>\n",
       "      <td>0.10</td>\n",
       "      <td>11795.16</td>\n",
       "      <td>20103</td>\n",
       "      <td>1623.278118</td>\n",
       "    </tr>\n",
       "    <tr>\n",
       "      <th>2</th>\n",
       "      <td>Argentina</td>\n",
       "      <td>2017</td>\n",
       "      <td>33984900</td>\n",
       "      <td>19580710</td>\n",
       "      <td>0.06</td>\n",
       "      <td>14613.04</td>\n",
       "      <td>11748</td>\n",
       "      <td>2892.824311</td>\n",
       "    </tr>\n",
       "    <tr>\n",
       "      <th>3</th>\n",
       "      <td>Argentina</td>\n",
       "      <td>2016</td>\n",
       "      <td>35336500</td>\n",
       "      <td>19404277</td>\n",
       "      <td>0.13</td>\n",
       "      <td>12790.24</td>\n",
       "      <td>25225</td>\n",
       "      <td>1400.852329</td>\n",
       "    </tr>\n",
       "    <tr>\n",
       "      <th>4</th>\n",
       "      <td>Argentina</td>\n",
       "      <td>2015</td>\n",
       "      <td>36688100</td>\n",
       "      <td>19229475</td>\n",
       "      <td>0.26</td>\n",
       "      <td>13789.06</td>\n",
       "      <td>49996</td>\n",
       "      <td>733.820706</td>\n",
       "    </tr>\n",
       "    <tr>\n",
       "      <th>...</th>\n",
       "      <td>...</td>\n",
       "      <td>...</td>\n",
       "      <td>...</td>\n",
       "      <td>...</td>\n",
       "      <td>...</td>\n",
       "      <td>...</td>\n",
       "      <td>...</td>\n",
       "      <td>...</td>\n",
       "    </tr>\n",
       "    <tr>\n",
       "      <th>283</th>\n",
       "      <td>United States</td>\n",
       "      <td>1995</td>\n",
       "      <td>181839000</td>\n",
       "      <td>135975699</td>\n",
       "      <td>1.83</td>\n",
       "      <td>28690.88</td>\n",
       "      <td>2488355</td>\n",
       "      <td>73.075988</td>\n",
       "    </tr>\n",
       "    <tr>\n",
       "      <th>284</th>\n",
       "      <td>United States</td>\n",
       "      <td>1994</td>\n",
       "      <td>181939000</td>\n",
       "      <td>134076656</td>\n",
       "      <td>1.86</td>\n",
       "      <td>27694.85</td>\n",
       "      <td>2493825</td>\n",
       "      <td>72.955801</td>\n",
       "    </tr>\n",
       "    <tr>\n",
       "      <th>285</th>\n",
       "      <td>United States</td>\n",
       "      <td>1993</td>\n",
       "      <td>182748000</td>\n",
       "      <td>131792391</td>\n",
       "      <td>1.89</td>\n",
       "      <td>26387.29</td>\n",
       "      <td>2490876</td>\n",
       "      <td>73.366960</td>\n",
       "    </tr>\n",
       "    <tr>\n",
       "      <th>286</th>\n",
       "      <td>United States</td>\n",
       "      <td>1992</td>\n",
       "      <td>184080000</td>\n",
       "      <td>130387362</td>\n",
       "      <td>1.91</td>\n",
       "      <td>25418.99</td>\n",
       "      <td>2490398</td>\n",
       "      <td>73.915896</td>\n",
       "    </tr>\n",
       "    <tr>\n",
       "      <th>287</th>\n",
       "      <td>United States</td>\n",
       "      <td>1991</td>\n",
       "      <td>185676000</td>\n",
       "      <td>128277995</td>\n",
       "      <td>1.93</td>\n",
       "      <td>24342.26</td>\n",
       "      <td>2475765</td>\n",
       "      <td>74.997425</td>\n",
       "    </tr>\n",
       "  </tbody>\n",
       "</table>\n",
       "<p>288 rows × 8 columns</p>\n",
       "</div>"
      ],
      "text/plain": [
       "           country  year  Arable_Land  Labor_Force  \\\n",
       "0        Argentina  2019     32632760     20607477   \n",
       "1        Argentina  2018     32632760     20103008   \n",
       "2        Argentina  2017     33984900     19580710   \n",
       "3        Argentina  2016     35336500     19404277   \n",
       "4        Argentina  2015     36688100     19229475   \n",
       "..             ...   ...          ...          ...   \n",
       "283  United States  1995    181839000    135975699   \n",
       "284  United States  1994    181939000    134076656   \n",
       "285  United States  1993    182748000    131792391   \n",
       "286  United States  1992    184080000    130387362   \n",
       "287  United States  1991    185676000    128277995   \n",
       "\n",
       "     Empl_in_agri_in_%_of_all_empl  GDP_per_capita  People_in_agri  \\\n",
       "0                             0.06         9963.67           12364   \n",
       "1                             0.10        11795.16           20103   \n",
       "2                             0.06        14613.04           11748   \n",
       "3                             0.13        12790.24           25225   \n",
       "4                             0.26        13789.06           49996   \n",
       "..                             ...             ...             ...   \n",
       "283                           1.83        28690.88         2488355   \n",
       "284                           1.86        27694.85         2493825   \n",
       "285                           1.89        26387.29         2490876   \n",
       "286                           1.91        25418.99         2490398   \n",
       "287                           1.93        24342.26         2475765   \n",
       "\n",
       "     Land_per_agri_worker  \n",
       "0             2639.336784  \n",
       "1             1623.278118  \n",
       "2             2892.824311  \n",
       "3             1400.852329  \n",
       "4              733.820706  \n",
       "..                    ...  \n",
       "283             73.075988  \n",
       "284             72.955801  \n",
       "285             73.366960  \n",
       "286             73.915896  \n",
       "287             74.997425  \n",
       "\n",
       "[288 rows x 8 columns]"
      ]
     },
     "execution_count": 25,
     "metadata": {},
     "output_type": "execute_result"
    }
   ],
   "source": [
    "# Create new column of absolute amount of people working in the agriculture sector\n",
    "data_frame_ten_biggest['People_in_agri'] = (data_frame_ten_biggest['Labor_Force'] * (data_frame_ten_biggest['Empl_in_agri_in_%_of_all_empl'] / 100)).astype(int)\n",
    "\n",
    "# Create a new column of the arable land divided by the people working in the agriculture sector\n",
    "data_frame_ten_biggest['Land_per_agri_worker'] = data_frame_ten_biggest['Arable_Land'] / data_frame_ten_biggest['People_in_agri'] \n",
    "\n",
    "# Display the Dataframe  \n",
    "data_frame_ten_biggest"
   ]
  },
  {
   "attachments": {},
   "cell_type": "markdown",
   "metadata": {},
   "source": [
    "**Interactive plot** :"
   ]
  },
  {
   "cell_type": "code",
   "execution_count": null,
   "metadata": {},
   "outputs": [],
   "source": [
    "\n"
   ]
  },
  {
   "cell_type": "markdown",
   "metadata": {},
   "source": [
    "To get a quick overview of the data, we show some **summary statistics** on a meaningful aggregation. "
   ]
  },
  {
   "cell_type": "markdown",
   "metadata": {},
   "source": [
    "MAKE FURTHER ANALYSIS. EXPLAIN THE CODE BRIEFLY AND SUMMARIZE THE RESULTS."
   ]
  },
  {
   "cell_type": "markdown",
   "metadata": {},
   "source": [
    "# Conclusion"
   ]
  },
  {
   "cell_type": "markdown",
   "metadata": {},
   "source": [
    "ADD CONCISE CONLUSION."
   ]
  }
 ],
 "metadata": {
  "kernelspec": {
   "display_name": "base",
   "language": "python",
   "name": "python3"
  },
  "language_info": {
   "codemirror_mode": {
    "name": "ipython",
    "version": 3
   },
   "file_extension": ".py",
   "mimetype": "text/x-python",
   "name": "python",
   "nbconvert_exporter": "python",
   "pygments_lexer": "ipython3",
   "version": "3.9.16"
  },
  "toc-autonumbering": true,
  "vscode": {
   "interpreter": {
    "hash": "2817e5a963fe39eff03cb95cdc8f572ee2f2e1817bf2ac4532382cdfef8588ff"
   }
  }
 },
 "nbformat": 4,
 "nbformat_minor": 4
}
