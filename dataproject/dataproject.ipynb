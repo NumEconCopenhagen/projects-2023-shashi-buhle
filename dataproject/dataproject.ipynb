{
 "cells": [
  {
   "attachments": {},
   "cell_type": "markdown",
   "metadata": {},
   "source": [
    "# Impact of GDP per capita on employment in worldwide agriculture over the past 30 years  "
   ]
  },
  {
   "cell_type": "markdown",
   "metadata": {},
   "source": [
    "Imports and set magics:"
   ]
  },
  {
   "cell_type": "code",
   "execution_count": 20,
   "metadata": {},
   "outputs": [
    {
     "name": "stdout",
     "output_type": "stream",
     "text": [
      "The autoreload extension is already loaded. To reload it, use:\n",
      "  %reload_ext autoreload\n"
     ]
    }
   ],
   "source": [
    "import pandas as pd\n",
    "import numpy as np\n",
    "import matplotlib.pyplot as plt\n",
    "import ipywidgets as widgets\n",
    "from matplotlib_venn import venn2\n",
    "from functools import reduce\n",
    "\n",
    "# autoreload modules when code is run\n",
    "%load_ext autoreload\n",
    "%autoreload 2\n",
    "\n",
    "# user written modules\n",
    "import dataproject\n",
    "\n",
    "# import the API for WorldBank-data\n",
    "from pandas_datareader import wb"
   ]
  },
  {
   "attachments": {},
   "cell_type": "markdown",
   "metadata": {},
   "source": [
    "# Read data"
   ]
  },
  {
   "attachments": {},
   "cell_type": "markdown",
   "metadata": {},
   "source": [
    "Here we are importing data using the API for WorldBank-data. We found the following data and data-codes using the Website of the WorldBank to provide us with different measures for countrys worldwide over the past decades:\\\n",
    "#\n",
    "-Arable land in hectares --> *AG.LND.ARBL.HA*\\\n",
    "-Labor force --> *SL.TLF.TOTL.IN*\\\n",
    "-GDP per capita in USD --> *NY.GDP.PCAP.CD*\\\n",
    "-Employment in agriculture in % of total empoyment --> *SL.AGR.EMPL.ZS*"
   ]
  },
  {
   "cell_type": "code",
   "execution_count": 21,
   "metadata": {},
   "outputs": [],
   "source": [
    "# Setting up list of ISO-codes of countries where we are going to import data from using the API\n",
    "countries_ISO_list = ['ABW', 'AFG', 'AGO', 'ALB', 'AND', 'ARE', 'ARG', 'ARM', 'ASM', 'AUS', 'AUT', \n",
    "                      'AZE', 'BDI', 'BEL', 'BEN', 'BFA', 'BGD', 'BGR', 'BHR', 'BHS', 'BIH', 'BLR', \n",
    "                      'BLZ', 'BMU', 'BOL', 'BRA', 'BRB', 'BRN', 'BTN', 'BWA', 'CAF', 'CAN', 'CHE', \n",
    "                      'CHL', 'CHN', 'CIV', 'CMR', 'COD', 'COG', 'COL', 'COM', 'CPV', 'CRI', 'CUB', \n",
    "                      'CUW', 'CYM', 'CYP', 'CZE', 'DEU', 'DJI', 'DMA', 'DNK', 'DOM', 'DZA', 'ECU', \n",
    "                      'EGY', 'ERI', 'ESP', 'EST', 'ETH', 'FIN', 'FJI', 'FRA', 'FRO', 'GAB', 'GBR', \n",
    "                      'GEO', 'GHA', 'GIB', 'GIN', 'GMB', 'GNB', 'GNQ', 'GRC', 'GRD', 'GRL', 'GTM', \n",
    "                      'GUY', 'HKG', 'HND', 'HRV', 'HTI', 'HUN', 'IDN', 'IMN', 'IND', 'IRL', 'IRN', \n",
    "                      'IRQ', 'ISL', 'ISR', 'ITA', 'JAM', 'JOR', 'JPN', 'KAZ', 'KEN', 'KGZ', 'KHM', \n",
    "                      'KIR', 'KNA', 'KOR', 'KWT', 'LBN', 'LBR', 'LBY', 'LCA', 'LIE', 'LKA', 'LSO', \n",
    "                      'LTU', 'LUX', 'LVA', 'MAC', 'MAF', 'MAR', 'MCO', 'MDA', 'MDG', 'MDV', 'MEX', \n",
    "                      'MKD', 'MLI', 'MLT', 'MMR', 'MNE', 'MNG', 'MOZ', 'MRT', 'MUS', 'MWI', 'MYS', \n",
    "                      'NAM', 'NCL', 'NER', 'NGA', 'NIC', 'NLD', 'NOR', 'NPL', 'NRU', 'NZL', 'OMN', \n",
    "                      'PAK', 'PAN', 'PER', 'PHL', 'PLW', 'PNG', 'POL', 'PRI', 'PRK', 'PRT', 'PRY', \n",
    "                      'PSE', 'PYF', 'QAT', 'ROU', 'RUS', 'RWA', 'SAU', 'SDN', 'SEN', 'SGP', 'SLE', \n",
    "                      'SLV', 'SMR', 'SOM', 'SRB', 'SSD', 'STP', 'SUR', 'SVK', 'SVN', 'SWE', 'SWZ', \n",
    "                      'SXM', 'SYC', 'SYR', 'TCA', 'TCD', 'TGO', 'THA', 'TJK', 'TKM', 'TLS', 'TON', \n",
    "                      'TTO', 'TUN', 'TUR', 'TUV', 'TZA', 'UGA', 'UKR', 'URY', 'USA', 'UZB', 'VCT', \n",
    "                      'VEN', 'VGB', 'VIR', 'VNM', 'VUT', 'WSM', 'YEM', 'ZAF', 'ZMB', 'ZWE']\n",
    "\n",
    "# Importing the different DataFrames from the WorldBank using the API from the lecture and resetting the index for each DataFrame\n",
    "wb_arable_land = wb.download(indicator='AG.LND.ARBL.HA', country= countries_ISO_list, start=1989, end=2019)\n",
    "wb_arable_land = wb_arable_land.reset_index()\n",
    "wb_labor_force = wb.download(indicator='SL.TLF.TOTL.IN', country= countries_ISO_list, start=1989, end=2019)\n",
    "wb_labor_force = wb_labor_force.reset_index()\n",
    "wb_emp_ag = wb.download(indicator='SL.AGR.EMPL.ZS', country= countries_ISO_list, start=1989, end=2019)\n",
    "wb_emp_ag = wb_emp_ag.reset_index()\n",
    "wb_gdp_cap = wb.download(indicator='NY.GDP.PCAP.CD', country= countries_ISO_list, start=1989, end=2019)\n",
    "wb_gdp_cap = wb_gdp_cap.reset_index()\n",
    "\n",
    "# Resetting the countries as the index for each DataFrame\n",
    "wb_arable_land = wb_arable_land.set_index('country')\n",
    "wb_labor_force = wb_labor_force.set_index('country')\n",
    "wb_emp_ag = wb_emp_ag.set_index('country')\n",
    "wb_gdp_cap = wb_gdp_cap.set_index('country')"
   ]
  },
  {
   "attachments": {},
   "cell_type": "markdown",
   "metadata": {},
   "source": [
    "# Clean and merge data "
   ]
  },
  {
   "cell_type": "code",
   "execution_count": 30,
   "metadata": {},
   "outputs": [
    {
     "data": {
      "text/html": [
       "<div>\n",
       "<style scoped>\n",
       "    .dataframe tbody tr th:only-of-type {\n",
       "        vertical-align: middle;\n",
       "    }\n",
       "\n",
       "    .dataframe tbody tr th {\n",
       "        vertical-align: top;\n",
       "    }\n",
       "\n",
       "    .dataframe thead th {\n",
       "        text-align: right;\n",
       "    }\n",
       "</style>\n",
       "<table border=\"1\" class=\"dataframe\">\n",
       "  <thead>\n",
       "    <tr style=\"text-align: right;\">\n",
       "      <th></th>\n",
       "      <th>year</th>\n",
       "      <th>Arable_Land</th>\n",
       "      <th>Labor_Force</th>\n",
       "      <th>Empl_in_agri_in_%_of_all_empl</th>\n",
       "      <th>GDP_per_capita</th>\n",
       "    </tr>\n",
       "    <tr>\n",
       "      <th>country</th>\n",
       "      <th></th>\n",
       "      <th></th>\n",
       "      <th></th>\n",
       "      <th></th>\n",
       "      <th></th>\n",
       "    </tr>\n",
       "  </thead>\n",
       "  <tbody>\n",
       "    <tr>\n",
       "      <th>Afghanistan</th>\n",
       "      <td>2019</td>\n",
       "      <td>7788000.0</td>\n",
       "      <td>9991682.0</td>\n",
       "      <td>42.50</td>\n",
       "      <td>500.52</td>\n",
       "    </tr>\n",
       "    <tr>\n",
       "      <th>Afghanistan</th>\n",
       "      <td>2018</td>\n",
       "      <td>7794000.0</td>\n",
       "      <td>9613728.0</td>\n",
       "      <td>43.13</td>\n",
       "      <td>502.06</td>\n",
       "    </tr>\n",
       "    <tr>\n",
       "      <th>Afghanistan</th>\n",
       "      <td>2017</td>\n",
       "      <td>7699000.0</td>\n",
       "      <td>9254594.0</td>\n",
       "      <td>43.99</td>\n",
       "      <td>530.15</td>\n",
       "    </tr>\n",
       "    <tr>\n",
       "      <th>Afghanistan</th>\n",
       "      <td>2016</td>\n",
       "      <td>7729000.0</td>\n",
       "      <td>8913938.0</td>\n",
       "      <td>45.81</td>\n",
       "      <td>520.25</td>\n",
       "    </tr>\n",
       "    <tr>\n",
       "      <th>Afghanistan</th>\n",
       "      <td>2015</td>\n",
       "      <td>7765000.0</td>\n",
       "      <td>8630723.0</td>\n",
       "      <td>47.07</td>\n",
       "      <td>592.48</td>\n",
       "    </tr>\n",
       "    <tr>\n",
       "      <th>Afghanistan</th>\n",
       "      <td>2014</td>\n",
       "      <td>7771000.0</td>\n",
       "      <td>8285362.0</td>\n",
       "      <td>48.41</td>\n",
       "      <td>628.15</td>\n",
       "    </tr>\n",
       "    <tr>\n",
       "      <th>Afghanistan</th>\n",
       "      <td>2013</td>\n",
       "      <td>7785000.0</td>\n",
       "      <td>7881567.0</td>\n",
       "      <td>49.82</td>\n",
       "      <td>651.99</td>\n",
       "    </tr>\n",
       "    <tr>\n",
       "      <th>Afghanistan</th>\n",
       "      <td>2012</td>\n",
       "      <td>7790000.0</td>\n",
       "      <td>7520865.0</td>\n",
       "      <td>51.40</td>\n",
       "      <td>663.14</td>\n",
       "    </tr>\n",
       "    <tr>\n",
       "      <th>Afghanistan</th>\n",
       "      <td>2011</td>\n",
       "      <td>7791000.0</td>\n",
       "      <td>7098230.0</td>\n",
       "      <td>53.56</td>\n",
       "      <td>621.91</td>\n",
       "    </tr>\n",
       "    <tr>\n",
       "      <th>Afghanistan</th>\n",
       "      <td>2010</td>\n",
       "      <td>7793000.0</td>\n",
       "      <td>6743046.0</td>\n",
       "      <td>54.58</td>\n",
       "      <td>554.60</td>\n",
       "    </tr>\n",
       "  </tbody>\n",
       "</table>\n",
       "</div>"
      ],
      "text/plain": [
       "             year  Arable_Land  Labor_Force  Empl_in_agri_in_%_of_all_empl  \\\n",
       "country                                                                      \n",
       "Afghanistan  2019    7788000.0    9991682.0                          42.50   \n",
       "Afghanistan  2018    7794000.0    9613728.0                          43.13   \n",
       "Afghanistan  2017    7699000.0    9254594.0                          43.99   \n",
       "Afghanistan  2016    7729000.0    8913938.0                          45.81   \n",
       "Afghanistan  2015    7765000.0    8630723.0                          47.07   \n",
       "Afghanistan  2014    7771000.0    8285362.0                          48.41   \n",
       "Afghanistan  2013    7785000.0    7881567.0                          49.82   \n",
       "Afghanistan  2012    7790000.0    7520865.0                          51.40   \n",
       "Afghanistan  2011    7791000.0    7098230.0                          53.56   \n",
       "Afghanistan  2010    7793000.0    6743046.0                          54.58   \n",
       "\n",
       "             GDP_per_capita  \n",
       "country                      \n",
       "Afghanistan          500.52  \n",
       "Afghanistan          502.06  \n",
       "Afghanistan          530.15  \n",
       "Afghanistan          520.25  \n",
       "Afghanistan          592.48  \n",
       "Afghanistan          628.15  \n",
       "Afghanistan          651.99  \n",
       "Afghanistan          663.14  \n",
       "Afghanistan          621.91  \n",
       "Afghanistan          554.60  "
      ]
     },
     "execution_count": 30,
     "metadata": {},
     "output_type": "execute_result"
    }
   ],
   "source": [
    "# changing the data-type of the 'year'-column to an integer\n",
    "wb_arable_land.year = wb_arable_land.year.astype(int)\n",
    "wb_labor_force.year = wb_labor_force.year.astype(int)\n",
    "wb_emp_ag.year = wb_emp_ag.year.astype(int)\n",
    "wb_gdp_cap.year = wb_gdp_cap.year.astype(int)\n",
    "\n",
    "# Merging all the DataFrames into one big one\n",
    "data_frames_list = [wb_arable_land, wb_labor_force, wb_emp_ag, wb_gdp_cap]\n",
    "data_frames_combined = reduce(lambda left, right: pd.merge(left, right, on = ['country', 'year'], how = 'inner'), data_frames_list)\n",
    "\n",
    "# Renaming the columns\n",
    "namedict = {\n",
    "            'AG.LND.ARBL.HA':'Arable_Land',\n",
    "            'SL.TLF.TOTL.IN':'Labor_Force',\n",
    "            'SL.AGR.EMPL.ZS':'Empl_in_agri_in_%_of_all_empl',\n",
    "            'NY.GDP.PCAP.CD':'GDP_per_capita'}\n",
    "data_frames_combined.rename(columns=namedict, inplace=True)\n",
    "\n",
    "# Dropping all rows that contain empty values (NAN)\n",
    "data_frames_combined.dropna(inplace=True)\n",
    "\n",
    "# Rounding the floats in columns 'Empl_in_agri_in_%_of_all_empl' and 'GDP_per_capita' \n",
    "data_frames_combined['Empl_in_agri_in_%_of_all_empl'] = data_frames_combined['Empl_in_agri_in_%_of_all_empl'].round(2)\n",
    "data_frames_combined['GDP_per_capita'] = data_frames_combined['GDP_per_capita'].round(2)\n",
    "\n",
    "\n",
    "data_frames_combined.head(10)"
   ]
  },
  {
   "attachments": {},
   "cell_type": "markdown",
   "metadata": {},
   "source": [
    "## Exploring the individual data sets "
   ]
  },
  {
   "cell_type": "markdown",
   "metadata": {},
   "source": [
    "In order to be able to **explore the raw data**, you may provide **static** and **interactive plots** to show important developments "
   ]
  },
  {
   "cell_type": "markdown",
   "metadata": {},
   "source": [
    "**Interactive plot** :"
   ]
  },
  {
   "cell_type": "code",
   "execution_count": 2,
   "metadata": {},
   "outputs": [
    {
     "data": {
      "application/vnd.jupyter.widget-view+json": {
       "model_id": "5c351241b05b4b5ea0d12c18d1cd9d85",
       "version_major": 2,
       "version_minor": 0
      },
      "text/plain": [
       "interactive(children=(Output(),), _dom_classes=('widget-interact',))"
      ]
     },
     "metadata": {},
     "output_type": "display_data"
    }
   ],
   "source": [
    "def plot_func():\n",
    "    # Function that operates on data set\n",
    "    pass\n",
    "\n",
    "widgets.interact(plot_func, \n",
    "    # Let the widget interact with data through plot_func()    \n",
    "); \n"
   ]
  },
  {
   "cell_type": "markdown",
   "metadata": {},
   "source": [
    "Explain what you see when moving elements of the interactive plot around. "
   ]
  },
  {
   "cell_type": "markdown",
   "metadata": {},
   "source": [
    "# Analysis"
   ]
  },
  {
   "cell_type": "markdown",
   "metadata": {},
   "source": [
    "To get a quick overview of the data, we show some **summary statistics** on a meaningful aggregation. "
   ]
  },
  {
   "cell_type": "markdown",
   "metadata": {},
   "source": [
    "MAKE FURTHER ANALYSIS. EXPLAIN THE CODE BRIEFLY AND SUMMARIZE THE RESULTS."
   ]
  },
  {
   "cell_type": "markdown",
   "metadata": {},
   "source": [
    "# Conclusion"
   ]
  },
  {
   "cell_type": "markdown",
   "metadata": {},
   "source": [
    "ADD CONCISE CONLUSION."
   ]
  }
 ],
 "metadata": {
  "kernelspec": {
   "display_name": "base",
   "language": "python",
   "name": "python3"
  },
  "language_info": {
   "codemirror_mode": {
    "name": "ipython",
    "version": 3
   },
   "file_extension": ".py",
   "mimetype": "text/x-python",
   "name": "python",
   "nbconvert_exporter": "python",
   "pygments_lexer": "ipython3",
   "version": "3.9.16"
  },
  "toc-autonumbering": true,
  "vscode": {
   "interpreter": {
    "hash": "47ef90cdf3004d3f859f1fb202523c65c07ba7c22eefd261b181f4744e2d0403"
   }
  }
 },
 "nbformat": 4,
 "nbformat_minor": 4
}
