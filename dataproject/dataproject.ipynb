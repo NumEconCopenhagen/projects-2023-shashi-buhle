{
 "cells": [
  {
   "attachments": {},
   "cell_type": "markdown",
   "metadata": {},
   "source": [
    "# Impact of GDP per capita on employment in agriculture over the past 30 years  "
   ]
  },
  {
   "attachments": {},
   "cell_type": "markdown",
   "metadata": {},
   "source": [
    "In this project we will explore data regarding GDP per capita and the employment in the agricultural sector. We will use data over the past 30 years from countries all over the world provided via the API from the WorldBank. To read further into our idea of this project we would like to refer to our ReadMe-file which is provided in our GitHub-repository. Lets get started:"
   ]
  },
  {
   "cell_type": "markdown",
   "metadata": {},
   "source": [
    "Imports and set magics:"
   ]
  },
  {
   "cell_type": "code",
   "execution_count": 1,
   "metadata": {},
   "outputs": [],
   "source": [
    "import pandas as pd\n",
    "import numpy as np\n",
    "import plotly.graph_objs as go\n",
    "from plotly.subplots import make_subplots \n",
    "import matplotlib.pyplot as plt\n",
    "import ipywidgets as widgets\n",
    "from ipywidgets import interact\n",
    "from functools import reduce\n",
    "\n",
    "# import the API for WorldBank-data\n",
    "from pandas_datareader import wb"
   ]
  },
  {
   "attachments": {},
   "cell_type": "markdown",
   "metadata": {},
   "source": [
    "# Read data"
   ]
  },
  {
   "attachments": {},
   "cell_type": "markdown",
   "metadata": {},
   "source": [
    "Our first step is to import data using the API provided by the WorldBank. We found the following data and data-codes using the Website of the WorldBank to provide us with different measures for countrys worldwide over the past decades:\n",
    "#\n",
    "-Arable land in hectares --> *AG.LND.ARBL.HA*\\\n",
    "-Labor force --> *SL.TLF.TOTL.IN*\\\n",
    "-GDP per capita in USD --> *NY.GDP.PCAP.CD*\\\n",
    "-Employment in agriculture in % of total empoyment --> *SL.AGR.EMPL.ZS*\n",
    "\n",
    "To read further into our source of data you can use this link right here to get to the website of the WorldBank. Put the italic codes into the URL to acess the specific sites:\n",
    "https://data.worldbank.org/indicator/"
   ]
  },
  {
   "cell_type": "code",
   "execution_count": 2,
   "metadata": {},
   "outputs": [],
   "source": [
    "# Setting up list of ISO-codes of countries where we are going to import data from using the API\n",
    "countries_ISO_list = ['ABW', 'AFG', 'AGO', 'ALB', 'AND', 'ARE', 'ARG', 'ARM', 'ASM', 'AUS', 'AUT', \n",
    "                      'AZE', 'BDI', 'BEL', 'BEN', 'BFA', 'BGD', 'BGR', 'BHR', 'BHS', 'BIH', 'BLR', \n",
    "                      'BLZ', 'BMU', 'BOL', 'BRA', 'BRB', 'BRN', 'BTN', 'BWA', 'CAF', 'CAN', 'CHE', \n",
    "                      'CHL', 'CHN', 'CIV', 'CMR', 'COD', 'COG', 'COL', 'COM', 'CPV', 'CRI', 'CUB', \n",
    "                      'CUW', 'CYM', 'CYP', 'CZE', 'DEU', 'DJI', 'DMA', 'DNK', 'DOM', 'DZA', 'ECU', \n",
    "                      'EGY', 'ERI', 'ESP', 'EST', 'ETH', 'FIN', 'FJI', 'FRA', 'FRO', 'GAB', 'GBR', \n",
    "                      'GEO', 'GHA', 'GIB', 'GIN', 'GMB', 'GNB', 'GNQ', 'GRC', 'GRD', 'GRL', 'GTM', \n",
    "                      'GUY', 'HKG', 'HND', 'HRV', 'HTI', 'HUN', 'IDN', 'IMN', 'IND', 'IRL', 'IRN', \n",
    "                      'IRQ', 'ISL', 'ISR', 'ITA', 'JAM', 'JOR', 'JPN', 'KAZ', 'KEN', 'KGZ', 'KHM', \n",
    "                      'KIR', 'KNA', 'KOR', 'KWT', 'LBN', 'LBR', 'LBY', 'LCA', 'LIE', 'LKA', 'LSO', \n",
    "                      'LTU', 'LUX', 'LVA', 'MAC', 'MAF', 'MAR', 'MCO', 'MDA', 'MDG', 'MDV', 'MEX', \n",
    "                      'MKD', 'MLI', 'MLT', 'MMR', 'MNE', 'MNG', 'MOZ', 'MRT', 'MUS', 'MWI', 'MYS', \n",
    "                      'NAM', 'NCL', 'NER', 'NGA', 'NIC', 'NLD', 'NOR', 'NPL', 'NRU', 'NZL', 'OMN', \n",
    "                      'PAK', 'PAN', 'PER', 'PHL', 'PLW', 'PNG', 'POL', 'PRI', 'PRK', 'PRT', 'PRY', \n",
    "                      'PSE', 'PYF', 'QAT', 'ROU', 'RUS', 'RWA', 'SAU', 'SDN', 'SEN', 'SGP', 'SLE', \n",
    "                      'SLV', 'SMR', 'SOM', 'SRB', 'SSD', 'STP', 'SUR', 'SVK', 'SVN', 'SWE', 'SWZ', \n",
    "                      'SXM', 'SYC', 'SYR', 'TCA', 'TCD', 'TGO', 'THA', 'TJK', 'TKM', 'TLS', 'TON', \n",
    "                      'TTO', 'TUN', 'TUR', 'TUV', 'TZA', 'UGA', 'UKR', 'URY', 'USA', 'UZB', 'VCT', \n",
    "                      'VEN', 'VGB', 'VIR', 'VNM', 'VUT', 'WSM', 'YEM', 'ZAF', 'ZMB', 'ZWE']\n",
    "\n",
    "# Importing the different DataFrames from the WorldBank using the API from the lecture and resetting the index for each DataFrame\n",
    "wb_arable_land = wb.download(indicator='AG.LND.ARBL.HA', country= countries_ISO_list, start=1989, end=2019)\n",
    "wb_arable_land = wb_arable_land.reset_index()\n",
    "wb_labor_force = wb.download(indicator='SL.TLF.TOTL.IN', country= countries_ISO_list, start=1989, end=2019)\n",
    "wb_labor_force = wb_labor_force.reset_index()\n",
    "wb_emp_ag = wb.download(indicator='SL.AGR.EMPL.ZS', country= countries_ISO_list, start=1989, end=2019)\n",
    "wb_emp_ag = wb_emp_ag.reset_index()\n",
    "wb_gdp_cap = wb.download(indicator='NY.GDP.PCAP.CD', country= countries_ISO_list, start=1989, end=2019)\n",
    "wb_gdp_cap = wb_gdp_cap.reset_index()\n",
    "wb_cereal_yield = wb.download(indicator='AG.YLD.CREL.KG', country= countries_ISO_list, start=1989, end=2019)\n",
    "wb_cereal_yield = wb_cereal_yield.reset_index()"
   ]
  },
  {
   "attachments": {},
   "cell_type": "markdown",
   "metadata": {},
   "source": [
    "# Clean and merge data "
   ]
  },
  {
   "attachments": {},
   "cell_type": "markdown",
   "metadata": {},
   "source": [
    "Our second step is then to clean up the dataframes provided by the API and to merge them together into a bigger one. We drop rows with non-existing values, round values and add units for better display. An overview of the final DataFrame is shown below."
   ]
  },
  {
   "cell_type": "code",
   "execution_count": 3,
   "metadata": {},
   "outputs": [
    {
     "data": {
      "text/html": [
       "<div>\n",
       "<style scoped>\n",
       "    .dataframe tbody tr th:only-of-type {\n",
       "        vertical-align: middle;\n",
       "    }\n",
       "\n",
       "    .dataframe tbody tr th {\n",
       "        vertical-align: top;\n",
       "    }\n",
       "\n",
       "    .dataframe thead th {\n",
       "        text-align: right;\n",
       "    }\n",
       "</style>\n",
       "<table border=\"1\" class=\"dataframe\">\n",
       "  <thead>\n",
       "    <tr style=\"text-align: right;\">\n",
       "      <th></th>\n",
       "      <th>country</th>\n",
       "      <th>year</th>\n",
       "      <th>Arable_Land</th>\n",
       "      <th>Labor_Force</th>\n",
       "      <th>Empl_in_agri_in_%_of_all_empl</th>\n",
       "      <th>GDP_per_capita</th>\n",
       "      <th>Cereal_Yield_kg_per_ha</th>\n",
       "    </tr>\n",
       "  </thead>\n",
       "  <tbody>\n",
       "    <tr>\n",
       "      <th>31</th>\n",
       "      <td>Afghanistan</td>\n",
       "      <td>2019</td>\n",
       "      <td>7788000 ha</td>\n",
       "      <td>9991682</td>\n",
       "      <td>42.50%</td>\n",
       "      <td>$500.52</td>\n",
       "      <td>2113.4</td>\n",
       "    </tr>\n",
       "    <tr>\n",
       "      <th>32</th>\n",
       "      <td>Afghanistan</td>\n",
       "      <td>2018</td>\n",
       "      <td>7794000 ha</td>\n",
       "      <td>9613728</td>\n",
       "      <td>43.13%</td>\n",
       "      <td>$502.06</td>\n",
       "      <td>2162.0</td>\n",
       "    </tr>\n",
       "    <tr>\n",
       "      <th>33</th>\n",
       "      <td>Afghanistan</td>\n",
       "      <td>2017</td>\n",
       "      <td>7699000 ha</td>\n",
       "      <td>9254594</td>\n",
       "      <td>43.99%</td>\n",
       "      <td>$530.15</td>\n",
       "      <td>2022.5</td>\n",
       "    </tr>\n",
       "    <tr>\n",
       "      <th>34</th>\n",
       "      <td>Afghanistan</td>\n",
       "      <td>2016</td>\n",
       "      <td>7729000 ha</td>\n",
       "      <td>8913938</td>\n",
       "      <td>45.81%</td>\n",
       "      <td>$520.25</td>\n",
       "      <td>1980.4</td>\n",
       "    </tr>\n",
       "    <tr>\n",
       "      <th>35</th>\n",
       "      <td>Afghanistan</td>\n",
       "      <td>2015</td>\n",
       "      <td>7765000 ha</td>\n",
       "      <td>8630723</td>\n",
       "      <td>47.07%</td>\n",
       "      <td>$592.48</td>\n",
       "      <td>2132.2</td>\n",
       "    </tr>\n",
       "    <tr>\n",
       "      <th>...</th>\n",
       "      <td>...</td>\n",
       "      <td>...</td>\n",
       "      <td>...</td>\n",
       "      <td>...</td>\n",
       "      <td>...</td>\n",
       "      <td>...</td>\n",
       "      <td>...</td>\n",
       "    </tr>\n",
       "    <tr>\n",
       "      <th>6441</th>\n",
       "      <td>Zimbabwe</td>\n",
       "      <td>1995</td>\n",
       "      <td>3110000 ha</td>\n",
       "      <td>3958602</td>\n",
       "      <td>60.92%</td>\n",
       "      <td>$646.83</td>\n",
       "      <td>548.2</td>\n",
       "    </tr>\n",
       "    <tr>\n",
       "      <th>6442</th>\n",
       "      <td>Zimbabwe</td>\n",
       "      <td>1994</td>\n",
       "      <td>3100000 ha</td>\n",
       "      <td>3871382</td>\n",
       "      <td>61.08%</td>\n",
       "      <td>$634.58</td>\n",
       "      <td>1134.5</td>\n",
       "    </tr>\n",
       "    <tr>\n",
       "      <th>6443</th>\n",
       "      <td>Zimbabwe</td>\n",
       "      <td>1993</td>\n",
       "      <td>3030000 ha</td>\n",
       "      <td>3824653</td>\n",
       "      <td>61.40%</td>\n",
       "      <td>$608.05</td>\n",
       "      <td>1502.0</td>\n",
       "    </tr>\n",
       "    <tr>\n",
       "      <th>6444</th>\n",
       "      <td>Zimbabwe</td>\n",
       "      <td>1992</td>\n",
       "      <td>2990000 ha</td>\n",
       "      <td>3761641</td>\n",
       "      <td>61.47%</td>\n",
       "      <td>$634.45</td>\n",
       "      <td>412.1</td>\n",
       "    </tr>\n",
       "    <tr>\n",
       "      <th>6445</th>\n",
       "      <td>Zimbabwe</td>\n",
       "      <td>1991</td>\n",
       "      <td>2950000 ha</td>\n",
       "      <td>3648635</td>\n",
       "      <td>61.43%</td>\n",
       "      <td>$832.69</td>\n",
       "      <td>1336.0</td>\n",
       "    </tr>\n",
       "  </tbody>\n",
       "</table>\n",
       "<p>4757 rows × 7 columns</p>\n",
       "</div>"
      ],
      "text/plain": [
       "          country  year Arable_Land  Labor_Force  \\\n",
       "31    Afghanistan  2019  7788000 ha      9991682   \n",
       "32    Afghanistan  2018  7794000 ha      9613728   \n",
       "33    Afghanistan  2017  7699000 ha      9254594   \n",
       "34    Afghanistan  2016  7729000 ha      8913938   \n",
       "35    Afghanistan  2015  7765000 ha      8630723   \n",
       "...           ...   ...         ...          ...   \n",
       "6441     Zimbabwe  1995  3110000 ha      3958602   \n",
       "6442     Zimbabwe  1994  3100000 ha      3871382   \n",
       "6443     Zimbabwe  1993  3030000 ha      3824653   \n",
       "6444     Zimbabwe  1992  2990000 ha      3761641   \n",
       "6445     Zimbabwe  1991  2950000 ha      3648635   \n",
       "\n",
       "     Empl_in_agri_in_%_of_all_empl GDP_per_capita  Cereal_Yield_kg_per_ha  \n",
       "31                          42.50%        $500.52                  2113.4  \n",
       "32                          43.13%        $502.06                  2162.0  \n",
       "33                          43.99%        $530.15                  2022.5  \n",
       "34                          45.81%        $520.25                  1980.4  \n",
       "35                          47.07%        $592.48                  2132.2  \n",
       "...                            ...            ...                     ...  \n",
       "6441                        60.92%        $646.83                   548.2  \n",
       "6442                        61.08%        $634.58                  1134.5  \n",
       "6443                        61.40%        $608.05                  1502.0  \n",
       "6444                        61.47%        $634.45                   412.1  \n",
       "6445                        61.43%        $832.69                  1336.0  \n",
       "\n",
       "[4757 rows x 7 columns]"
      ]
     },
     "execution_count": 3,
     "metadata": {},
     "output_type": "execute_result"
    }
   ],
   "source": [
    "# changing the data-type of the 'year'-column to an integer to allow merging and plotting later \n",
    "wb_arable_land.year = wb_arable_land.year.astype(int)\n",
    "wb_labor_force.year = wb_labor_force.year.astype(int)\n",
    "wb_emp_ag.year = wb_emp_ag.year.astype(int)\n",
    "wb_gdp_cap.year = wb_gdp_cap.year.astype(int)\n",
    "wb_cereal_yield.year = wb_cereal_yield.year.astype(int)\n",
    "\n",
    "# Merging all the DataFrames into one big one\n",
    "data_frames_list = [wb_arable_land, wb_labor_force, wb_emp_ag, wb_gdp_cap, wb_cereal_yield]\n",
    "data_frames_combined = reduce(lambda left, right: pd.merge(left, right, on = ['country', 'year'], how = 'inner'), data_frames_list)\n",
    "\n",
    "# Renaming the columns\n",
    "namedict = {\n",
    "            'AG.LND.ARBL.HA':'Arable_Land',\n",
    "            'SL.TLF.TOTL.IN':'Labor_Force',\n",
    "            'SL.AGR.EMPL.ZS':'Empl_in_agri_in_%_of_all_empl',\n",
    "            'NY.GDP.PCAP.CD':'GDP_per_capita',\n",
    "            'AG.YLD.CREL.KG' : 'Cereal_Yield_kg_per_ha'}\n",
    "data_frames_combined.rename(columns=namedict, inplace=True)\n",
    "\n",
    "# Dropping all rows that contain empty values (NAN)\n",
    "data_frames_combined.dropna(inplace=True)\n",
    "\n",
    "# Rounding the floats in columns 'Empl_in_agri_in_%_of_all_empl' and 'GDP_per_capita' \n",
    "data_frames_combined['Empl_in_agri_in_%_of_all_empl'] = data_frames_combined['Empl_in_agri_in_%_of_all_empl'].round(2)\n",
    "data_frames_combined['GDP_per_capita'] = data_frames_combined['GDP_per_capita'].round(2)\n",
    "\n",
    "# Converting the values in the columns into their respective units for a better display\n",
    "data_frames_combined['Empl_in_agri_in_%_of_all_empl'] = data_frames_combined['Empl_in_agri_in_%_of_all_empl'].apply(lambda x: '{:.2f}%'.format(x*1))\n",
    "data_frames_combined['GDP_per_capita'] = data_frames_combined['GDP_per_capita'].apply(lambda x: '${:.2f}'.format(x))\n",
    "data_frames_combined['Arable_Land'] = data_frames_combined['Arable_Land'].apply(lambda x: '{:.0f} ha'.format(x))\n",
    "data_frames_combined.Labor_Force = data_frames_combined.Labor_Force.astype(int)\n",
    "\n",
    "# Display the created DataFrame so far\n",
    "data_frames_combined"
   ]
  },
  {
   "attachments": {},
   "cell_type": "markdown",
   "metadata": {},
   "source": [
    "## Exploring GDP per capita and employment in the agricultural sector for different countries"
   ]
  },
  {
   "attachments": {},
   "cell_type": "markdown",
   "metadata": {},
   "source": [
    "In order to explore how GDP per capita and the percentage of people employed in the agricultural sector have changed over the past 30 years in different countries worldwide we decided to create an interactive plot. An explaination of the plot is provided down below. "
   ]
  },
  {
   "cell_type": "markdown",
   "metadata": {},
   "source": [
    "**Interactive plot** :"
   ]
  },
  {
   "cell_type": "code",
   "execution_count": 4,
   "metadata": {},
   "outputs": [
    {
     "data": {
      "application/vnd.jupyter.widget-view+json": {
       "model_id": "1c2fb9b4bb7f402aaaf6c103147d90c3",
       "version_major": 2,
       "version_minor": 0
      },
      "text/plain": [
       "interactive(children=(Dropdown(description='Country:', options=('Afghanistan', 'Angola', 'Albania', 'United Ar…"
      ]
     },
     "metadata": {},
     "output_type": "display_data"
    },
    {
     "data": {
      "application/vnd.plotly.v1+json": {
       "config": {
        "plotlyServerURL": "https://plot.ly"
       },
       "data": [
        {
         "mode": "lines+markers",
         "name": "GDP per capita",
         "type": "scatter",
         "x": [
          2019,
          2018,
          2017,
          2016,
          2015,
          2014,
          2013,
          2012,
          2011,
          2010,
          2009,
          2008,
          2007,
          2006,
          2005,
          2004,
          2003,
          2002,
          2001,
          2000,
          1999,
          1998,
          1997,
          1996,
          1995,
          1994,
          1993,
          1992,
          1991
         ],
         "xaxis": "x",
         "y": [
          54941.43,
          57207.87,
          53936.14,
          49875.57,
          56710.45,
          62513.41,
          68158.58,
          68044.71,
          62596.43,
          52134.31,
          42810.33,
          49679.18,
          41023.75,
          36570.72,
          34461.71,
          30819.99,
          23705.91,
          20291.18,
          19681.66,
          21853.78,
          20698.71,
          21478.39,
          23645.09,
          22020.09,
          20446.72,
          18129.79,
          17700.12,
          18624.56,
          18860.58
         ],
         "yaxis": "y"
        },
        {
         "mode": "lines+markers",
         "name": "Employment in agriculture (%)",
         "type": "scatter",
         "x": [
          2019,
          2018,
          2017,
          2016,
          2015,
          2014,
          2013,
          2012,
          2011,
          2010,
          2009,
          2008,
          2007,
          2006,
          2005,
          2004,
          2003,
          2002,
          2001,
          2000,
          1999,
          1998,
          1997,
          1996,
          1995,
          1994,
          1993,
          1992,
          1991
         ],
         "xaxis": "x",
         "y": [
          2.56,
          2.62,
          2.6,
          2.62,
          2.64,
          2.8,
          2.62,
          2.8,
          2.82,
          3.23,
          3.23,
          3.31,
          3.32,
          3.41,
          3.58,
          3.74,
          3.91,
          4.38,
          4.75,
          4.86,
          4.93,
          4.85,
          4.91,
          4.84,
          4.78,
          4.9,
          5.12,
          5.05,
          5.36
         ],
         "yaxis": "y2"
        },
        {
         "line": {
          "color": "green"
         },
         "mode": "lines+markers",
         "name": "Cereal Yield",
         "type": "scatter",
         "x": [
          2019,
          2018,
          2017,
          2016,
          2015,
          2014,
          2013,
          2012,
          2011,
          2010,
          2009,
          2008,
          2007,
          2006,
          2005,
          2004,
          2003,
          2002,
          2001,
          2000,
          1999,
          1998,
          1997,
          1996,
          1995,
          1994,
          1993,
          1992,
          1991
         ],
         "xaxis": "x2",
         "y": [
          1769,
          2035.8,
          2674.2,
          2075.2,
          2027.3,
          2137.9,
          1936.1,
          2231.6,
          2097.5,
          1661.5,
          1651.4,
          1332.7,
          981.3,
          2111.7,
          1694.6,
          2116.4,
          1020.7,
          2197.5,
          1959.6,
          2107.3,
          1992.3,
          1928.7,
          2175.2,
          1873.5,
          1270,
          2015.1,
          1833.1,
          1666.2,
          1691
         ],
         "yaxis": "y3"
        }
       ],
       "layout": {
        "height": 800,
        "showlegend": true,
        "template": {
         "data": {
          "bar": [
           {
            "error_x": {
             "color": "#2a3f5f"
            },
            "error_y": {
             "color": "#2a3f5f"
            },
            "marker": {
             "line": {
              "color": "white",
              "width": 0.5
             },
             "pattern": {
              "fillmode": "overlay",
              "size": 10,
              "solidity": 0.2
             }
            },
            "type": "bar"
           }
          ],
          "barpolar": [
           {
            "marker": {
             "line": {
              "color": "white",
              "width": 0.5
             },
             "pattern": {
              "fillmode": "overlay",
              "size": 10,
              "solidity": 0.2
             }
            },
            "type": "barpolar"
           }
          ],
          "carpet": [
           {
            "aaxis": {
             "endlinecolor": "#2a3f5f",
             "gridcolor": "#C8D4E3",
             "linecolor": "#C8D4E3",
             "minorgridcolor": "#C8D4E3",
             "startlinecolor": "#2a3f5f"
            },
            "baxis": {
             "endlinecolor": "#2a3f5f",
             "gridcolor": "#C8D4E3",
             "linecolor": "#C8D4E3",
             "minorgridcolor": "#C8D4E3",
             "startlinecolor": "#2a3f5f"
            },
            "type": "carpet"
           }
          ],
          "choropleth": [
           {
            "colorbar": {
             "outlinewidth": 0,
             "ticks": ""
            },
            "type": "choropleth"
           }
          ],
          "contour": [
           {
            "colorbar": {
             "outlinewidth": 0,
             "ticks": ""
            },
            "colorscale": [
             [
              0,
              "#0d0887"
             ],
             [
              0.1111111111111111,
              "#46039f"
             ],
             [
              0.2222222222222222,
              "#7201a8"
             ],
             [
              0.3333333333333333,
              "#9c179e"
             ],
             [
              0.4444444444444444,
              "#bd3786"
             ],
             [
              0.5555555555555556,
              "#d8576b"
             ],
             [
              0.6666666666666666,
              "#ed7953"
             ],
             [
              0.7777777777777778,
              "#fb9f3a"
             ],
             [
              0.8888888888888888,
              "#fdca26"
             ],
             [
              1,
              "#f0f921"
             ]
            ],
            "type": "contour"
           }
          ],
          "contourcarpet": [
           {
            "colorbar": {
             "outlinewidth": 0,
             "ticks": ""
            },
            "type": "contourcarpet"
           }
          ],
          "heatmap": [
           {
            "colorbar": {
             "outlinewidth": 0,
             "ticks": ""
            },
            "colorscale": [
             [
              0,
              "#0d0887"
             ],
             [
              0.1111111111111111,
              "#46039f"
             ],
             [
              0.2222222222222222,
              "#7201a8"
             ],
             [
              0.3333333333333333,
              "#9c179e"
             ],
             [
              0.4444444444444444,
              "#bd3786"
             ],
             [
              0.5555555555555556,
              "#d8576b"
             ],
             [
              0.6666666666666666,
              "#ed7953"
             ],
             [
              0.7777777777777778,
              "#fb9f3a"
             ],
             [
              0.8888888888888888,
              "#fdca26"
             ],
             [
              1,
              "#f0f921"
             ]
            ],
            "type": "heatmap"
           }
          ],
          "heatmapgl": [
           {
            "colorbar": {
             "outlinewidth": 0,
             "ticks": ""
            },
            "colorscale": [
             [
              0,
              "#0d0887"
             ],
             [
              0.1111111111111111,
              "#46039f"
             ],
             [
              0.2222222222222222,
              "#7201a8"
             ],
             [
              0.3333333333333333,
              "#9c179e"
             ],
             [
              0.4444444444444444,
              "#bd3786"
             ],
             [
              0.5555555555555556,
              "#d8576b"
             ],
             [
              0.6666666666666666,
              "#ed7953"
             ],
             [
              0.7777777777777778,
              "#fb9f3a"
             ],
             [
              0.8888888888888888,
              "#fdca26"
             ],
             [
              1,
              "#f0f921"
             ]
            ],
            "type": "heatmapgl"
           }
          ],
          "histogram": [
           {
            "marker": {
             "pattern": {
              "fillmode": "overlay",
              "size": 10,
              "solidity": 0.2
             }
            },
            "type": "histogram"
           }
          ],
          "histogram2d": [
           {
            "colorbar": {
             "outlinewidth": 0,
             "ticks": ""
            },
            "colorscale": [
             [
              0,
              "#0d0887"
             ],
             [
              0.1111111111111111,
              "#46039f"
             ],
             [
              0.2222222222222222,
              "#7201a8"
             ],
             [
              0.3333333333333333,
              "#9c179e"
             ],
             [
              0.4444444444444444,
              "#bd3786"
             ],
             [
              0.5555555555555556,
              "#d8576b"
             ],
             [
              0.6666666666666666,
              "#ed7953"
             ],
             [
              0.7777777777777778,
              "#fb9f3a"
             ],
             [
              0.8888888888888888,
              "#fdca26"
             ],
             [
              1,
              "#f0f921"
             ]
            ],
            "type": "histogram2d"
           }
          ],
          "histogram2dcontour": [
           {
            "colorbar": {
             "outlinewidth": 0,
             "ticks": ""
            },
            "colorscale": [
             [
              0,
              "#0d0887"
             ],
             [
              0.1111111111111111,
              "#46039f"
             ],
             [
              0.2222222222222222,
              "#7201a8"
             ],
             [
              0.3333333333333333,
              "#9c179e"
             ],
             [
              0.4444444444444444,
              "#bd3786"
             ],
             [
              0.5555555555555556,
              "#d8576b"
             ],
             [
              0.6666666666666666,
              "#ed7953"
             ],
             [
              0.7777777777777778,
              "#fb9f3a"
             ],
             [
              0.8888888888888888,
              "#fdca26"
             ],
             [
              1,
              "#f0f921"
             ]
            ],
            "type": "histogram2dcontour"
           }
          ],
          "mesh3d": [
           {
            "colorbar": {
             "outlinewidth": 0,
             "ticks": ""
            },
            "type": "mesh3d"
           }
          ],
          "parcoords": [
           {
            "line": {
             "colorbar": {
              "outlinewidth": 0,
              "ticks": ""
             }
            },
            "type": "parcoords"
           }
          ],
          "pie": [
           {
            "automargin": true,
            "type": "pie"
           }
          ],
          "scatter": [
           {
            "fillpattern": {
             "fillmode": "overlay",
             "size": 10,
             "solidity": 0.2
            },
            "type": "scatter"
           }
          ],
          "scatter3d": [
           {
            "line": {
             "colorbar": {
              "outlinewidth": 0,
              "ticks": ""
             }
            },
            "marker": {
             "colorbar": {
              "outlinewidth": 0,
              "ticks": ""
             }
            },
            "type": "scatter3d"
           }
          ],
          "scattercarpet": [
           {
            "marker": {
             "colorbar": {
              "outlinewidth": 0,
              "ticks": ""
             }
            },
            "type": "scattercarpet"
           }
          ],
          "scattergeo": [
           {
            "marker": {
             "colorbar": {
              "outlinewidth": 0,
              "ticks": ""
             }
            },
            "type": "scattergeo"
           }
          ],
          "scattergl": [
           {
            "marker": {
             "colorbar": {
              "outlinewidth": 0,
              "ticks": ""
             }
            },
            "type": "scattergl"
           }
          ],
          "scattermapbox": [
           {
            "marker": {
             "colorbar": {
              "outlinewidth": 0,
              "ticks": ""
             }
            },
            "type": "scattermapbox"
           }
          ],
          "scatterpolar": [
           {
            "marker": {
             "colorbar": {
              "outlinewidth": 0,
              "ticks": ""
             }
            },
            "type": "scatterpolar"
           }
          ],
          "scatterpolargl": [
           {
            "marker": {
             "colorbar": {
              "outlinewidth": 0,
              "ticks": ""
             }
            },
            "type": "scatterpolargl"
           }
          ],
          "scatterternary": [
           {
            "marker": {
             "colorbar": {
              "outlinewidth": 0,
              "ticks": ""
             }
            },
            "type": "scatterternary"
           }
          ],
          "surface": [
           {
            "colorbar": {
             "outlinewidth": 0,
             "ticks": ""
            },
            "colorscale": [
             [
              0,
              "#0d0887"
             ],
             [
              0.1111111111111111,
              "#46039f"
             ],
             [
              0.2222222222222222,
              "#7201a8"
             ],
             [
              0.3333333333333333,
              "#9c179e"
             ],
             [
              0.4444444444444444,
              "#bd3786"
             ],
             [
              0.5555555555555556,
              "#d8576b"
             ],
             [
              0.6666666666666666,
              "#ed7953"
             ],
             [
              0.7777777777777778,
              "#fb9f3a"
             ],
             [
              0.8888888888888888,
              "#fdca26"
             ],
             [
              1,
              "#f0f921"
             ]
            ],
            "type": "surface"
           }
          ],
          "table": [
           {
            "cells": {
             "fill": {
              "color": "#EBF0F8"
             },
             "line": {
              "color": "white"
             }
            },
            "header": {
             "fill": {
              "color": "#C8D4E3"
             },
             "line": {
              "color": "white"
             }
            },
            "type": "table"
           }
          ]
         },
         "layout": {
          "annotationdefaults": {
           "arrowcolor": "#2a3f5f",
           "arrowhead": 0,
           "arrowwidth": 1
          },
          "autotypenumbers": "strict",
          "coloraxis": {
           "colorbar": {
            "outlinewidth": 0,
            "ticks": ""
           }
          },
          "colorscale": {
           "diverging": [
            [
             0,
             "#8e0152"
            ],
            [
             0.1,
             "#c51b7d"
            ],
            [
             0.2,
             "#de77ae"
            ],
            [
             0.3,
             "#f1b6da"
            ],
            [
             0.4,
             "#fde0ef"
            ],
            [
             0.5,
             "#f7f7f7"
            ],
            [
             0.6,
             "#e6f5d0"
            ],
            [
             0.7,
             "#b8e186"
            ],
            [
             0.8,
             "#7fbc41"
            ],
            [
             0.9,
             "#4d9221"
            ],
            [
             1,
             "#276419"
            ]
           ],
           "sequential": [
            [
             0,
             "#0d0887"
            ],
            [
             0.1111111111111111,
             "#46039f"
            ],
            [
             0.2222222222222222,
             "#7201a8"
            ],
            [
             0.3333333333333333,
             "#9c179e"
            ],
            [
             0.4444444444444444,
             "#bd3786"
            ],
            [
             0.5555555555555556,
             "#d8576b"
            ],
            [
             0.6666666666666666,
             "#ed7953"
            ],
            [
             0.7777777777777778,
             "#fb9f3a"
            ],
            [
             0.8888888888888888,
             "#fdca26"
            ],
            [
             1,
             "#f0f921"
            ]
           ],
           "sequentialminus": [
            [
             0,
             "#0d0887"
            ],
            [
             0.1111111111111111,
             "#46039f"
            ],
            [
             0.2222222222222222,
             "#7201a8"
            ],
            [
             0.3333333333333333,
             "#9c179e"
            ],
            [
             0.4444444444444444,
             "#bd3786"
            ],
            [
             0.5555555555555556,
             "#d8576b"
            ],
            [
             0.6666666666666666,
             "#ed7953"
            ],
            [
             0.7777777777777778,
             "#fb9f3a"
            ],
            [
             0.8888888888888888,
             "#fdca26"
            ],
            [
             1,
             "#f0f921"
            ]
           ]
          },
          "colorway": [
           "#636efa",
           "#EF553B",
           "#00cc96",
           "#ab63fa",
           "#FFA15A",
           "#19d3f3",
           "#FF6692",
           "#B6E880",
           "#FF97FF",
           "#FECB52"
          ],
          "font": {
           "color": "#2a3f5f"
          },
          "geo": {
           "bgcolor": "white",
           "lakecolor": "white",
           "landcolor": "white",
           "showlakes": true,
           "showland": true,
           "subunitcolor": "#C8D4E3"
          },
          "hoverlabel": {
           "align": "left"
          },
          "hovermode": "closest",
          "mapbox": {
           "style": "light"
          },
          "paper_bgcolor": "white",
          "plot_bgcolor": "white",
          "polar": {
           "angularaxis": {
            "gridcolor": "#EBF0F8",
            "linecolor": "#EBF0F8",
            "ticks": ""
           },
           "bgcolor": "white",
           "radialaxis": {
            "gridcolor": "#EBF0F8",
            "linecolor": "#EBF0F8",
            "ticks": ""
           }
          },
          "scene": {
           "xaxis": {
            "backgroundcolor": "white",
            "gridcolor": "#DFE8F3",
            "gridwidth": 2,
            "linecolor": "#EBF0F8",
            "showbackground": true,
            "ticks": "",
            "zerolinecolor": "#EBF0F8"
           },
           "yaxis": {
            "backgroundcolor": "white",
            "gridcolor": "#DFE8F3",
            "gridwidth": 2,
            "linecolor": "#EBF0F8",
            "showbackground": true,
            "ticks": "",
            "zerolinecolor": "#EBF0F8"
           },
           "zaxis": {
            "backgroundcolor": "white",
            "gridcolor": "#DFE8F3",
            "gridwidth": 2,
            "linecolor": "#EBF0F8",
            "showbackground": true,
            "ticks": "",
            "zerolinecolor": "#EBF0F8"
           }
          },
          "shapedefaults": {
           "line": {
            "color": "#2a3f5f"
           }
          },
          "ternary": {
           "aaxis": {
            "gridcolor": "#DFE8F3",
            "linecolor": "#A2B1C6",
            "ticks": ""
           },
           "baxis": {
            "gridcolor": "#DFE8F3",
            "linecolor": "#A2B1C6",
            "ticks": ""
           },
           "bgcolor": "white",
           "caxis": {
            "gridcolor": "#DFE8F3",
            "linecolor": "#A2B1C6",
            "ticks": ""
           }
          },
          "title": {
           "x": 0.05
          },
          "xaxis": {
           "automargin": true,
           "gridcolor": "#EBF0F8",
           "linecolor": "#EBF0F8",
           "ticks": "",
           "title": {
            "standoff": 15
           },
           "zerolinecolor": "#EBF0F8",
           "zerolinewidth": 2
          },
          "yaxis": {
           "automargin": true,
           "gridcolor": "#EBF0F8",
           "linecolor": "#EBF0F8",
           "ticks": "",
           "title": {
            "standoff": 15
           },
           "zerolinecolor": "#EBF0F8",
           "zerolinewidth": 2
          }
         }
        },
        "title": {
         "text": "GDP per capita, employment in agriculture, and cereal yield for Australia"
        },
        "width": 800,
        "xaxis": {
         "anchor": "y",
         "domain": [
          0,
          0.94
         ],
         "matches": "x2",
         "showticklabels": false,
         "title": {
          "text": "Year"
         }
        },
        "xaxis2": {
         "anchor": "y3",
         "domain": [
          0,
          0.94
         ]
        },
        "yaxis": {
         "anchor": "x",
         "domain": [
          0.575,
          1
         ],
         "title": {
          "text": "GDP per capita in USD"
         }
        },
        "yaxis2": {
         "anchor": "x",
         "overlaying": "y",
         "side": "right",
         "title": {
          "text": "Employment in agriculture (%)"
         }
        },
        "yaxis3": {
         "anchor": "x2",
         "domain": [
          0,
          0.425
         ],
         "title": {
          "text": "Cereal Yield (kg per ha)"
         }
        }
       }
      }
     },
     "metadata": {},
     "output_type": "display_data"
    },
    {
     "data": {
      "text/plain": [
       "<function __main__.plot_combined(country)>"
      ]
     },
     "execution_count": 4,
     "metadata": {},
     "output_type": "execute_result"
    }
   ],
   "source": [
    "# Define the countries list\n",
    "countries_list = data_frames_combined['country'].unique().tolist()\n",
    "\n",
    "# Create the combined plot function\n",
    "def plot_combined(country):\n",
    "    # Filter the data for the selected country\n",
    "    country_data = data_frames_combined[data_frames_combined['country'] == country]\n",
    "\n",
    "    # Create the first subplot for GDP per capita and employment in agriculture\n",
    "    fig = make_subplots(rows=2, cols=1, shared_xaxes=True, specs=[[{\"secondary_y\": True}],[{}]])\n",
    "\n",
    "    # Add GDP per capita trace (left y-axis)\n",
    "    fig.add_trace(go.Scatter(x=country_data['year'], y=country_data['GDP_per_capita'],\n",
    "                             mode='lines+markers', name='GDP per capita'), row=1, col=1, secondary_y=False)\n",
    "\n",
    "    # Add percentage of people working in agriculture trace (right y-axis)\n",
    "    fig.add_trace(go.Scatter(x=country_data['year'], y=country_data['Empl_in_agri_in_%_of_all_empl'],\n",
    "                             mode='lines+markers', name='Employment in agriculture (%)',\n",
    "                             yaxis='y2'), row=1, col=1, secondary_y=True)\n",
    "\n",
    "    # Set the plot title and axis labels\n",
    "    fig.update_layout(\n",
    "        title=f'GDP per capita, employment in agriculture, and cereal yield for {country}',\n",
    "        xaxis_title='Year',\n",
    "        yaxis_title='GDP per capita in USD',\n",
    "        yaxis2=dict(\n",
    "            title='Employment in agriculture (%)',\n",
    "            overlaying='y',\n",
    "            side='right'\n",
    "        )\n",
    "    )\n",
    "\n",
    "    # Create the second subplot for cereal yield\n",
    "    fig.add_trace(go.Scatter(x=country_data['year'], y=country_data['Cereal_Yield_kg_per_ha'],\n",
    "                             mode='lines+markers', line=dict(color='green'), name='Cereal Yield'),\n",
    "                  row=2, col=1)\n",
    "\n",
    "    # Set the plot title and axis labels\n",
    "    fig.update_yaxes(title_text=\"Cereal Yield (kg per ha)\", row=2, col=1)\n",
    "\n",
    "    # Set the plot layout\n",
    "    fig.update_layout(height=800, width=800, showlegend=True, template=\"plotly_white\")\n",
    "\n",
    "    # Show the plot\n",
    "    fig.show()\n",
    "\n",
    "# Create a dropdown menu to select a country\n",
    "interact(plot_combined, country=widgets.Dropdown(options=countries_list, value=countries_list[0], description='Country:'))"
   ]
  },
  {
   "attachments": {},
   "cell_type": "markdown",
   "metadata": {},
   "source": [
    "<span style=\"color:red\">DISCLAIMER: DUE TO THE AMOUNT OF DATA USED HERE IT MIGHT BE POSSIBLE THAT THE INTERACTIVE PLOT ABOVE DOES NOT AUTO-DISPLAY PROPERLY AND A COUNTRY MUST FIRST BE MANUALLY SELECTED!</span>\n",
    "\n",
    "\n",
    "EXPLANATION OF THE PLOT: The first plot allows the reader to get an idea of the development of GDP per capita and the percentage of workers employed in the agricultural sector over the past 30 years in the different countries of the world. The left Y-axis denotes GDP per capita in USD, the right Y-axis denotes the percentage of wworkers employed in agriculture and the X-axis sets the year. The second plot displays the crop yields over the same timeframe. \n",
    "\n",
    "In general it can be noted (espesially for already developed or developing nations) that the richer a country gets on a per capita basis a smaller percentage of the working force is employed in agriculture. At the same time crop yields ramain stable or increase showing increasing productivity of the farmed lands. This might be due to:\n",
    "- Increased mechanisation of farming (which should increase productivity)\n",
    "- Improved agro-chemicals and crop varieties \n",
    "- Acess to better information (for example farming practices or weather)\n",
    "- More attractive job opportunities outside of the agricultural sector that draw workers away from farming "
   ]
  },
  {
   "attachments": {},
   "cell_type": "markdown",
   "metadata": {},
   "source": [
    "# Further Analysis of the biggest agricultural producers "
   ]
  },
  {
   "attachments": {},
   "cell_type": "markdown",
   "metadata": {},
   "source": [
    "We are now continuing with a subset of our DataFrame containing the 10 countries with the largest area of arable land. In this Dataframe we will try to find a relationship between the influence of GDP per capita on the amount of arable land farmed per single worker in agriculture. \n",
    "\n",
    "\n",
    "First we will extract the 10 countries with the most arable land from our DataFrame above and then remove all other countries (the cut down Dataframe is depicted below):"
   ]
  },
  {
   "cell_type": "code",
   "execution_count": 5,
   "metadata": {},
   "outputs": [
    {
     "name": "stderr",
     "output_type": "stream",
     "text": [
      "C:\\Users\\luke-\\AppData\\Local\\Temp\\ipykernel_9800\\425018561.py:3: FutureWarning:\n",
      "\n",
      "The default value of regex will change from True to False in a future version. In addition, single character regular expressions will *not* be treated as literal strings when regex=True.\n",
      "\n"
     ]
    }
   ],
   "source": [
    "# a. First change the units of the columns back to floats and integers to allow for operations on those values\n",
    "data_frames_combined['Empl_in_agri_in_%_of_all_empl'] = data_frames_combined['Empl_in_agri_in_%_of_all_empl'].str.replace('%','').astype(float)\n",
    "data_frames_combined['GDP_per_capita'] = data_frames_combined['GDP_per_capita'].str.replace('$','').astype(float)\n",
    "data_frames_combined['Arable_Land'] = data_frames_combined['Arable_Land'].str.replace(' ha','').astype(int)"
   ]
  },
  {
   "cell_type": "code",
   "execution_count": 6,
   "metadata": {},
   "outputs": [
    {
     "name": "stdout",
     "output_type": "stream",
     "text": [
      "The 10 biggest countries by area of arable land that remain in the DataFrame are:\n",
      " ['United States', 'India', 'Russian Federation', 'China', 'Brazil', 'Canada', 'Nigeria', 'Ukraine', 'Argentina', 'Australia']\n"
     ]
    },
    {
     "data": {
      "text/html": [
       "<div>\n",
       "<style scoped>\n",
       "    .dataframe tbody tr th:only-of-type {\n",
       "        vertical-align: middle;\n",
       "    }\n",
       "\n",
       "    .dataframe tbody tr th {\n",
       "        vertical-align: top;\n",
       "    }\n",
       "\n",
       "    .dataframe thead th {\n",
       "        text-align: right;\n",
       "    }\n",
       "</style>\n",
       "<table border=\"1\" class=\"dataframe\">\n",
       "  <thead>\n",
       "    <tr style=\"text-align: right;\">\n",
       "      <th></th>\n",
       "      <th>country</th>\n",
       "      <th>year</th>\n",
       "      <th>Arable_Land</th>\n",
       "      <th>Labor_Force</th>\n",
       "      <th>Empl_in_agri_in_%_of_all_empl</th>\n",
       "      <th>GDP_per_capita</th>\n",
       "      <th>Cereal_Yield_kg_per_ha</th>\n",
       "    </tr>\n",
       "  </thead>\n",
       "  <tbody>\n",
       "    <tr>\n",
       "      <th>0</th>\n",
       "      <td>Argentina</td>\n",
       "      <td>2019</td>\n",
       "      <td>32632760</td>\n",
       "      <td>20607477</td>\n",
       "      <td>0.06</td>\n",
       "      <td>9963.67</td>\n",
       "      <td>5474.8</td>\n",
       "    </tr>\n",
       "    <tr>\n",
       "      <th>1</th>\n",
       "      <td>Argentina</td>\n",
       "      <td>2018</td>\n",
       "      <td>32632760</td>\n",
       "      <td>20103008</td>\n",
       "      <td>0.10</td>\n",
       "      <td>11795.16</td>\n",
       "      <td>4671.4</td>\n",
       "    </tr>\n",
       "    <tr>\n",
       "      <th>2</th>\n",
       "      <td>Argentina</td>\n",
       "      <td>2017</td>\n",
       "      <td>33984900</td>\n",
       "      <td>19580710</td>\n",
       "      <td>0.06</td>\n",
       "      <td>14613.04</td>\n",
       "      <td>5404.6</td>\n",
       "    </tr>\n",
       "    <tr>\n",
       "      <th>3</th>\n",
       "      <td>Argentina</td>\n",
       "      <td>2016</td>\n",
       "      <td>35336500</td>\n",
       "      <td>19404277</td>\n",
       "      <td>0.13</td>\n",
       "      <td>12790.24</td>\n",
       "      <td>5203.4</td>\n",
       "    </tr>\n",
       "    <tr>\n",
       "      <th>4</th>\n",
       "      <td>Argentina</td>\n",
       "      <td>2015</td>\n",
       "      <td>36688100</td>\n",
       "      <td>19229475</td>\n",
       "      <td>0.26</td>\n",
       "      <td>13789.06</td>\n",
       "      <td>4779.1</td>\n",
       "    </tr>\n",
       "    <tr>\n",
       "      <th>...</th>\n",
       "      <td>...</td>\n",
       "      <td>...</td>\n",
       "      <td>...</td>\n",
       "      <td>...</td>\n",
       "      <td>...</td>\n",
       "      <td>...</td>\n",
       "      <td>...</td>\n",
       "    </tr>\n",
       "    <tr>\n",
       "      <th>283</th>\n",
       "      <td>United States</td>\n",
       "      <td>1995</td>\n",
       "      <td>181839000</td>\n",
       "      <td>135975699</td>\n",
       "      <td>1.83</td>\n",
       "      <td>28690.88</td>\n",
       "      <td>4644.8</td>\n",
       "    </tr>\n",
       "    <tr>\n",
       "      <th>284</th>\n",
       "      <td>United States</td>\n",
       "      <td>1994</td>\n",
       "      <td>181939000</td>\n",
       "      <td>134076656</td>\n",
       "      <td>1.86</td>\n",
       "      <td>27694.85</td>\n",
       "      <td>5560.0</td>\n",
       "    </tr>\n",
       "    <tr>\n",
       "      <th>285</th>\n",
       "      <td>United States</td>\n",
       "      <td>1993</td>\n",
       "      <td>182748000</td>\n",
       "      <td>131792391</td>\n",
       "      <td>1.89</td>\n",
       "      <td>26387.29</td>\n",
       "      <td>4298.8</td>\n",
       "    </tr>\n",
       "    <tr>\n",
       "      <th>286</th>\n",
       "      <td>United States</td>\n",
       "      <td>1992</td>\n",
       "      <td>184080000</td>\n",
       "      <td>130387362</td>\n",
       "      <td>1.91</td>\n",
       "      <td>25418.99</td>\n",
       "      <td>5357.8</td>\n",
       "    </tr>\n",
       "    <tr>\n",
       "      <th>287</th>\n",
       "      <td>United States</td>\n",
       "      <td>1991</td>\n",
       "      <td>185676000</td>\n",
       "      <td>128277995</td>\n",
       "      <td>1.93</td>\n",
       "      <td>24342.26</td>\n",
       "      <td>4507.6</td>\n",
       "    </tr>\n",
       "  </tbody>\n",
       "</table>\n",
       "<p>288 rows × 7 columns</p>\n",
       "</div>"
      ],
      "text/plain": [
       "           country  year  Arable_Land  Labor_Force  \\\n",
       "0        Argentina  2019     32632760     20607477   \n",
       "1        Argentina  2018     32632760     20103008   \n",
       "2        Argentina  2017     33984900     19580710   \n",
       "3        Argentina  2016     35336500     19404277   \n",
       "4        Argentina  2015     36688100     19229475   \n",
       "..             ...   ...          ...          ...   \n",
       "283  United States  1995    181839000    135975699   \n",
       "284  United States  1994    181939000    134076656   \n",
       "285  United States  1993    182748000    131792391   \n",
       "286  United States  1992    184080000    130387362   \n",
       "287  United States  1991    185676000    128277995   \n",
       "\n",
       "     Empl_in_agri_in_%_of_all_empl  GDP_per_capita  Cereal_Yield_kg_per_ha  \n",
       "0                             0.06         9963.67                  5474.8  \n",
       "1                             0.10        11795.16                  4671.4  \n",
       "2                             0.06        14613.04                  5404.6  \n",
       "3                             0.13        12790.24                  5203.4  \n",
       "4                             0.26        13789.06                  4779.1  \n",
       "..                             ...             ...                     ...  \n",
       "283                           1.83        28690.88                  4644.8  \n",
       "284                           1.86        27694.85                  5560.0  \n",
       "285                           1.89        26387.29                  4298.8  \n",
       "286                           1.91        25418.99                  5357.8  \n",
       "287                           1.93        24342.26                  4507.6  \n",
       "\n",
       "[288 rows x 7 columns]"
      ]
     },
     "execution_count": 6,
     "metadata": {},
     "output_type": "execute_result"
    }
   ],
   "source": [
    "# b. Creating a list of the 10 biggest countries by area of arable land \n",
    "df_sorted = data_frames_combined.sort_values('year', ascending=False)   # Sort big dataframe by year \n",
    "grouped = df_sorted.groupby('country')                                  # Group by country\n",
    "latest_year = grouped.head(1)                                           # Keep rows for most recent year for each country\n",
    "largest_countries = latest_year.nlargest(10, 'Arable_Land')             # Get the 10 largest in a DataFrame\n",
    "country_column = largest_countries['country']                           # Get the country column as a Series object\n",
    "top_ten_country_list = country_column.tolist()                          # Convert into a Python list\n",
    "\n",
    "# Printing which countries we are going to keep \n",
    "print(f\"The 10 biggest countries by area of arable land that remain in the DataFrame are:\\n {top_ten_country_list}\")\n",
    "\n",
    "# Cutting down the big WorldBank-DataFrame to the 10 countries with the largest area of arable land\n",
    "data_frame_ten_biggest = data_frames_combined[data_frames_combined['country'].isin(top_ten_country_list)]\n",
    "data_frame_ten_biggest = data_frame_ten_biggest.reset_index(drop=True)\n",
    "\n",
    "# Displaying the new cut down Dataframe\n",
    "data_frame_ten_biggest"
   ]
  },
  {
   "attachments": {},
   "cell_type": "markdown",
   "metadata": {},
   "source": [
    "To get to the relationship between the GDP per capita and the area of arable land farmed by a single person working in the agriculture sector we will need to compute some new columns out of our original WorldBank-data due to the fact that not all the data was available in the way we would need it.\n",
    "\n",
    "- We will have to compute the absolute amount of people working in the agriculture sector per country from the columns of the labor force and the percentage of people employed in agriculture. \n",
    "\n",
    "- We will also calculate a new column of the arable land divided by the people working in the agriculture sector. This then gives us an indicator on how much area of arable land one single worker can handle."
   ]
  },
  {
   "cell_type": "code",
   "execution_count": 7,
   "metadata": {},
   "outputs": [
    {
     "data": {
      "text/html": [
       "<div>\n",
       "<style scoped>\n",
       "    .dataframe tbody tr th:only-of-type {\n",
       "        vertical-align: middle;\n",
       "    }\n",
       "\n",
       "    .dataframe tbody tr th {\n",
       "        vertical-align: top;\n",
       "    }\n",
       "\n",
       "    .dataframe thead th {\n",
       "        text-align: right;\n",
       "    }\n",
       "</style>\n",
       "<table border=\"1\" class=\"dataframe\">\n",
       "  <thead>\n",
       "    <tr style=\"text-align: right;\">\n",
       "      <th></th>\n",
       "      <th>country</th>\n",
       "      <th>year</th>\n",
       "      <th>Arable_Land</th>\n",
       "      <th>Labor_Force</th>\n",
       "      <th>Empl_in_agri_in_%_of_all_empl</th>\n",
       "      <th>GDP_per_capita</th>\n",
       "      <th>Cereal_Yield_kg_per_ha</th>\n",
       "      <th>People_in_agri</th>\n",
       "      <th>Land_per_agri_worker</th>\n",
       "    </tr>\n",
       "  </thead>\n",
       "  <tbody>\n",
       "    <tr>\n",
       "      <th>0</th>\n",
       "      <td>Argentina</td>\n",
       "      <td>2019</td>\n",
       "      <td>32632760</td>\n",
       "      <td>20607477</td>\n",
       "      <td>0.06</td>\n",
       "      <td>9963.67</td>\n",
       "      <td>5474.8</td>\n",
       "      <td>12364</td>\n",
       "      <td>2639.336784</td>\n",
       "    </tr>\n",
       "    <tr>\n",
       "      <th>1</th>\n",
       "      <td>Argentina</td>\n",
       "      <td>2018</td>\n",
       "      <td>32632760</td>\n",
       "      <td>20103008</td>\n",
       "      <td>0.10</td>\n",
       "      <td>11795.16</td>\n",
       "      <td>4671.4</td>\n",
       "      <td>20103</td>\n",
       "      <td>1623.278118</td>\n",
       "    </tr>\n",
       "    <tr>\n",
       "      <th>2</th>\n",
       "      <td>Argentina</td>\n",
       "      <td>2017</td>\n",
       "      <td>33984900</td>\n",
       "      <td>19580710</td>\n",
       "      <td>0.06</td>\n",
       "      <td>14613.04</td>\n",
       "      <td>5404.6</td>\n",
       "      <td>11748</td>\n",
       "      <td>2892.824311</td>\n",
       "    </tr>\n",
       "    <tr>\n",
       "      <th>3</th>\n",
       "      <td>Argentina</td>\n",
       "      <td>2016</td>\n",
       "      <td>35336500</td>\n",
       "      <td>19404277</td>\n",
       "      <td>0.13</td>\n",
       "      <td>12790.24</td>\n",
       "      <td>5203.4</td>\n",
       "      <td>25225</td>\n",
       "      <td>1400.852329</td>\n",
       "    </tr>\n",
       "    <tr>\n",
       "      <th>4</th>\n",
       "      <td>Argentina</td>\n",
       "      <td>2015</td>\n",
       "      <td>36688100</td>\n",
       "      <td>19229475</td>\n",
       "      <td>0.26</td>\n",
       "      <td>13789.06</td>\n",
       "      <td>4779.1</td>\n",
       "      <td>49996</td>\n",
       "      <td>733.820706</td>\n",
       "    </tr>\n",
       "    <tr>\n",
       "      <th>...</th>\n",
       "      <td>...</td>\n",
       "      <td>...</td>\n",
       "      <td>...</td>\n",
       "      <td>...</td>\n",
       "      <td>...</td>\n",
       "      <td>...</td>\n",
       "      <td>...</td>\n",
       "      <td>...</td>\n",
       "      <td>...</td>\n",
       "    </tr>\n",
       "    <tr>\n",
       "      <th>283</th>\n",
       "      <td>United States</td>\n",
       "      <td>1995</td>\n",
       "      <td>181839000</td>\n",
       "      <td>135975699</td>\n",
       "      <td>1.83</td>\n",
       "      <td>28690.88</td>\n",
       "      <td>4644.8</td>\n",
       "      <td>2488355</td>\n",
       "      <td>73.075988</td>\n",
       "    </tr>\n",
       "    <tr>\n",
       "      <th>284</th>\n",
       "      <td>United States</td>\n",
       "      <td>1994</td>\n",
       "      <td>181939000</td>\n",
       "      <td>134076656</td>\n",
       "      <td>1.86</td>\n",
       "      <td>27694.85</td>\n",
       "      <td>5560.0</td>\n",
       "      <td>2493825</td>\n",
       "      <td>72.955801</td>\n",
       "    </tr>\n",
       "    <tr>\n",
       "      <th>285</th>\n",
       "      <td>United States</td>\n",
       "      <td>1993</td>\n",
       "      <td>182748000</td>\n",
       "      <td>131792391</td>\n",
       "      <td>1.89</td>\n",
       "      <td>26387.29</td>\n",
       "      <td>4298.8</td>\n",
       "      <td>2490876</td>\n",
       "      <td>73.366960</td>\n",
       "    </tr>\n",
       "    <tr>\n",
       "      <th>286</th>\n",
       "      <td>United States</td>\n",
       "      <td>1992</td>\n",
       "      <td>184080000</td>\n",
       "      <td>130387362</td>\n",
       "      <td>1.91</td>\n",
       "      <td>25418.99</td>\n",
       "      <td>5357.8</td>\n",
       "      <td>2490398</td>\n",
       "      <td>73.915896</td>\n",
       "    </tr>\n",
       "    <tr>\n",
       "      <th>287</th>\n",
       "      <td>United States</td>\n",
       "      <td>1991</td>\n",
       "      <td>185676000</td>\n",
       "      <td>128277995</td>\n",
       "      <td>1.93</td>\n",
       "      <td>24342.26</td>\n",
       "      <td>4507.6</td>\n",
       "      <td>2475765</td>\n",
       "      <td>74.997425</td>\n",
       "    </tr>\n",
       "  </tbody>\n",
       "</table>\n",
       "<p>288 rows × 9 columns</p>\n",
       "</div>"
      ],
      "text/plain": [
       "           country  year  Arable_Land  Labor_Force  \\\n",
       "0        Argentina  2019     32632760     20607477   \n",
       "1        Argentina  2018     32632760     20103008   \n",
       "2        Argentina  2017     33984900     19580710   \n",
       "3        Argentina  2016     35336500     19404277   \n",
       "4        Argentina  2015     36688100     19229475   \n",
       "..             ...   ...          ...          ...   \n",
       "283  United States  1995    181839000    135975699   \n",
       "284  United States  1994    181939000    134076656   \n",
       "285  United States  1993    182748000    131792391   \n",
       "286  United States  1992    184080000    130387362   \n",
       "287  United States  1991    185676000    128277995   \n",
       "\n",
       "     Empl_in_agri_in_%_of_all_empl  GDP_per_capita  Cereal_Yield_kg_per_ha  \\\n",
       "0                             0.06         9963.67                  5474.8   \n",
       "1                             0.10        11795.16                  4671.4   \n",
       "2                             0.06        14613.04                  5404.6   \n",
       "3                             0.13        12790.24                  5203.4   \n",
       "4                             0.26        13789.06                  4779.1   \n",
       "..                             ...             ...                     ...   \n",
       "283                           1.83        28690.88                  4644.8   \n",
       "284                           1.86        27694.85                  5560.0   \n",
       "285                           1.89        26387.29                  4298.8   \n",
       "286                           1.91        25418.99                  5357.8   \n",
       "287                           1.93        24342.26                  4507.6   \n",
       "\n",
       "     People_in_agri  Land_per_agri_worker  \n",
       "0             12364           2639.336784  \n",
       "1             20103           1623.278118  \n",
       "2             11748           2892.824311  \n",
       "3             25225           1400.852329  \n",
       "4             49996            733.820706  \n",
       "..              ...                   ...  \n",
       "283         2488355             73.075988  \n",
       "284         2493825             72.955801  \n",
       "285         2490876             73.366960  \n",
       "286         2490398             73.915896  \n",
       "287         2475765             74.997425  \n",
       "\n",
       "[288 rows x 9 columns]"
      ]
     },
     "execution_count": 7,
     "metadata": {},
     "output_type": "execute_result"
    }
   ],
   "source": [
    "# Create new column of absolute amount of people working in the agriculture sector\n",
    "data_frame_ten_biggest['People_in_agri'] = (data_frame_ten_biggest['Labor_Force'] * (data_frame_ten_biggest['Empl_in_agri_in_%_of_all_empl'] / 100)).astype(int)\n",
    "\n",
    "# Create a new column of the arable land divided by the people working in the agriculture sector\n",
    "data_frame_ten_biggest['Land_per_agri_worker'] = data_frame_ten_biggest['Arable_Land'] / data_frame_ten_biggest['People_in_agri'] \n",
    "\n",
    "# Display the Dataframe  \n",
    "data_frame_ten_biggest"
   ]
  },
  {
   "attachments": {},
   "cell_type": "markdown",
   "metadata": {},
   "source": [
    "**Interactive plot** :"
   ]
  },
  {
   "cell_type": "code",
   "execution_count": 8,
   "metadata": {},
   "outputs": [
    {
     "data": {
      "application/vnd.jupyter.widget-view+json": {
       "model_id": "7dd29f5da91642a89f1fdd72cb98d380",
       "version_major": 2,
       "version_minor": 0
      },
      "text/plain": [
       "interactive(children=(Dropdown(description='Country:', index=3, options=('United States', 'India', 'Russian Fe…"
      ]
     },
     "metadata": {},
     "output_type": "display_data"
    },
    {
     "data": {
      "application/vnd.plotly.v1+json": {
       "config": {
        "plotlyServerURL": "https://plot.ly"
       },
       "data": [
        {
         "marker": {
          "color": [
           2019,
           2018,
           2017,
           2016,
           2015,
           2014,
           2013,
           2012,
           2011,
           2010,
           2009,
           2008,
           2007,
           2006,
           2005,
           2004,
           2003,
           2002,
           2001,
           2000,
           1999,
           1998,
           1997,
           1996,
           1995,
           1994,
           1993,
           1992,
           1991
          ],
          "colorbar": {
           "title": {
            "text": "Year"
           }
          },
          "colorscale": [
           [
            0,
            "#0d0887"
           ],
           [
            0.1111111111111111,
            "#46039f"
           ],
           [
            0.2222222222222222,
            "#7201a8"
           ],
           [
            0.3333333333333333,
            "#9c179e"
           ],
           [
            0.4444444444444444,
            "#bd3786"
           ],
           [
            0.5555555555555556,
            "#d8576b"
           ],
           [
            0.6666666666666666,
            "#ed7953"
           ],
           [
            0.7777777777777778,
            "#fb9f3a"
           ],
           [
            0.8888888888888888,
            "#fdca26"
           ],
           [
            1,
            "#f0f921"
           ]
          ],
          "opacity": 0.8,
          "size": 10
         },
         "mode": "markers",
         "name": "India",
         "text": [
          2019,
          2018,
          2017,
          2016,
          2015,
          2014,
          2013,
          2012,
          2011,
          2010,
          2009,
          2008,
          2007,
          2006,
          2005,
          2004,
          2003,
          2002,
          2001,
          2000,
          1999,
          1998,
          1997,
          1996,
          1995,
          1994,
          1993,
          1992,
          1991
         ],
         "type": "scatter",
         "x": [
          2047.23,
          1974.38,
          1957.97,
          1714.28,
          1590.17,
          1559.86,
          1438.06,
          1434.02,
          1449.6,
          1350.63,
          1096.63,
          993.5,
          1022.73,
          802.01,
          710.51,
          624.11,
          543.84,
          468.84,
          449.91,
          442.03,
          440.96,
          412.51,
          414.9,
          399.58,
          373.63,
          346.23,
          301.5,
          317.56,
          303.85
         ],
         "y": [
          0.7279123801358431,
          0.755844935832142,
          0.745693807966737,
          0.7362977375390627,
          0.7249866186426744,
          0.7151165131492327,
          0.7059434584694473,
          0.699703479051241,
          0.6745581129564768,
          0.6502846814206643,
          0.6551131451553001,
          0.6563418254647692,
          0.6628674242373873,
          0.6679589976521281,
          0.6747600176157714,
          0.6750058934772549,
          0.6730262145561614,
          0.6753370619433169,
          0.6789334207291694,
          0.6853214927313082,
          0.7032705376273133,
          0.7214266900324964,
          0.7419645529546605,
          0.7617577143550255,
          0.7870090787165595,
          0.8116700782696166,
          0.8254731679714725,
          0.8415571041876566,
          0.8597585184043866
         ]
        },
        {
         "mode": "lines",
         "name": "Line of best fit",
         "type": "scatter",
         "x": [
          2047.23,
          1974.38,
          1957.97,
          1714.28,
          1590.17,
          1559.86,
          1438.06,
          1434.02,
          1449.6,
          1350.63,
          1096.63,
          993.5,
          1022.73,
          802.01,
          710.51,
          624.11,
          543.84,
          468.84,
          449.91,
          442.03,
          440.96,
          412.51,
          414.9,
          399.58,
          373.63,
          346.23,
          301.5,
          317.56,
          303.85
         ],
         "y": [
          0.6923990420115387,
          0.6942329022775467,
          0.6946459928330059,
          0.7007804253412215,
          0.7039046586646844,
          0.7046676552969796,
          0.7077337387616301,
          0.707835438081804,
          0.707443241198559,
          0.7099346228118304,
          0.7163285899712821,
          0.7189246916766139,
          0.7181888819912958,
          0.7237450884142651,
          0.726048426977611,
          0.7282233827357867,
          0.7302440273967677,
          0.7321320098257397,
          0.7326085365908123,
          0.7328069006113496,
          0.7328338358273362,
          0.7335500104953929,
          0.7334898467886564,
          0.7338754986661477,
          0.734528740586572,
          0.7352184835006231,
          0.736344476221262,
          0.7359401962504715,
          0.7362853194384875
         ]
        }
       ],
       "layout": {
        "template": {
         "data": {
          "bar": [
           {
            "error_x": {
             "color": "#2a3f5f"
            },
            "error_y": {
             "color": "#2a3f5f"
            },
            "marker": {
             "line": {
              "color": "#E5ECF6",
              "width": 0.5
             },
             "pattern": {
              "fillmode": "overlay",
              "size": 10,
              "solidity": 0.2
             }
            },
            "type": "bar"
           }
          ],
          "barpolar": [
           {
            "marker": {
             "line": {
              "color": "#E5ECF6",
              "width": 0.5
             },
             "pattern": {
              "fillmode": "overlay",
              "size": 10,
              "solidity": 0.2
             }
            },
            "type": "barpolar"
           }
          ],
          "carpet": [
           {
            "aaxis": {
             "endlinecolor": "#2a3f5f",
             "gridcolor": "white",
             "linecolor": "white",
             "minorgridcolor": "white",
             "startlinecolor": "#2a3f5f"
            },
            "baxis": {
             "endlinecolor": "#2a3f5f",
             "gridcolor": "white",
             "linecolor": "white",
             "minorgridcolor": "white",
             "startlinecolor": "#2a3f5f"
            },
            "type": "carpet"
           }
          ],
          "choropleth": [
           {
            "colorbar": {
             "outlinewidth": 0,
             "ticks": ""
            },
            "type": "choropleth"
           }
          ],
          "contour": [
           {
            "colorbar": {
             "outlinewidth": 0,
             "ticks": ""
            },
            "colorscale": [
             [
              0,
              "#0d0887"
             ],
             [
              0.1111111111111111,
              "#46039f"
             ],
             [
              0.2222222222222222,
              "#7201a8"
             ],
             [
              0.3333333333333333,
              "#9c179e"
             ],
             [
              0.4444444444444444,
              "#bd3786"
             ],
             [
              0.5555555555555556,
              "#d8576b"
             ],
             [
              0.6666666666666666,
              "#ed7953"
             ],
             [
              0.7777777777777778,
              "#fb9f3a"
             ],
             [
              0.8888888888888888,
              "#fdca26"
             ],
             [
              1,
              "#f0f921"
             ]
            ],
            "type": "contour"
           }
          ],
          "contourcarpet": [
           {
            "colorbar": {
             "outlinewidth": 0,
             "ticks": ""
            },
            "type": "contourcarpet"
           }
          ],
          "heatmap": [
           {
            "colorbar": {
             "outlinewidth": 0,
             "ticks": ""
            },
            "colorscale": [
             [
              0,
              "#0d0887"
             ],
             [
              0.1111111111111111,
              "#46039f"
             ],
             [
              0.2222222222222222,
              "#7201a8"
             ],
             [
              0.3333333333333333,
              "#9c179e"
             ],
             [
              0.4444444444444444,
              "#bd3786"
             ],
             [
              0.5555555555555556,
              "#d8576b"
             ],
             [
              0.6666666666666666,
              "#ed7953"
             ],
             [
              0.7777777777777778,
              "#fb9f3a"
             ],
             [
              0.8888888888888888,
              "#fdca26"
             ],
             [
              1,
              "#f0f921"
             ]
            ],
            "type": "heatmap"
           }
          ],
          "heatmapgl": [
           {
            "colorbar": {
             "outlinewidth": 0,
             "ticks": ""
            },
            "colorscale": [
             [
              0,
              "#0d0887"
             ],
             [
              0.1111111111111111,
              "#46039f"
             ],
             [
              0.2222222222222222,
              "#7201a8"
             ],
             [
              0.3333333333333333,
              "#9c179e"
             ],
             [
              0.4444444444444444,
              "#bd3786"
             ],
             [
              0.5555555555555556,
              "#d8576b"
             ],
             [
              0.6666666666666666,
              "#ed7953"
             ],
             [
              0.7777777777777778,
              "#fb9f3a"
             ],
             [
              0.8888888888888888,
              "#fdca26"
             ],
             [
              1,
              "#f0f921"
             ]
            ],
            "type": "heatmapgl"
           }
          ],
          "histogram": [
           {
            "marker": {
             "pattern": {
              "fillmode": "overlay",
              "size": 10,
              "solidity": 0.2
             }
            },
            "type": "histogram"
           }
          ],
          "histogram2d": [
           {
            "colorbar": {
             "outlinewidth": 0,
             "ticks": ""
            },
            "colorscale": [
             [
              0,
              "#0d0887"
             ],
             [
              0.1111111111111111,
              "#46039f"
             ],
             [
              0.2222222222222222,
              "#7201a8"
             ],
             [
              0.3333333333333333,
              "#9c179e"
             ],
             [
              0.4444444444444444,
              "#bd3786"
             ],
             [
              0.5555555555555556,
              "#d8576b"
             ],
             [
              0.6666666666666666,
              "#ed7953"
             ],
             [
              0.7777777777777778,
              "#fb9f3a"
             ],
             [
              0.8888888888888888,
              "#fdca26"
             ],
             [
              1,
              "#f0f921"
             ]
            ],
            "type": "histogram2d"
           }
          ],
          "histogram2dcontour": [
           {
            "colorbar": {
             "outlinewidth": 0,
             "ticks": ""
            },
            "colorscale": [
             [
              0,
              "#0d0887"
             ],
             [
              0.1111111111111111,
              "#46039f"
             ],
             [
              0.2222222222222222,
              "#7201a8"
             ],
             [
              0.3333333333333333,
              "#9c179e"
             ],
             [
              0.4444444444444444,
              "#bd3786"
             ],
             [
              0.5555555555555556,
              "#d8576b"
             ],
             [
              0.6666666666666666,
              "#ed7953"
             ],
             [
              0.7777777777777778,
              "#fb9f3a"
             ],
             [
              0.8888888888888888,
              "#fdca26"
             ],
             [
              1,
              "#f0f921"
             ]
            ],
            "type": "histogram2dcontour"
           }
          ],
          "mesh3d": [
           {
            "colorbar": {
             "outlinewidth": 0,
             "ticks": ""
            },
            "type": "mesh3d"
           }
          ],
          "parcoords": [
           {
            "line": {
             "colorbar": {
              "outlinewidth": 0,
              "ticks": ""
             }
            },
            "type": "parcoords"
           }
          ],
          "pie": [
           {
            "automargin": true,
            "type": "pie"
           }
          ],
          "scatter": [
           {
            "fillpattern": {
             "fillmode": "overlay",
             "size": 10,
             "solidity": 0.2
            },
            "type": "scatter"
           }
          ],
          "scatter3d": [
           {
            "line": {
             "colorbar": {
              "outlinewidth": 0,
              "ticks": ""
             }
            },
            "marker": {
             "colorbar": {
              "outlinewidth": 0,
              "ticks": ""
             }
            },
            "type": "scatter3d"
           }
          ],
          "scattercarpet": [
           {
            "marker": {
             "colorbar": {
              "outlinewidth": 0,
              "ticks": ""
             }
            },
            "type": "scattercarpet"
           }
          ],
          "scattergeo": [
           {
            "marker": {
             "colorbar": {
              "outlinewidth": 0,
              "ticks": ""
             }
            },
            "type": "scattergeo"
           }
          ],
          "scattergl": [
           {
            "marker": {
             "colorbar": {
              "outlinewidth": 0,
              "ticks": ""
             }
            },
            "type": "scattergl"
           }
          ],
          "scattermapbox": [
           {
            "marker": {
             "colorbar": {
              "outlinewidth": 0,
              "ticks": ""
             }
            },
            "type": "scattermapbox"
           }
          ],
          "scatterpolar": [
           {
            "marker": {
             "colorbar": {
              "outlinewidth": 0,
              "ticks": ""
             }
            },
            "type": "scatterpolar"
           }
          ],
          "scatterpolargl": [
           {
            "marker": {
             "colorbar": {
              "outlinewidth": 0,
              "ticks": ""
             }
            },
            "type": "scatterpolargl"
           }
          ],
          "scatterternary": [
           {
            "marker": {
             "colorbar": {
              "outlinewidth": 0,
              "ticks": ""
             }
            },
            "type": "scatterternary"
           }
          ],
          "surface": [
           {
            "colorbar": {
             "outlinewidth": 0,
             "ticks": ""
            },
            "colorscale": [
             [
              0,
              "#0d0887"
             ],
             [
              0.1111111111111111,
              "#46039f"
             ],
             [
              0.2222222222222222,
              "#7201a8"
             ],
             [
              0.3333333333333333,
              "#9c179e"
             ],
             [
              0.4444444444444444,
              "#bd3786"
             ],
             [
              0.5555555555555556,
              "#d8576b"
             ],
             [
              0.6666666666666666,
              "#ed7953"
             ],
             [
              0.7777777777777778,
              "#fb9f3a"
             ],
             [
              0.8888888888888888,
              "#fdca26"
             ],
             [
              1,
              "#f0f921"
             ]
            ],
            "type": "surface"
           }
          ],
          "table": [
           {
            "cells": {
             "fill": {
              "color": "#EBF0F8"
             },
             "line": {
              "color": "white"
             }
            },
            "header": {
             "fill": {
              "color": "#C8D4E3"
             },
             "line": {
              "color": "white"
             }
            },
            "type": "table"
           }
          ]
         },
         "layout": {
          "annotationdefaults": {
           "arrowcolor": "#2a3f5f",
           "arrowhead": 0,
           "arrowwidth": 1
          },
          "autotypenumbers": "strict",
          "coloraxis": {
           "colorbar": {
            "outlinewidth": 0,
            "ticks": ""
           }
          },
          "colorscale": {
           "diverging": [
            [
             0,
             "#8e0152"
            ],
            [
             0.1,
             "#c51b7d"
            ],
            [
             0.2,
             "#de77ae"
            ],
            [
             0.3,
             "#f1b6da"
            ],
            [
             0.4,
             "#fde0ef"
            ],
            [
             0.5,
             "#f7f7f7"
            ],
            [
             0.6,
             "#e6f5d0"
            ],
            [
             0.7,
             "#b8e186"
            ],
            [
             0.8,
             "#7fbc41"
            ],
            [
             0.9,
             "#4d9221"
            ],
            [
             1,
             "#276419"
            ]
           ],
           "sequential": [
            [
             0,
             "#0d0887"
            ],
            [
             0.1111111111111111,
             "#46039f"
            ],
            [
             0.2222222222222222,
             "#7201a8"
            ],
            [
             0.3333333333333333,
             "#9c179e"
            ],
            [
             0.4444444444444444,
             "#bd3786"
            ],
            [
             0.5555555555555556,
             "#d8576b"
            ],
            [
             0.6666666666666666,
             "#ed7953"
            ],
            [
             0.7777777777777778,
             "#fb9f3a"
            ],
            [
             0.8888888888888888,
             "#fdca26"
            ],
            [
             1,
             "#f0f921"
            ]
           ],
           "sequentialminus": [
            [
             0,
             "#0d0887"
            ],
            [
             0.1111111111111111,
             "#46039f"
            ],
            [
             0.2222222222222222,
             "#7201a8"
            ],
            [
             0.3333333333333333,
             "#9c179e"
            ],
            [
             0.4444444444444444,
             "#bd3786"
            ],
            [
             0.5555555555555556,
             "#d8576b"
            ],
            [
             0.6666666666666666,
             "#ed7953"
            ],
            [
             0.7777777777777778,
             "#fb9f3a"
            ],
            [
             0.8888888888888888,
             "#fdca26"
            ],
            [
             1,
             "#f0f921"
            ]
           ]
          },
          "colorway": [
           "#636efa",
           "#EF553B",
           "#00cc96",
           "#ab63fa",
           "#FFA15A",
           "#19d3f3",
           "#FF6692",
           "#B6E880",
           "#FF97FF",
           "#FECB52"
          ],
          "font": {
           "color": "#2a3f5f"
          },
          "geo": {
           "bgcolor": "white",
           "lakecolor": "white",
           "landcolor": "#E5ECF6",
           "showlakes": true,
           "showland": true,
           "subunitcolor": "white"
          },
          "hoverlabel": {
           "align": "left"
          },
          "hovermode": "closest",
          "mapbox": {
           "style": "light"
          },
          "paper_bgcolor": "white",
          "plot_bgcolor": "#E5ECF6",
          "polar": {
           "angularaxis": {
            "gridcolor": "white",
            "linecolor": "white",
            "ticks": ""
           },
           "bgcolor": "#E5ECF6",
           "radialaxis": {
            "gridcolor": "white",
            "linecolor": "white",
            "ticks": ""
           }
          },
          "scene": {
           "xaxis": {
            "backgroundcolor": "#E5ECF6",
            "gridcolor": "white",
            "gridwidth": 2,
            "linecolor": "white",
            "showbackground": true,
            "ticks": "",
            "zerolinecolor": "white"
           },
           "yaxis": {
            "backgroundcolor": "#E5ECF6",
            "gridcolor": "white",
            "gridwidth": 2,
            "linecolor": "white",
            "showbackground": true,
            "ticks": "",
            "zerolinecolor": "white"
           },
           "zaxis": {
            "backgroundcolor": "#E5ECF6",
            "gridcolor": "white",
            "gridwidth": 2,
            "linecolor": "white",
            "showbackground": true,
            "ticks": "",
            "zerolinecolor": "white"
           }
          },
          "shapedefaults": {
           "line": {
            "color": "#2a3f5f"
           }
          },
          "ternary": {
           "aaxis": {
            "gridcolor": "white",
            "linecolor": "white",
            "ticks": ""
           },
           "baxis": {
            "gridcolor": "white",
            "linecolor": "white",
            "ticks": ""
           },
           "bgcolor": "#E5ECF6",
           "caxis": {
            "gridcolor": "white",
            "linecolor": "white",
            "ticks": ""
           }
          },
          "title": {
           "x": 0.05
          },
          "xaxis": {
           "automargin": true,
           "gridcolor": "white",
           "linecolor": "white",
           "ticks": "",
           "title": {
            "standoff": 15
           },
           "zerolinecolor": "white",
           "zerolinewidth": 2
          },
          "yaxis": {
           "automargin": true,
           "gridcolor": "white",
           "linecolor": "white",
           "ticks": "",
           "title": {
            "standoff": 15
           },
           "zerolinecolor": "white",
           "zerolinewidth": 2
          }
         }
        },
        "title": {
         "text": "GDP per capita and land per agri worker India"
        },
        "xaxis": {
         "title": {
          "text": "GDP per capita in USD"
         }
        },
        "yaxis": {
         "title": {
          "text": "Land per agri worker in ha"
         }
        },
        "yaxis2": {
         "overlaying": "y",
         "side": "right",
         "title": {
          "text": "Land per agri worker"
         }
        }
       }
      }
     },
     "metadata": {},
     "output_type": "display_data"
    },
    {
     "data": {
      "text/plain": [
       "<function __main__.plot_gdp_per_capita_and_land_per_agri_worker(country)>"
      ]
     },
     "execution_count": 8,
     "metadata": {},
     "output_type": "execute_result"
    }
   ],
   "source": [
    "def plot_gdp_per_capita_and_land_per_agri_worker(country):\n",
    "\n",
    "    country_data_new = data_frame_ten_biggest[data_frame_ten_biggest['country'] == country]\n",
    "\n",
    "    x = country_data_new['GDP_per_capita']\n",
    "    y = country_data_new['Land_per_agri_worker']\n",
    "    m, b = np.polyfit(x, y, 1)\n",
    "    line = m * x + b\n",
    "\n",
    "    fig2 = go.Figure()\n",
    "\n",
    "    fig2.add_trace(go.Scatter(\n",
    "        x=country_data_new['GDP_per_capita'], \n",
    "        y=country_data_new['Land_per_agri_worker'], \n",
    "        mode='markers',\n",
    "        marker=dict(\n",
    "            size=10,\n",
    "            color=country_data_new['year'], \n",
    "            colorscale='plasma', \n",
    "            opacity=0.8,\n",
    "            colorbar=dict(\n",
    "                title='Year'\n",
    "            )\n",
    "        ),\n",
    "        text=country_data_new['year'],\n",
    "        name=country\n",
    "    ))\n",
    "\n",
    "    fig2.add_trace(go.Scatter(x=x, y=line, mode='lines', name='Line of best fit'))\n",
    "\n",
    "    fig2.update_layout(\n",
    "        title=f'GDP per capita and land per agri worker {country}',\n",
    "        xaxis_title='GDP per capita in USD',\n",
    "        yaxis_title='Land per agri worker in ha',\n",
    "        yaxis2=dict(\n",
    "            title='Land per agri worker',\n",
    "            overlaying='y',\n",
    "            side='right'\n",
    "        )\n",
    "    )\n",
    "\n",
    "    fig2.show() \n",
    "\n",
    "\n",
    "interact(plot_gdp_per_capita_and_land_per_agri_worker, country=widgets.Dropdown(options=top_ten_country_list, value=top_ten_country_list[3], description='Country:'))"
   ]
  },
  {
   "attachments": {},
   "cell_type": "markdown",
   "metadata": {},
   "source": [
    "EXPLANATION OF THE PLOT: This plot allows the reader to get an idea how the area farmed by one single agricultural worker changed in each of the ten biggest agri-producers over the past 30 years in light of the change in GDP per capita. The Y-axis depicts the hectars one single worker farmes in hectars, the X-axis depicts the GDP per capita in USD and the colormap brings the time dimension into the plot. A Regression-line of best fit was added to show the relationship between the X- and Y-variable.\n",
    "\n",
    "Interestingly some countries do show an almost liniar positiv relationship between GDP per capita and the amount of land farmed by a single worker. Most notably China, which had massive economic growth over the last decades, does show this. Other countries like Australia, Ukraine and Canada also show positive relationships while some countries like the United States and India do not produce clear pictures with declining lines of best fit.  "
   ]
  },
  {
   "cell_type": "markdown",
   "metadata": {},
   "source": [
    "# Conclusion"
   ]
  },
  {
   "attachments": {},
   "cell_type": "markdown",
   "metadata": {},
   "source": [
    "IN GENERAL we can conclude:\n",
    "\n",
    "- For the most part and most countries an increase in GDP per capita goes hand in hand with a decrease in employment in agriculture. Meanwhile, the crop yield increases despite this fact. This leads to the conclusion that it is factors like more mechanization and the use of improved agro-chemicals that allow for higher productivity in the agriculture sector. \n",
    "\n",
    "- Our analysis of the ten biggest countries measured by arable land showed that the relationship between GDP per capita and the amount of land farmed by a single worker is mostly of positive nature. Especially the rapid development of China seems to have played a role in shaping the relationship seen here. \n",
    "\n",
    "- This however is a very broad analysis. The conclusions drawn here are not very concrete and other factors need to be evaluated when reseraching these kinds of relationships on a country by country basis (for example changing local laws regulations might have an impact as well)."
   ]
  }
 ],
 "metadata": {
  "kernelspec": {
   "display_name": "base",
   "language": "python",
   "name": "python3"
  },
  "language_info": {
   "codemirror_mode": {
    "name": "ipython",
    "version": 3
   },
   "file_extension": ".py",
   "mimetype": "text/x-python",
   "name": "python",
   "nbconvert_exporter": "python",
   "pygments_lexer": "ipython3",
   "version": "3.9.16"
  },
  "toc-autonumbering": true,
  "vscode": {
   "interpreter": {
    "hash": "2817e5a963fe39eff03cb95cdc8f572ee2f2e1817bf2ac4532382cdfef8588ff"
   }
  }
 },
 "nbformat": 4,
 "nbformat_minor": 4
}
