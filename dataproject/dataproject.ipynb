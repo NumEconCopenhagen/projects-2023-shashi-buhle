{
 "cells": [
  {
   "attachments": {},
   "cell_type": "markdown",
   "metadata": {},
   "source": [
    "# Impact of GDP per capita on employment in worldwide agriculture over the past 30 years  "
   ]
  },
  {
   "cell_type": "markdown",
   "metadata": {},
   "source": [
    "Imports and set magics:"
   ]
  },
  {
   "cell_type": "code",
   "execution_count": null,
   "metadata": {},
   "outputs": [],
   "source": [
    "import pandas as pd\n",
    "import numpy as np\n",
    "import plotly.graph_objs as go \n",
    "import matplotlib.pyplot as plt\n",
    "import ipywidgets as widgets\n",
    "from ipywidgets import interact\n",
    "from functools import reduce\n",
    "\n",
    "\n",
    "# autoreload modules when code is run\n",
    "%load_ext autoreload\n",
    "%autoreload 2\n",
    "\n",
    "# user written modules\n",
    "import dataproject\n",
    "\n",
    "# import the API for WorldBank-data\n",
    "from pandas_datareader import wb"
   ]
  },
  {
   "attachments": {},
   "cell_type": "markdown",
   "metadata": {},
   "source": [
    "# Read data"
   ]
  },
  {
   "attachments": {},
   "cell_type": "markdown",
   "metadata": {},
   "source": [
    "Here we are importing data using the API for WorldBank-data. We found the following data and data-codes using the Website of the WorldBank to provide us with different measures for countrys worldwide over the past decades:\\\n",
    "#\n",
    "-Arable land in hectares --> *AG.LND.ARBL.HA*\\\n",
    "-Labor force --> *SL.TLF.TOTL.IN*\\\n",
    "-GDP per capita in USD --> *NY.GDP.PCAP.CD*\\\n",
    "-Employment in agriculture in % of total empoyment --> *SL.AGR.EMPL.ZS*"
   ]
  },
  {
   "cell_type": "code",
   "execution_count": null,
   "metadata": {},
   "outputs": [],
   "source": [
    "# Setting up list of ISO-codes of countries where we are going to import data from using the API\n",
    "countries_ISO_list = ['ABW', 'AFG', 'AGO', 'ALB', 'AND', 'ARE', 'ARG', 'ARM', 'ASM', 'AUS', 'AUT', \n",
    "                      'AZE', 'BDI', 'BEL', 'BEN', 'BFA', 'BGD', 'BGR', 'BHR', 'BHS', 'BIH', 'BLR', \n",
    "                      'BLZ', 'BMU', 'BOL', 'BRA', 'BRB', 'BRN', 'BTN', 'BWA', 'CAF', 'CAN', 'CHE', \n",
    "                      'CHL', 'CHN', 'CIV', 'CMR', 'COD', 'COG', 'COL', 'COM', 'CPV', 'CRI', 'CUB', \n",
    "                      'CUW', 'CYM', 'CYP', 'CZE', 'DEU', 'DJI', 'DMA', 'DNK', 'DOM', 'DZA', 'ECU', \n",
    "                      'EGY', 'ERI', 'ESP', 'EST', 'ETH', 'FIN', 'FJI', 'FRA', 'FRO', 'GAB', 'GBR', \n",
    "                      'GEO', 'GHA', 'GIB', 'GIN', 'GMB', 'GNB', 'GNQ', 'GRC', 'GRD', 'GRL', 'GTM', \n",
    "                      'GUY', 'HKG', 'HND', 'HRV', 'HTI', 'HUN', 'IDN', 'IMN', 'IND', 'IRL', 'IRN', \n",
    "                      'IRQ', 'ISL', 'ISR', 'ITA', 'JAM', 'JOR', 'JPN', 'KAZ', 'KEN', 'KGZ', 'KHM', \n",
    "                      'KIR', 'KNA', 'KOR', 'KWT', 'LBN', 'LBR', 'LBY', 'LCA', 'LIE', 'LKA', 'LSO', \n",
    "                      'LTU', 'LUX', 'LVA', 'MAC', 'MAF', 'MAR', 'MCO', 'MDA', 'MDG', 'MDV', 'MEX', \n",
    "                      'MKD', 'MLI', 'MLT', 'MMR', 'MNE', 'MNG', 'MOZ', 'MRT', 'MUS', 'MWI', 'MYS', \n",
    "                      'NAM', 'NCL', 'NER', 'NGA', 'NIC', 'NLD', 'NOR', 'NPL', 'NRU', 'NZL', 'OMN', \n",
    "                      'PAK', 'PAN', 'PER', 'PHL', 'PLW', 'PNG', 'POL', 'PRI', 'PRK', 'PRT', 'PRY', \n",
    "                      'PSE', 'PYF', 'QAT', 'ROU', 'RUS', 'RWA', 'SAU', 'SDN', 'SEN', 'SGP', 'SLE', \n",
    "                      'SLV', 'SMR', 'SOM', 'SRB', 'SSD', 'STP', 'SUR', 'SVK', 'SVN', 'SWE', 'SWZ', \n",
    "                      'SXM', 'SYC', 'SYR', 'TCA', 'TCD', 'TGO', 'THA', 'TJK', 'TKM', 'TLS', 'TON', \n",
    "                      'TTO', 'TUN', 'TUR', 'TUV', 'TZA', 'UGA', 'UKR', 'URY', 'USA', 'UZB', 'VCT', \n",
    "                      'VEN', 'VGB', 'VIR', 'VNM', 'VUT', 'WSM', 'YEM', 'ZAF', 'ZMB', 'ZWE']\n",
    "\n",
    "# Importing the different DataFrames from the WorldBank using the API from the lecture and resetting the index for each DataFrame\n",
    "wb_arable_land = wb.download(indicator='AG.LND.ARBL.HA', country= countries_ISO_list, start=1989, end=2019)\n",
    "wb_arable_land = wb_arable_land.reset_index()\n",
    "wb_labor_force = wb.download(indicator='SL.TLF.TOTL.IN', country= countries_ISO_list, start=1989, end=2019)\n",
    "wb_labor_force = wb_labor_force.reset_index()\n",
    "wb_emp_ag = wb.download(indicator='SL.AGR.EMPL.ZS', country= countries_ISO_list, start=1989, end=2019)\n",
    "wb_emp_ag = wb_emp_ag.reset_index()\n",
    "wb_gdp_cap = wb.download(indicator='NY.GDP.PCAP.CD', country= countries_ISO_list, start=1989, end=2019)\n",
    "wb_gdp_cap = wb_gdp_cap.reset_index()"
   ]
  },
  {
   "attachments": {},
   "cell_type": "markdown",
   "metadata": {},
   "source": [
    "# Clean and merge data "
   ]
  },
  {
   "cell_type": "code",
   "execution_count": null,
   "metadata": {},
   "outputs": [],
   "source": [
    "# changing the data-type of the 'year'-column to an integer\n",
    "wb_arable_land.year = wb_arable_land.year.astype(int)\n",
    "wb_labor_force.year = wb_labor_force.year.astype(int)\n",
    "wb_emp_ag.year = wb_emp_ag.year.astype(int)\n",
    "wb_gdp_cap.year = wb_gdp_cap.year.astype(int)\n",
    "\n",
    "# Merging all the DataFrames into one big one\n",
    "data_frames_list = [wb_arable_land, wb_labor_force, wb_emp_ag, wb_gdp_cap]\n",
    "data_frames_combined = reduce(lambda left, right: pd.merge(left, right, on = ['country', 'year'], how = 'inner'), data_frames_list)\n",
    "\n",
    "# Renaming the columns\n",
    "namedict = {\n",
    "            'AG.LND.ARBL.HA':'Arable_Land',\n",
    "            'SL.TLF.TOTL.IN':'Labor_Force',\n",
    "            'SL.AGR.EMPL.ZS':'Empl_in_agri_in_%_of_all_empl',\n",
    "            'NY.GDP.PCAP.CD':'GDP_per_capita'}\n",
    "data_frames_combined.rename(columns=namedict, inplace=True)\n",
    "\n",
    "# Dropping all rows that contain empty values (NAN)\n",
    "data_frames_combined.dropna(inplace=True)\n",
    "\n",
    "# Rounding the floats in columns 'Empl_in_agri_in_%_of_all_empl' and 'GDP_per_capita' \n",
    "data_frames_combined['Empl_in_agri_in_%_of_all_empl'] = data_frames_combined['Empl_in_agri_in_%_of_all_empl'].round(2)\n",
    "data_frames_combined['GDP_per_capita'] = data_frames_combined['GDP_per_capita'].round(2)\n",
    "\n",
    "# Converting the values in the columns into their respective units for a better display\n",
    "data_frames_combined['Empl_in_agri_in_%_of_all_empl'] = data_frames_combined['Empl_in_agri_in_%_of_all_empl'].apply(lambda x: '{:.2f}%'.format(x*1))\n",
    "data_frames_combined['GDP_per_capita'] = data_frames_combined['GDP_per_capita'].apply(lambda x: '${:.2f}'.format(x))\n",
    "data_frames_combined['Arable_Land'] = data_frames_combined['Arable_Land'].apply(lambda x: '{:.0f} ha'.format(x))\n",
    "data_frames_combined.Labor_Force = data_frames_combined.Labor_Force.astype(int)\n",
    "\n",
    "# Display the created DataFrame so far\n",
    "data_frames_combined"
   ]
  },
  {
   "attachments": {},
   "cell_type": "markdown",
   "metadata": {},
   "source": [
    "## Exploring the individual data sets "
   ]
  },
  {
   "cell_type": "markdown",
   "metadata": {},
   "source": [
    "In order to be able to **explore the raw data**, you may provide **static** and **interactive plots** to show important developments "
   ]
  },
  {
   "cell_type": "markdown",
   "metadata": {},
   "source": [
    "**Interactive plot** :"
   ]
  },
  {
   "cell_type": "code",
   "execution_count": null,
   "metadata": {},
   "outputs": [],
   "source": [
    "countries_list = data_frames_combined['country'].unique().tolist()\n",
    "\n",
    "def plot_gdp_per_capita_and_agri_empl(country):\n",
    "    # Filter the data for the selected country\n",
    "    country_data = data_frames_combined[data_frames_combined['country'] == country]\n",
    "\n",
    "    # Create the plot\n",
    "    fig = go.Figure()\n",
    "\n",
    "    # Add GDP per capita trace (left y-axis)\n",
    "    fig.add_trace(go.Scatter(x=country_data['year'], y=country_data['GDP_per_capita'],\n",
    "                             mode='lines+markers', name='GDP per capita'))\n",
    "\n",
    "    # Add percentage of people working in agriculture trace (right y-axis)\n",
    "    fig.add_trace(go.Scatter(x=country_data['year'], y=country_data['Empl_in_agri_in_%_of_all_empl'],\n",
    "                             mode='lines+markers', name='Employment in agriculture (%)',\n",
    "                             yaxis='y2'))\n",
    "\n",
    "    # Set the plot title and axis labels\n",
    "    fig.update_layout(\n",
    "        title=f'GDP per capita and employment in agriculture for {country}',\n",
    "        xaxis_title='Year',\n",
    "        yaxis_title='GDP per capita',\n",
    "        yaxis2=dict(\n",
    "            title='Employment in agriculture (%)',\n",
    "            overlaying='y',\n",
    "            side='right'\n",
    "        )\n",
    "    )\n",
    "\n",
    "    # Show the plot\n",
    "    fig.show()\n",
    "\n",
    "# Create a dropdown menu to select a country\n",
    "interact(plot_gdp_per_capita_and_agri_empl, country=widgets.Dropdown(options=countries_list, value=countries_list[0], description='Country:'))\n"
   ]
  },
  {
   "attachments": {},
   "cell_type": "markdown",
   "metadata": {},
   "source": [
    "DISCLAIMER: DUE TO THE AMOUNT OF DATA USED HERE IT MIGHT BE POSSIBLE THAT THE INTERACTIVE PLOT ABOVE DOES NOT AUTO-DISPLAY PROPERLY AND A COUNTRY MUST FIRST BE MANUALLY SELECTED!\n",
    "\n",
    "EXPLANATION: "
   ]
  },
  {
   "cell_type": "markdown",
   "metadata": {},
   "source": [
    "# Analysis"
   ]
  },
  {
   "attachments": {},
   "cell_type": "markdown",
   "metadata": {},
   "source": [
    "We are now creating a subset of our DataFrame of the 10 countries with the largest area of arable land. In this Dataframe we will try to find a relationship between the influence of GDP per capita on the amount of arable land farmed per person working in agriculture. "
   ]
  },
  {
   "cell_type": "code",
   "execution_count": null,
   "metadata": {},
   "outputs": [],
   "source": [
    "# a. First change the units of the columns back to floats and integers to allow for calculation\n",
    "data_frames_combined['Empl_in_agri_in_%_of_all_empl'] = data_frames_combined['Empl_in_agri_in_%_of_all_empl'].str.replace('%','').astype(float)\n",
    "data_frames_combined['GDP_per_capita'] = data_frames_combined['GDP_per_capita'].str.replace('$','').astype(float)\n",
    "data_frames_combined['Arable_Land'] = data_frames_combined['Arable_Land'].str.replace(' ha','').astype(int)"
   ]
  },
  {
   "cell_type": "code",
   "execution_count": null,
   "metadata": {},
   "outputs": [],
   "source": [
    "# b. Creating a list of the 10 biggest countries by area of arable land \n",
    "df_sorted = data_frames_combined.sort_values('year', ascending=False)   # Sort big dataframe by year \n",
    "grouped = df_sorted.groupby('country')                                  # Group by country\n",
    "latest_year = grouped.head(1)                                           # Keep rows for most recent year for each country\n",
    "largest_countries = latest_year.nlargest(10, 'Arable_Land')             # Get the 10 largest in a DataFrame\n",
    "country_column = largest_countries['country']                           # Get the country column as a Series object\n",
    "top_ten_country_list = country_column.tolist()                          # Convert into a Python list\n",
    "\n",
    "# Printing which countries we are going to keep \n",
    "print(f\"The 10 biggest countries by area of arable land that will remain in the DataFrame are:\\n {top_ten_country_list}\")\n",
    "\n",
    "# Cutting down the big WorldBank-DataFrame to the 10 countries with the largest area of arable land\n",
    "data_frame_ten_biggest = data_frames_combined[data_frames_combined['country'].isin(top_ten_country_list)]\n",
    "data_frame_ten_biggest = data_frame_ten_biggest.reset_index(drop=True)\n",
    "\n",
    "# Displaying the new cut down Dataframe \n",
    "data_frame_ten_biggest"
   ]
  },
  {
   "attachments": {},
   "cell_type": "markdown",
   "metadata": {},
   "source": [
    "To get to the relationship between the GDP per capita and the area of arable land farmed by a single person working in the agriculture sector we will need to compute some new columns out of our original WorldBank-data due to the fact that not all the data was available in the way we would need it.\n",
    "\n",
    "- We will have to compute the absolute amount of people working in the agriculture sector per country from the columns of the labor force and the percentage of people employed in agriculture. \n",
    "\n",
    "- We will also calculate a new column of the arable land divided by the people working in the agriculture sector. This then gives us an indicator on how much area of arable land one single worker can handle."
   ]
  },
  {
   "cell_type": "code",
   "execution_count": null,
   "metadata": {},
   "outputs": [],
   "source": [
    "# Create new column of absolute amount of people working in the agriculture sector\n",
    "data_frame_ten_biggest['People_in_agri'] = (data_frame_ten_biggest['Labor_Force'] * (data_frame_ten_biggest['Empl_in_agri_in_%_of_all_empl'] / 100)).astype(int)\n",
    "\n",
    "# Create a new column of the arable land divided by the people working in the agriculture sector\n",
    "data_frame_ten_biggest['Land_per_agri_worker'] = data_frame_ten_biggest['Arable_Land'] / data_frame_ten_biggest['People_in_agri'] \n",
    "\n",
    "# Display the Dataframe  \n",
    "data_frame_ten_biggest"
   ]
  },
  {
   "attachments": {},
   "cell_type": "markdown",
   "metadata": {},
   "source": [
    "**Interactive plot** :"
   ]
  },
  {
   "cell_type": "code",
   "execution_count": null,
   "metadata": {},
   "outputs": [],
   "source": [
    "def plot_gdp_per_capita_and_land_per_agri_worker(country):\n",
    "\n",
    "    country_data_new = data_frame_ten_biggest[data_frame_ten_biggest['country'] == country]\n",
    "\n",
    "    x = country_data_new['GDP_per_capita']\n",
    "    y = country_data_new['Land_per_agri_worker']\n",
    "    m, b = np.polyfit(x, y, 1)\n",
    "    line = m * x + b\n",
    "\n",
    "    fig2 = go.Figure()\n",
    "\n",
    "    fig2.add_trace(go.Scatter(\n",
    "        x=country_data_new['GDP_per_capita'], \n",
    "        y=country_data_new['Land_per_agri_worker'], \n",
    "        mode='markers',\n",
    "        marker=dict(\n",
    "            size=10,\n",
    "            color=country_data_new['year'], \n",
    "            colorscale='plasma', \n",
    "            opacity=0.8,\n",
    "            colorbar=dict(\n",
    "                title='Year'\n",
    "            )\n",
    "        ),\n",
    "        text=country_data_new['year'],\n",
    "        name=country\n",
    "    ))\n",
    "\n",
    "    fig2.add_trace(go.Scatter(x=x, y=line, mode='lines', name='Line of best fit'))\n",
    "\n",
    "    fig2.update_layout(\n",
    "        title=f'GDP per capita and land per agri worker {country}',\n",
    "        xaxis_title='GDP per capita',\n",
    "        yaxis_title='Land per agri worker',\n",
    "        yaxis2=dict(\n",
    "            title='Land per agri worker',\n",
    "            overlaying='y',\n",
    "            side='right'\n",
    "        )\n",
    "    )\n",
    "\n",
    "    fig2.show() \n",
    "\n",
    "\n",
    "interact(plot_gdp_per_capita_and_land_per_agri_worker, country=widgets.Dropdown(options=top_ten_country_list, value=top_ten_country_list[3], description='Country:'))"
   ]
  },
  {
   "cell_type": "markdown",
   "metadata": {},
   "source": [
    "To get a quick overview of the data, we show some **summary statistics** on a meaningful aggregation. "
   ]
  },
  {
   "cell_type": "markdown",
   "metadata": {},
   "source": [
    "MAKE FURTHER ANALYSIS. EXPLAIN THE CODE BRIEFLY AND SUMMARIZE THE RESULTS."
   ]
  },
  {
   "cell_type": "markdown",
   "metadata": {},
   "source": [
    "# Conclusion"
   ]
  },
  {
   "cell_type": "markdown",
   "metadata": {},
   "source": [
    "ADD CONCISE CONLUSION."
   ]
  }
 ],
 "metadata": {
  "kernelspec": {
   "display_name": "base",
   "language": "python",
   "name": "python3"
  },
  "language_info": {
   "codemirror_mode": {
    "name": "ipython",
    "version": 3
   },
   "file_extension": ".py",
   "mimetype": "text/x-python",
   "name": "python",
   "nbconvert_exporter": "python",
   "pygments_lexer": "ipython3",
   "version": "3.9.16"
  },
  "toc-autonumbering": true,
  "vscode": {
   "interpreter": {
    "hash": "2817e5a963fe39eff03cb95cdc8f572ee2f2e1817bf2ac4532382cdfef8588ff"
   }
  }
 },
 "nbformat": 4,
 "nbformat_minor": 4
}
