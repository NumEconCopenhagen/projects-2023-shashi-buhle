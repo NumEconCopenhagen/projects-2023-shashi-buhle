{
 "cells": [
  {
   "cell_type": "markdown",
   "metadata": {},
   "source": [
    "# Inaugural Project"
   ]
  },
  {
   "attachments": {},
   "cell_type": "markdown",
   "metadata": {},
   "source": [
    "> **Note the following:** \n",
    "> 1. This is an example of how to structure your **inaugural project**.\n",
    "> 1. Remember the general advice on structuring and commenting your code\n",
    "> 1. The `inauguralproject.py` file includes a function which can be used multiple times in this notebook."
   ]
  },
  {
   "cell_type": "markdown",
   "metadata": {},
   "source": [
    "Imports and set magics:"
   ]
  },
  {
   "cell_type": "code",
   "execution_count": 1,
   "metadata": {},
   "outputs": [],
   "source": [
    "import numpy as np\n",
    "\n",
    "# autoreload modules when code is run. Otherwise, python will not see recent changes. \n",
    "%load_ext autoreload\n",
    "%autoreload 2\n",
    "\n",
    "# Import your own code\n",
    "import matplotlib.pyplot as plt\n",
    "from HouseholdSpecializationModel import HouseholdSpecializationModelClass"
   ]
  },
  {
   "cell_type": "markdown",
   "metadata": {},
   "source": [
    "# Question 1"
   ]
  },
  {
   "cell_type": "markdown",
   "metadata": {},
   "source": [
    "**Explain how you solve the model**"
   ]
  },
  {
   "cell_type": "code",
   "execution_count": 3,
   "metadata": {},
   "outputs": [
    {
     "ename": "NameError",
     "evalue": "name 'x' is not defined",
     "output_type": "error",
     "traceback": [
      "\u001b[0;31m---------------------------------------------------------------------------\u001b[0m",
      "\u001b[0;31mNameError\u001b[0m                                 Traceback (most recent call last)",
      "\u001b[0;32m/var/folders/ry/2y_m56cd2j195t85vbq3xg340000gn/T/ipykernel_1673/4090757220.py\u001b[0m in \u001b[0;36m<module>\u001b[0;34m\u001b[0m\n\u001b[1;32m      2\u001b[0m \u001b[0;34m\u001b[0m\u001b[0m\n\u001b[1;32m      3\u001b[0m \u001b[0;31m# create an instance of the model class\u001b[0m\u001b[0;34m\u001b[0m\u001b[0;34m\u001b[0m\u001b[0m\n\u001b[0;32m----> 4\u001b[0;31m \u001b[0mmodel\u001b[0m \u001b[0;34m=\u001b[0m \u001b[0mHouseholdSpecializationModelClass\u001b[0m\u001b[0;34m(\u001b[0m\u001b[0;34m)\u001b[0m\u001b[0;34m\u001b[0m\u001b[0;34m\u001b[0m\u001b[0m\n\u001b[0m\u001b[1;32m      5\u001b[0m \u001b[0;34m\u001b[0m\u001b[0m\n\u001b[1;32m      6\u001b[0m \u001b[0;31m# define the values of alpha and sigma to loop over\u001b[0m\u001b[0;34m\u001b[0m\u001b[0;34m\u001b[0m\u001b[0m\n",
      "\u001b[0;32m~/Documents/VsCode workspace/projects-2023-shashi-buhle/inauguralproject/HouseholdSpecializationModel.py\u001b[0m in \u001b[0;36m__init__\u001b[0;34m(self)\u001b[0m\n\u001b[1;32m     26\u001b[0m         \u001b[0mpar\u001b[0m\u001b[0;34m.\u001b[0m\u001b[0malpha\u001b[0m \u001b[0;34m=\u001b[0m \u001b[0;36m0.5\u001b[0m\u001b[0;34m\u001b[0m\u001b[0;34m\u001b[0m\u001b[0m\n\u001b[1;32m     27\u001b[0m         \u001b[0mpar\u001b[0m\u001b[0;34m.\u001b[0m\u001b[0msigma\u001b[0m \u001b[0;34m=\u001b[0m \u001b[0;36m1.0\u001b[0m\u001b[0;34m\u001b[0m\u001b[0;34m\u001b[0m\u001b[0m\n\u001b[0;32m---> 28\u001b[0;31m         \u001b[0mpar\u001b[0m\u001b[0;34m.\u001b[0m\u001b[0malpha_x\u001b[0m \u001b[0;34m=\u001b[0m \u001b[0mx\u001b[0m\u001b[0;34m\u001b[0m\u001b[0;34m\u001b[0m\u001b[0m\n\u001b[0m\u001b[1;32m     29\u001b[0m         \u001b[0mpar\u001b[0m\u001b[0;34m.\u001b[0m\u001b[0msigma_y\u001b[0m \u001b[0;34m=\u001b[0m \u001b[0my\u001b[0m\u001b[0;34m\u001b[0m\u001b[0;34m\u001b[0m\u001b[0m\n\u001b[1;32m     30\u001b[0m \u001b[0;34m\u001b[0m\u001b[0m\n",
      "\u001b[0;31mNameError\u001b[0m: name 'x' is not defined"
     ]
    }
   ],
   "source": [
    "#trying to solve the first question : \n",
    "\n",
    "# create an instance of the model class\n",
    "model = HouseholdSpecializationModelClass()\n",
    "\n",
    "# define the values of alpha and sigma to loop over\n",
    "alpha_vals = [0.25, 0.5, 0.75]\n",
    "sigma_vals = [0.5, 1.0, 1.5]\n",
    "\n",
    "# create a figure with subplots for each combination of alpha and sigma\n",
    "fig, axs = plt.subplots(len(alpha_vals), len(sigma_vals), figsize=(10, 8), sharex=True, sharey=True)\n",
    "\n",
    "# loop over each combination of alpha and sigma\n",
    "for i, alpha in enumerate(alpha_vals):\n",
    "    for j, sigma in enumerate(sigma_vals):\n",
    "        # set the alpha and sigma parameters of the model\n",
    "        model.par.alpha = alpha\n",
    "        model.par.sigma = sigma\n",
    "\n",
    "        # solve the model discretely\n",
    "        opt = model.solve_discrete()\n",
    "\n",
    "        # calculate the ratio of HF/HM\n",
    "        ratio = opt.HF / opt.HM\n",
    "\n",
    "        # plot the ratio against wF\n",
    "        axs[i,j].plot(model.par.wF_vec, ratio)\n",
    "        axs[i,j].set_title(f\"alpha={alpha}, sigma={sigma}\")\n",
    "        axs[i,j].set_ylim([0, 4])\n",
    "\n",
    "# add axis labels and title\n",
    "fig.text(0.5, 0.04, 'Female wage (wF)', ha='center')\n",
    "fig.text(0.04, 0.5, 'HF/HM', va='center', rotation='vertical')\n",
    "fig.suptitle('Ratio of HF/HM for different values of alpha and sigma')\n",
    "\n",
    "# adjust spacing between subplots\n",
    "plt.subplots_adjust(wspace=0.1, hspace=0.3)\n",
    "\n",
    "# show the plot\n",
    "plt.show()\n",
    "\n",
    "\n"
   ]
  },
  {
   "cell_type": "markdown",
   "metadata": {},
   "source": [
    "# Question 2"
   ]
  },
  {
   "cell_type": "markdown",
   "metadata": {},
   "source": [
    "Explain your code and procedure"
   ]
  },
  {
   "cell_type": "code",
   "execution_count": 1,
   "metadata": {},
   "outputs": [],
   "source": [
    "# code\n",
    "\n",
    "Y = 123\n",
    "\n",
    "X = 456\n",
    "\n",
    "Z = 890"
   ]
  },
  {
   "cell_type": "markdown",
   "metadata": {},
   "source": [
    "# Question 3"
   ]
  },
  {
   "cell_type": "markdown",
   "metadata": {},
   "source": [
    "Explain your code and procedure"
   ]
  },
  {
   "cell_type": "code",
   "execution_count": null,
   "metadata": {},
   "outputs": [],
   "source": [
    "# code"
   ]
  },
  {
   "cell_type": "markdown",
   "metadata": {},
   "source": [
    "ADD CONCISE CONLUSION."
   ]
  }
 ],
 "metadata": {
  "kernelspec": {
   "display_name": "base",
   "language": "python",
   "name": "python3"
  },
  "language_info": {
   "codemirror_mode": {
    "name": "ipython",
    "version": 3
   },
   "file_extension": ".py",
   "mimetype": "text/x-python",
   "name": "python",
   "nbconvert_exporter": "python",
   "pygments_lexer": "ipython3",
   "version": "3.9.13"
  },
  "toc-autonumbering": true,
  "vscode": {
   "interpreter": {
    "hash": "8d3d87ccdefad26727745608b6e2c318ea0e6227948721763511471dc41e3e75"
   }
  }
 },
 "nbformat": 4,
 "nbformat_minor": 4
}
