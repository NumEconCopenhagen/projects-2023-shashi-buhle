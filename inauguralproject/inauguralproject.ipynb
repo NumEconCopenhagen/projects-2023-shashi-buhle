{
 "cells": [
  {
   "cell_type": "markdown",
   "metadata": {},
   "source": [
    "# Inaugural Project"
   ]
  },
  {
   "attachments": {},
   "cell_type": "markdown",
   "metadata": {},
   "source": [
    "> **Note the following:** \n",
    "> 1. This is an example of how to structure your **inaugural project**.\n",
    "> 1. Remember the general advice on structuring and commenting your code\n",
    "> 1. The `inauguralproject.py` file includes a function which can be used multiple times in this notebook."
   ]
  },
  {
   "cell_type": "markdown",
   "metadata": {},
   "source": [
    "Imports and set magics:"
   ]
  },
  {
   "cell_type": "code",
   "execution_count": null,
   "metadata": {},
   "outputs": [],
   "source": [
    "import numpy as np\n",
    "import pandas as pd\n",
    "\n",
    "# autoreload modules when code is run. Otherwise, python will not see recent changes. \n",
    "%load_ext autoreload\n",
    "%autoreload 2\n",
    "\n",
    "# Import your own code\n",
    "import matplotlib.pyplot as plt\n",
    "from matplotlib import cm\n",
    "from HouseholdSpecializationModel import HouseholdSpecializationModelClass\n"
   ]
  },
  {
   "cell_type": "markdown",
   "metadata": {},
   "source": [
    "# Question 1"
   ]
  },
  {
   "attachments": {},
   "cell_type": "markdown",
   "metadata": {},
   "source": [
    "Assignment: Illustrate the effect of a change in both σ = {0.5,1.0,1.5} and α ∈ {0.25,0.50,0.75} on the HF/HM Ratio.\n",
    "\n",
    "Our Solution: See comments below"
   ]
  },
  {
   "cell_type": "code",
   "execution_count": null,
   "metadata": {},
   "outputs": [],
   "source": [
    "hsm = HouseholdSpecializationModelClass()\n",
    "\n",
    "#generate the values for both alpha and sigma\n",
    "alpha_values = (0.25, 0.5, 0.75)\n",
    "sigma_values = (0.5, 1.0, 1.5)\n",
    "\n",
    "df = pd.DataFrame(columns = pd.Index(alpha_values, name=\"alpha\"), index = pd.Index(sigma_values, name = \"sigma\"))\n",
    "\n",
    "for i in alpha_values:\n",
    "    for j in sigma_values:\n",
    "        hsm.par.alpha = i\n",
    "        hsm.par.sigma = j\n",
    "        results = hsm.solve_discrete()\n",
    "        ratio = results.HF / results.HM\n",
    "        df.loc[j,i] = f\"{ratio:.2f}\"   # used to update the value in the DataFrame at the row index \"j\" and column index \"i\" with a string representation of the \"ratio\" value rounded to two decimals.    \n",
    "        \n",
    "header = pd.MultiIndex.from_product([['alpha'], alpha_values])\n",
    "df.columns = header\n",
    "print(df.to_string())\n",
    "\n",
    "#create a meshgrid of the above values\n",
    "alpha, sigma = np.meshgrid(alpha_values, sigma_values)\n",
    "\n",
    "#generate a 3x3 matrix of zeros and use for loops to calculate the HF/HM ratio for each value of sigma & alpha\n",
    "#solve the model discretly thereby calculating the ratio for each instance [i,j]\n",
    "HF_HM_ratio = np.zeros((3, 3))\n",
    "\n",
    "for i in range (alpha.shape[0]):\n",
    "    for j in range (sigma.shape[1]):\n",
    "        hsm.par.alpha = alpha[i,j]\n",
    "        hsm.par.sigma = sigma[i,j]\n",
    "        opt = hsm.solve_discrete()\n",
    "        HF_HM_ratio[i,j] = (opt.HF/opt.HM)\n",
    "\n",
    "#3D plot to encompass all the effects of variable changes in one illustration\n",
    "%matplotlib inline\n",
    "fig = plt.figure() \n",
    "ax = fig.add_subplot(1,1,1,projection='3d') \n",
    "ax.plot_surface(alpha,sigma,HF_HM_ratio, cmap=cm.Blues, edgecolor='black'); \n",
    "\n",
    "#making the plot pretty\n",
    "ax.set_xlabel('alpha') \n",
    "ax.set_ylabel('sigma')\n",
    "ax.set_zlabel('HF/HM - ratio')\n",
    "ax.set_title(\"Plot 1 - Effect of changing alphas and sigmas on HF/HM-ratio\")\n",
    "ax.zaxis.labelpad=0.05\n",
    "ax.invert_xaxis()\n",
    "fig.tight_layout()\n"
   ]
  },
  {
   "attachments": {},
   "cell_type": "markdown",
   "metadata": {},
   "source": [
    "Economic interpretation: We see from Plot 1 that by increasing either alpha or sigma, we see an increase in the HF/HM ratio. We can see that by holding a small value of sigma constant (i.e. 0.5) and increasing alpha, we get a smaller variation in the HF/HM ratio than if we were to have a large value of sigma (i.e. 1.5).\n",
    "\n",
    "When we increase household production (σ and α), women will tend to work more from home than men. With very large values of sigma and alpha, we see that the HF/HM ratio will be very high and so women will tend to work a lot more from home than men. "
   ]
  },
  {
   "cell_type": "markdown",
   "metadata": {},
   "source": [
    "# Question 2"
   ]
  },
  {
   "attachments": {},
   "cell_type": "markdown",
   "metadata": {},
   "source": [
    "Assignment: Plot log(HF/HM) against log(wF/wM) for wF ∈[0.8,0.9,1.0,1.1,1.2]\n",
    "\n",
    "Our Solution: See comments in the code down below"
   ]
  },
  {
   "cell_type": "code",
   "execution_count": null,
   "metadata": {},
   "outputs": [],
   "source": [
    "#reset alpha and sigma to the values specified in the project\n",
    "hsm.par.alpha = 0.5\n",
    "hsm.par.sigma = 1\n",
    "\n",
    "#get wages for male and female from the HouseholdSpecializationModel\n",
    "wF = hsm.par.wF_vec\n",
    "wM = hsm.par.wM\n",
    "\n",
    "#create empty lists for the values of log(HF/HM) and log(wF/wM)\n",
    "log_ratio = []\n",
    "log_wages = []\n",
    "\n",
    "#iterate over the different values for wF and find the optimal values for HF and HM using the discrete solver from the \n",
    "#HouseholdSpecializationModel. Then append resulting values to the lists above\n",
    "for femalewages in wF:\n",
    "    hsm.par.wF = femalewages\n",
    "    opt = hsm.solve_discrete()\n",
    "    log_ratio.append(np.log(opt.HF/opt.HM))\n",
    "    log_wages.append(np.log(femalewages/wM))\n",
    "\n",
    "#plot the resulting values for log(HF/HM) and log(wF/wM) against each other\n",
    "plt.plot(log_wages, log_ratio)\n",
    "plt.xlabel(\"log wF/wM\")\n",
    "plt.ylabel(\"log HF/HM\")\n",
    "plt.title(\"Plot 2 - Effect of discretly changing wF on log(HF/HM)\")\n",
    "plt.show()"
   ]
  },
  {
   "attachments": {},
   "cell_type": "markdown",
   "metadata": {},
   "source": [
    "Economic interpretation: The higher the female wage wF gets the lower the value for log(HF/HM). If the female wage wF at the labour market is low the optimal solution of our problem would be to have the female work more hours in the household compared to the man. If wages for females are higher in the labour market the balance tips in favour of the man doing more work at home "
   ]
  },
  {
   "cell_type": "markdown",
   "metadata": {},
   "source": [
    "# Question 3"
   ]
  },
  {
   "attachments": {},
   "cell_type": "markdown",
   "metadata": {},
   "source": [
    "Assignment: Plot log HF/HM against log wF/wM for wF ∈[0.8,0.9,1.0,1.1,1.2] and solve continuously\n",
    "\n",
    "\n",
    "Our Solution: To solve the model continuously we must define the solve() function in the HouseholdSpecializationModel.py file. We define an objective function and call it the value_of_choice whereby we list each of the variables LM, HM, LF, HF (in order) and set it equal to x, to which we then return the negative of the utility function. Additionally, we must also set constraints on our variables to restrict our set of solutions to be within (0,24) given the layout of the model parameters. We include an arbitrary initial guess that we then include in our optimize.minimize command that is used to minimize the negative of our value_of_choice function subject to our set constraints and bounds. The approach uses the Nelder-Mead method in order to solve the model in this multi-dimensional space. "
   ]
  },
  {
   "cell_type": "code",
   "execution_count": null,
   "metadata": {},
   "outputs": [],
   "source": [
    "#get wages for male and female from the householdspecializationmodel\n",
    "wF = hsm.par.wF_vec\n",
    "wM = hsm.par.wM\n",
    "\n",
    "#reset alpha and sigma values to a constant term\n",
    "hsm.par.alpha = 0.5\n",
    "hsm.par.sigma = 1\n",
    "\n",
    "#create empty lists for the values of log(HF/HM) and log(wF/wM)\n",
    "log_wages_continuous = []\n",
    "log_ratio_continuous = []\n",
    "\n",
    "#iterate over the different values for wF and find the optimal values for HF and HM using the discrete solver from the \n",
    "#HouseholdSpecializationModel. Then append resulting values to the lists above\n",
    "for femalewages in wF:\n",
    "    hsm.par.wF = femalewages\n",
    "    opt = hsm.solve()\n",
    "    log_ratio_continuous.append(np.log(opt.HF/opt.HM))\n",
    "    log_wages_continuous.append(np.log(femalewages/wM))\n",
    "\n",
    "#plot the resulting values for log(HF/HM) and log(wF/wM) against each other\n",
    "plt.plot(log_wages_continuous, log_ratio_continuous)\n",
    "plt.xlabel(\"log wF/wM\")\n",
    "plt.ylabel(\"log HF/HM\")\n",
    "plt.title(\"Plot 3 - Effect of continuous changing wF on log(HF/HM) \")\n",
    "plt.show()"
   ]
  },
  {
   "attachments": {},
   "cell_type": "markdown",
   "metadata": {},
   "source": [
    "Economic interpretation (same as for question 2): The higher the female wage wF gets the lower the value for log(HF/HM). If the female wage wF at the labour market is low the optimal solution of our problem would be to have the female work more hours in the household compared to the man. If wages for females are higher in the labour market the balance tips in favour of the man doing more work at home"
   ]
  },
  {
   "attachments": {},
   "cell_type": "markdown",
   "metadata": {},
   "source": [
    "# Question 4"
   ]
  },
  {
   "attachments": {},
   "cell_type": "markdown",
   "metadata": {},
   "source": [
    "Assignment: \n",
    "\n",
    "Choose α and σ such it minimizes (β0 − β0)^2 + (β1 − β1)^2. \n",
    "\n",
    "We illustrate our results of log HF/HM against log WF/WM for Wf ∈[0.8,0.9,1.0,1.1,1.2]. We use the continuous values for Lm, Lf, Wm, Wf.\n",
    "\n",
    "\n",
    "Our Solution:\n",
    "\n",
    "We define our objective function within our estimate and minimize it to find the optimal values of alpha and sigma that best fit the model. Our objective function is minimized with respect to the regression and vector of female wages as can be seen in the HouseholdSpecializationModel.py. By calling on the solver, we obtain optimal values for our fitted parameters and display the results below:"
   ]
  },
  {
   "cell_type": "code",
   "execution_count": null,
   "metadata": {},
   "outputs": [],
   "source": [
    "hsm.printing_estimate()\n"
   ]
  },
  {
   "attachments": {},
   "cell_type": "markdown",
   "metadata": {},
   "source": [
    "Economic interpretation:\n",
    "\n",
    "The regression equation log HF/HM = β0 + β1 log wF/wM showcases the relationship between the log of the ratio of hours worked at home by females versus males as the dependent variable and the log of their relative wages as the independent variable. \n",
    "\n",
    "The value of β1 = -0.1 represents the effect a one unit change in the wage ratio has on the ratio of hours worked at home. Essentially, the model states that a 1% increase in the ratio of female wages in relation to male wages represents a -0.1 decrease in the amount of hours that females spend working at home. This indicates that as the ratio of female to male wages increases, the amount of time spent working at home by females decreases. \n",
    "\n",
    "Our σ = 0.99 indicates a consumption of home production represented by the Cobb-Douglas function as sigma is approximately 1.0. The value of α = 0.80 indicates that household production is not equally productive amongst males and females and as a result females tend to be more productive at home. \n"
   ]
  },
  {
   "cell_type": "markdown",
   "metadata": {},
   "source": [
    "# Question 5"
   ]
  },
  {
   "attachments": {},
   "cell_type": "markdown",
   "metadata": {},
   "source": [
    "Assignment: Suggest and implement an extension of the model, and analyze whether or not it can help match the data when α = 0.5.\n",
    "\n",
    "\n",
    "Our Solution:"
   ]
  },
  {
   "cell_type": "code",
   "execution_count": null,
   "metadata": {},
   "outputs": [],
   "source": [
    "hsm.printing_estimate_alpha()"
   ]
  },
  {
   "cell_type": "markdown",
   "metadata": {},
   "source": [
    "Economic interpretation:"
   ]
  },
  {
   "attachments": {},
   "cell_type": "markdown",
   "metadata": {},
   "source": [
    "ADD CONCISE CONLUSION TO THE WHOLE MODEL."
   ]
  }
 ],
 "metadata": {
  "kernelspec": {
   "display_name": "base",
   "language": "python",
   "name": "python3"
  },
  "language_info": {
   "codemirror_mode": {
    "name": "ipython",
    "version": 3
   },
   "file_extension": ".py",
   "mimetype": "text/x-python",
   "name": "python",
   "nbconvert_exporter": "python",
   "pygments_lexer": "ipython3",
   "version": "3.9.13"
  },
  "toc-autonumbering": true,
  "vscode": {
   "interpreter": {
    "hash": "ec112697327da40d7e9f476d49e8e75851c0f30a16724a0b862223f5b4467119"
   }
  }
 },
 "nbformat": 4,
 "nbformat_minor": 4
}
