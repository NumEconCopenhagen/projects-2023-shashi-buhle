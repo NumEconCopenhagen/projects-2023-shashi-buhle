{
 "cells": [
  {
   "cell_type": "markdown",
   "metadata": {},
   "source": [
    "# Inaugural Project"
   ]
  },
  {
   "attachments": {},
   "cell_type": "markdown",
   "metadata": {},
   "source": [
    "> **Note the following:** \n",
    "> 1. This is an example of how to structure your **inaugural project**.\n",
    "> 1. Remember the general advice on structuring and commenting your code\n",
    "> 1. The `inauguralproject.py` file includes a function which can be used multiple times in this notebook."
   ]
  },
  {
   "cell_type": "markdown",
   "metadata": {},
   "source": [
    "Imports and set magics:"
   ]
  },
  {
   "cell_type": "code",
   "execution_count": null,
   "metadata": {},
   "outputs": [],
   "source": [
    "import numpy as np\n",
    "\n",
    "# autoreload modules when code is run. Otherwise, python will not see recent changes. \n",
    "%load_ext autoreload\n",
    "%autoreload 2\n",
    "\n",
    "# Import your own code\n",
    "import matplotlib.pyplot as plt\n",
    "from mpl_toolkits.mplot3d import Axes3D\n",
    "from matplotlib import cm\n",
    "from HouseholdSpecializationModel import HouseholdSpecializationModelClass"
   ]
  },
  {
   "cell_type": "markdown",
   "metadata": {},
   "source": [
    "# Question 1"
   ]
  },
  {
   "cell_type": "markdown",
   "metadata": {},
   "source": [
    "**Explain how you solve the model**"
   ]
  },
  {
   "cell_type": "code",
   "execution_count": null,
   "metadata": {},
   "outputs": [],
   "source": [
    "hsm = HouseholdSpecializationModelClass()\n",
    "\n",
    "alpha_values = np.array([0.25, 0.5, 0.75])\n",
    "sigma_values = np.array([0.5, 1.0, 1.5])\n",
    "\n",
    "alpha, sigma = np.meshgrid(alpha_values, sigma_values)\n",
    "\n",
    "HF_HM_Ratio = np.zeros_like(alpha)\n",
    "\n",
    "for i in range (alpha.shape[0]):\n",
    "    for j in range (sigma.shape[1]):\n",
    "        hsm.par.alpha = alpha[i,j]\n",
    "        hsm.par.sigma = sigma[i,j]\n",
    "        opt = hsm.solve_discrete()\n",
    "        HF_HM_Ratio[i,j] = opt.HF/opt.HM\n",
    "\n",
    "\n",
    "threedimensional_Plot=plt.figure(figsize=(12,10))\n",
    "ax=threedimensional_Plot.add_subplot(1,1,1, projection='3d')\n",
    "ax.plot_surface(alpha, sigma, HF_HM_Ratio,cmap=cm.coolwarm,linewidth=0,antialiased=False)\n"
   ]
  },
  {
   "cell_type": "markdown",
   "metadata": {},
   "source": [
    "# Question 2"
   ]
  },
  {
   "cell_type": "markdown",
   "metadata": {},
   "source": [
    "Explain your code and procedure"
   ]
  },
  {
   "cell_type": "code",
   "execution_count": null,
   "metadata": {},
   "outputs": [],
   "source": [
    "#get wages for male and female from the householdspecializationmodel\n",
    "wF = hsm.par.wF_vec\n",
    "wM = hsm.par.wM\n",
    "\n",
    "#reset alpha and sigma values to a constant term\n",
    "hsm.par.alpha = 0.5\n",
    "hsm.par.sigma = 1\n",
    "\n",
    "#create the log-wF/wM vector (find the optimal for each wF)\n",
    "log_wages = []\n",
    "log_ratio = []\n",
    "\n",
    "for femalewages in wF:\n",
    "    hsm.par.wF = femalewages\n",
    "    opt = hsm.solve_discrete()\n",
    "    log_ratio.append(np.log(opt.HF/opt.HM))\n",
    "    log_wages.append(np.log(femalewages/wM))\n",
    "\n",
    "#plot \n",
    "plt.plot(log_wages, log_ratio)\n",
    "plt.xlabel(\"log wF/wM\")\n",
    "plt.ylabel(\"log Hf/Hm\")\n",
    "plt.title(\"Plot 3\")\n",
    "plt.show()"
   ]
  },
  {
   "cell_type": "markdown",
   "metadata": {},
   "source": [
    "# Question 3"
   ]
  },
  {
   "cell_type": "markdown",
   "metadata": {},
   "source": [
    "Explain your code and procedure"
   ]
  },
  {
   "cell_type": "code",
   "execution_count": null,
   "metadata": {},
   "outputs": [],
   "source": [
    "#get wages for male and female from the householdspecializationmodel\n",
    "wF = hsm.par.wF_vec\n",
    "wM = hsm.par.wM\n",
    "\n",
    "#reset alpha and sigma values to a constant term\n",
    "hsm.par.alpha = 0.5\n",
    "hsm.par.sigma = 1\n",
    "\n",
    "#create the log-wF/wM vector (find the optimal for each wF)\n",
    "log_wages_continuous = []\n",
    "log_ratio_continuous = []\n",
    "\n",
    "for femalewages in wF:\n",
    "    hsm.par.wF = femalewages\n",
    "    opt = hsm.solve()\n",
    "    log_ratio_continuous.append(np.log(opt.HF/opt.HM))\n",
    "    log_wages_continuous.append(np.log(femalewages/wM))\n",
    "\n",
    "#plot \n",
    "plt.plot(log_wages_continuous, log_ratio_continuous)\n",
    "plt.xlabel(\"log wF/wM\")\n",
    "plt.ylabel(\"log Hf/Hm\")\n",
    "plt.title(\"Plot 4\")\n",
    "plt.show()"
   ]
  },
  {
   "cell_type": "markdown",
   "metadata": {},
   "source": [
    "ADD CONCISE CONLUSION."
   ]
  }
 ],
 "metadata": {
  "kernelspec": {
   "display_name": "base",
   "language": "python",
   "name": "python3"
  },
  "language_info": {
   "codemirror_mode": {
    "name": "ipython",
    "version": 3
   },
   "file_extension": ".py",
   "mimetype": "text/x-python",
   "name": "python",
   "nbconvert_exporter": "python",
   "pygments_lexer": "ipython3",
   "version": "3.9.13"
  },
  "toc-autonumbering": true,
  "vscode": {
   "interpreter": {
    "hash": "8d3d87ccdefad26727745608b6e2c318ea0e6227948721763511471dc41e3e75"
   }
  }
 },
 "nbformat": 4,
 "nbformat_minor": 4
}
