{
 "cells": [
  {
   "attachments": {},
   "cell_type": "markdown",
   "metadata": {},
   "source": [
    "# MODEL-PROJECT: The Black-Scholes(-Merton)-Model"
   ]
  },
  {
   "attachments": {},
   "cell_type": "markdown",
   "metadata": {},
   "source": [
    "**Before we start please install these packages in your VScode terminal (if not already installed)**\n",
    "\n",
    "To do that just remove the '#' in the codecell below and run the code once. Be sure to put the '#' back in before you continue as to not run into problems when rerunning the code."
   ]
  },
  {
   "cell_type": "code",
   "execution_count": 3,
   "metadata": {},
   "outputs": [],
   "source": [
    "# !pip install yfinance\n",
    "# !pip install ipywidgets\n",
    "# !pip install dash\n",
    "# !pip install dash-core-components"
   ]
  },
  {
   "cell_type": "markdown",
   "metadata": {},
   "source": [
    "Imports and set magics:"
   ]
  },
  {
   "cell_type": "code",
   "execution_count": 4,
   "metadata": {},
   "outputs": [
    {
     "name": "stdout",
     "output_type": "stream",
     "text": [
      "The autoreload extension is already loaded. To reload it, use:\n",
      "  %reload_ext autoreload\n"
     ]
    }
   ],
   "source": [
    "import numpy as np\n",
    "from scipy import optimize\n",
    "import sympy as sp\n",
    "import matplotlib.pyplot as plt\n",
    "from scipy.stats import norm\n",
    "import yfinance as yf\n",
    "from dash import dcc\n",
    "from scipy.stats import norm\n",
    "\n",
    "# autoreload modules when code is run\n",
    "%load_ext autoreload\n",
    "%autoreload 2\n",
    "\n",
    "# local modules\n",
    "import modelproject"
   ]
  },
  {
   "cell_type": "markdown",
   "metadata": {},
   "source": [
    "# Model description"
   ]
  },
  {
   "cell_type": "markdown",
   "metadata": {},
   "source": [
    "The Black-Scholes Model is a mathematical model widely used for pricing European-style options in financial markets. It provides a theoretical estimate of the value of a call or put option based on the following parameters:\n",
    "\n",
    "The current price of the underlying asset (S)\n",
    "The strike price of the option (K)\n",
    "The time to maturity (T)\n",
    "The risk-free interest rate (r)\n",
    "The volatility of the underlying asset (σ)\n",
    "The Black-Scholes equation for the price of a call option (C) and put option (P) is given by:\n",
    "\n",
    "$ C(S, K, T, r, σ) = S N(d1) - K e^{-rT} N(d2) $\n",
    "\n",
    "$ P(S, K, T, r, σ) = K e^{-rT} N(-d2) - S N(-d1) $\n",
    "\n",
    "where:\n",
    "\n",
    "$ d1 = \\frac{log(\\frac{S}{K}) + (r + \\frac{σ^2}{2})T}{σ\\sqrt{T}} $\n",
    "\n",
    "$ d2 = d1 - σ\\sqrt{T} $\n",
    "\n",
    "and $N(x)$ is the cumulative distribution function of the standard normal distribution."
   ]
  },
  {
   "attachments": {},
   "cell_type": "markdown",
   "metadata": {},
   "source": [
    "Model Analysis Project - Black-Scholes Model\n",
    "\n",
    "The Black-Scholes model is a mathematical model for pricing European-style options. It's widely used in the financial industry, and it has significantly impacted the field of financial economics. The model assumes that the price of the underlying asset follows a geometric Brownian motion, and it derives a closed-form solution for the price of a European call option.\n",
    "\n",
    "Here's the Black-Scholes formula for the price of a European call option:\n",
    "\n",
    "C(S, t) = S * N(d1) - K * exp(-r * (T - t)) * N(d2)\n",
    "\n",
    "Where:\n",
    "\n",
    "C(S, t) is the price of the call option at time t\n",
    "S is the current stock price\n",
    "K is the strike price of the option\n",
    "r is the risk-free interest rate\n",
    "T is the time to expiration of the option\n",
    "N(d) is the cumulative distribution function of the standard normal distribution\n",
    "d1 = (ln(S/K) + (r + (σ^2)/2) * (T-t)) / (σ * sqrt(T-t))\n",
    "d2 = d1 - σ * sqrt(T-t)\n",
    "σ is the volatility of the underlying asset\n",
    "In this project, we'll implement the Black-Scholes model using Python and perform various analyses, including analytical and numerical solutions, visualization, and model extension."
   ]
  },
  {
   "cell_type": "code",
   "execution_count": null,
   "metadata": {},
   "outputs": [],
   "source": [
    "# Define the Black-Scholes Model equation\n",
    "def black_scholes(S, K, T, r, sigma, option_type='call'):\n",
    "    d1 = (np.log(S/K) + (r + 0.5*sigma**2)*T) / (sigma*np.sqrt(T))\n",
    "    d2 = d1 - sigma*np.sqrt(T)\n",
    "    \n",
    "    if option_type == 'call':\n",
    "        price = S*norm.cdf(d1) - K*np.exp(-r*T)*norm.cdf(d2)\n",
    "    else:\n",
    "        price = K*np.exp(-r*T)*norm.cdf(-d2) - S*norm.cdf(-d1)\n",
    "    \n",
    "    return price\n"
   ]
  },
  {
   "cell_type": "markdown",
   "metadata": {},
   "source": [
    "## Analytical solution"
   ]
  },
  {
   "attachments": {},
   "cell_type": "markdown",
   "metadata": {},
   "source": [
    "The Black-Scholes model has a closed-form solution, which we can obtain using Sympy. We'll first derive the steady-state equation and then use Sympy to solve and lambdify it."
   ]
  },
  {
   "cell_type": "code",
   "execution_count": null,
   "metadata": {},
   "outputs": [],
   "source": [
    "# Define the Black-Scholes Model symbols\n",
    "S, K, T, r, sigma = sp.symbols('S K T r sigma')\n",
    "\n",
    "# Define the Black-Scholes Model equation\n",
    "d1 = (sp.log(S/K) + (r + 0.5*sigma**2)*T) / (sigma*sp.sqrt(T))\n",
    "d2 = d1 - sigma*sp.sqrt(T)\n",
    "\n",
    "# Define lambdified functions for d1 and d2\n",
    "d1_lambdified = sp.lambdify((S, K, T, r, sigma), d1, 'numpy')\n",
    "d2_lambdified = sp.lambdify((S, K, T, r, sigma), d2, 'numpy')\n",
    "\n",
    "# Define Black-Scholes call and put pricing functions\n",
    "def black_scholes_call(S, K, T, r, sigma):\n",
    "    d1_val = d1_lambdified(S, K, T, r, sigma)\n",
    "    d2_val = d2_lambdified(S, K, T, r, sigma)\n",
    "    return S*norm.cdf(d1_val) - K*np.exp(-r*T)*norm.cdf(d2_val)\n",
    "\n",
    "def black_scholes_put(S, K, T, r, sigma):\n",
    "    d1_val = d1_lambdified(S, K, T, r, sigma)\n",
    "    d2_val = d2_lambdified(S, K, T, r, sigma)\n",
    "    return K*np.exp(-r*T)*norm.cdf(-d2_val) - S*norm.cdf(-d1_val)\n"
   ]
  },
  {
   "cell_type": "markdown",
   "metadata": {},
   "source": [
    "## Numerical solution"
   ]
  },
  {
   "attachments": {},
   "cell_type": "markdown",
   "metadata": {},
   "source": [
    "We can also solve the Black-Scholes model numerically using optimization algorithms. In this case, we'll use the Newton-Raphson method."
   ]
  },
  {
   "cell_type": "code",
   "execution_count": null,
   "metadata": {},
   "outputs": [],
   "source": [
    "# Define input values\n",
    "S_val = 100\n",
    "K_val = 95\n",
    "T_val = 1\n",
    "r_val = 0.05\n",
    "sigma_val = 0.2\n",
    "\n",
    "# Calculate call and put prices\n",
    "call_price = black_scholes_call(S_val, K_val, T_val, r_val, sigma_val)\n",
    "put_price = black_scholes_put(S_val, K_val, T_val, r_val, sigma_val)\n",
    "\n",
    "# Print results\n",
    "print(f\"Call price: {call_price}\")\n",
    "print(f\"Put price: {put_price}\")\n"
   ]
  },
  {
   "cell_type": "markdown",
   "metadata": {},
   "source": [
    "# Further analysis"
   ]
  },
  {
   "attachments": {},
   "cell_type": "markdown",
   "metadata": {},
   "source": [
    "Now, let's analyze how the model changes with different parameter values and visualize the results."
   ]
  },
  {
   "cell_type": "code",
   "execution_count": null,
   "metadata": {},
   "outputs": [],
   "source": [
    "import yfinance as yf\n",
    "import numpy as np\n",
    "import scipy.stats as si\n",
    "import plotly.graph_objects as go\n",
    "import ipywidgets as widgets\n",
    "\n",
    "# Define the Black-Scholes model\n",
    "def black_scholes(S, K, T, r, sigma, option='call'):\n",
    "    d1 = (np.log(S / K) + (r + 0.5 * sigma ** 2) * T) / (sigma * np.sqrt(T))\n",
    "    d2 = d1 - sigma * np.sqrt(T)\n",
    "    if option == 'call':\n",
    "        price = S * si.norm.cdf(d1) - K * np.exp(-r * T) * si.norm.cdf(d2)\n",
    "    else:\n",
    "        price = K * np.exp(-r * T) * si.norm.cdf(-d2) - S * si.norm.cdf(-d1)\n",
    "    return price\n",
    "\n",
    "def get_options():\n",
    "    # Define the stocks and their details\n",
    "    stocks = ['^N225', 'LHA.DE', 'BNP.PA', 'ADS.DE', 'AMS.SW', 'ROG.SW', 'NESR.CA', 'ENGI.PA', 'ASML.AS', 'AIR.PA', 'IFX.DE', 'MC.PA', 'NESN.SW', 'SU.PA', 'AAPL', 'GOOG']\n",
    "    names = ['Nikkei 225', 'Lufthansa', 'BNP Paribas', 'Adidas', 'AMS', 'Roche', 'Nespresso', 'Engie', 'ASML', 'Airbus', 'Infineon', 'LVMH', 'Nestle', 'Total', 'Apple', 'Google']\n",
    "    options = [{\"label\": names[i], \"value\": stocks[i]} for i in range(len(stocks))]\n",
    "    return options\n",
    "\n",
    "prices = yf.download(\"^N225 LHA.DE BNP.PA ADS.DE AMS.SW ROG.SW NESR.CA ENGI.PA ASML.AS AIR.PA IFX.DE MC.PA NESN.SW SU.PA AAPL GOOG\", start='2020-01-01', end='2022-05-05')['Adj Close']\n",
    "\n",
    "\n",
    "# Define the options and their details\n",
    "S = prices.iloc[-1].values\n",
    "Ks = np.linspace(0.9 * S.min(), 1.1 * S.max(), 50)\n",
    "Ts = np.array([30, 60, 90, 120]) / 365\n",
    "rs = 0.0\n",
    "sigmas = prices.pct_change().std() * np.sqrt(252)\n",
    "\n",
    "# Create the figure\n",
    "fig = go.Figure()\n",
    "\n",
    "# Define function for plotting options\n",
    "def plot_option(stock_idx):\n",
    "    # Add traces for each option\n",
    "    for j, T in enumerate(Ts):\n",
    "        for option in ['call', 'put']:\n",
    "            prices_ = []\n",
    "            for K in Ks:\n",
    "                price = black_scholes(S[stock_idx], K, T, rs, sigmas[stock_idx], option)\n",
    "                prices_.append(price)\n",
    "            trace = go.Scatter(x=Ks, y=prices_, mode='lines', name=f'{names[stock_idx]} {T * 365:.0f}d {option}', line=dict(width=2))\n",
    "            fig.add_trace(trace)\n",
    "\n",
    "    # Update the layout\n",
    "    fig.update_layout(\n",
    "        title=f'Black-Scholes Model for {names[stock_idx]}',\n",
    "        xaxis_title='Strike Price',\n",
    "        yaxis_title='Option Price',\n",
    "        font=dict(size=12),\n",
    "        legend=dict(yanchor='top', y=1.0, xanchor='left', x=0.01),\n",
    "        margin=dict(l=50, r=50, t=100, b=50),\n",
    "        height=500,\n",
    "        width=800\n",
    "    )\n",
    "\n",
    "# Define dropdown menu\n",
    "menu = widgets.Dropdown(options=[(name, i) for i, name in enumerate(names)], value=0, description='Stock:')\n",
    "\n",
    "def interactive_plot(stock_symbol):\n",
    "    # Get the stock prices for the selected symbol\n",
    "    prices = yf.download(stock_symbol, start='2020-01-01', end='2022-05-05')['Adj Close']\n",
    "    prices = prices.fillna(method='ffill')\n",
    "    S = prices.iloc[-1].values[0]\n",
    "\n",
    "    # Define the options and their details\n",
    "    Ks = np.linspace(0.9 * S.min(), 1.1 * S.max(), 50)\n",
    "    Ts = np.array([30, 60, 90, 120]) / 365\n",
    "    rs = 0.0\n",
    "    sigmas = prices.pct_change().std() * np.sqrt(252)\n",
    "\n",
    "    # Calculate the call and put option prices\n",
    "    call_prices = [black_scholes(S, K, T, rs, sigma) for K in Ks for T in Ts]\n",
    "    put_prices = [black_scholes(S, K, T, rs, sigma, 'put') for K in Ks for T in Ts]\n",
    "\n",
    "    # Reshape the prices into a matrix for plotting\n",
    "    call_prices = np.array(call_prices).reshape(len(Ts), len(Ks))\n",
    "    put_prices = np.array(put_prices).reshape(len(Ts), len(Ks))\n",
    "\n",
    "    # Create the plot\n",
    "    fig = go.Figure()\n",
    "    fig.add_trace(go.Contour(x=Ks, y=Ts, z=call_prices, colorscale='Oranges', name='Call Option Price'))\n",
    "    fig.add_trace(go.Contour(x=Ks, y=Ts, z=put_prices, colorscale='Blues', name='Put Option Price'))\n",
    "    fig.update_layout(title=f'Black-Scholes Model for {stock_symbol}', xaxis_title='Strike Price', yaxis_title='Time to Maturity (Years)')\n",
    "    fig.show()\n",
    "\n",
    "\n",
    "# Create a dropdown menu with the list of stocks\n",
    "stock_dropdown = dcc.Dropdown(options=get_options(), value='AAPL', placeholder=\"Select a stock symbol\")\n",
    "\n",
    "# Add the dropdown menu to the plot\n",
    "fig.update_layout(\n",
    "    updatemenus=[\n",
    "        dict(\n",
    "            buttons=list([\n",
    "                dict(\n",
    "                    args=[{'type': 'scatter', 'mode': 'lines'}],\n",
    "                    label='Lines',\n",
    "                    method='restyle'\n",
    "                ),\n",
    "                dict(\n",
    "                    args=[{'type': 'scatter', 'mode': 'markers'}],\n",
    "                    label='Markers',\n",
    "                    method='restyle'\n",
    "                ),\n",
    "            ]),\n",
    "            direction='down',\n",
    "            pad={'r': 10, 't': 10},\n",
    "            showactive=True,\n",
    "            x=0.1,\n",
    "            xanchor='left',\n",
    "            y=1.1,\n",
    "            yanchor='top'\n",
    "        ),\n",
    "        dict(\n",
    "            buttons=list([{'args': [{'visible': [True, True, False]}, {'yaxis': {'title': 'Option Price'}}], 'label': 'Call', 'method': 'update'},\n",
    "                          {'args': [{'visible': [False, False, True]}, {'yaxis': {'title': 'Option Price'}}], 'label': 'Put', 'method': 'update'}]),\n",
    "            direction='down',\n",
    "            pad={'r': 10, 't': 10},\n",
    "            showactive=True,\n",
    "            x=0.5,\n",
    "            xanchor='center',\n",
    "            y=1.1,\n",
    "            yanchor='top'\n",
    "        ),\n",
    "        dict(\n",
    "            buttons=[{'label': 'All', 'method': 'update', 'args': [{'visible': [True, True, True]}]}] + \n",
    "                    [{'label': stock, 'method': 'update', 'args': [{'visible': [i == j for i, j in enumerate([True]*3 + [False]*(2*len(prices.columns)))], \n",
    "                                                                     'title': {'text': f'{stock} Option Prices'}}]} for stock in prices.columns],\n",
    "            direction='down',\n",
    "            pad={'r': 10, 't': 10},\n",
    "            showactive=True,\n",
    "            x=0.9,\n",
    "            xanchor='right',\n",
    "            y=1.1,\n",
    "            yanchor='top'\n",
    "        )\n",
    "    ]\n",
    ")\n",
    "\n",
    "# Register the update function to the dropdown menu\n",
    "stock_dropdown.observe(update_plot, 'value')\n",
    "\n",
    "# Display the plot and dropdown menu\n",
    "widgets.VBox([stock_dropdown, fig])\n"
   ]
  },
  {
   "cell_type": "markdown",
   "metadata": {},
   "source": [
    "# Conclusion"
   ]
  },
  {
   "cell_type": "markdown",
   "metadata": {},
   "source": [
    "Additionally, in this version of the project, we have created an interactive plot to visualize the Black-Scholes option prices for 15 different European stocks. The stocks were chosen to represent a diverse range of industries and countries. The interactive plot allows users to select a stock from a dropdown menu and view the corresponding option prices for the call and put options."
   ]
  }
 ],
 "metadata": {
  "kernelspec": {
   "display_name": "base",
   "language": "python",
   "name": "python3"
  },
  "language_info": {
   "codemirror_mode": {
    "name": "ipython",
    "version": 3
   },
   "file_extension": ".py",
   "mimetype": "text/x-python",
   "name": "python",
   "nbconvert_exporter": "python",
   "pygments_lexer": "ipython3",
   "version": "3.9.16"
  },
  "toc-autonumbering": true,
  "vscode": {
   "interpreter": {
    "hash": "47ef90cdf3004d3f859f1fb202523c65c07ba7c22eefd261b181f4744e2d0403"
   }
  }
 },
 "nbformat": 4,
 "nbformat_minor": 4
}
