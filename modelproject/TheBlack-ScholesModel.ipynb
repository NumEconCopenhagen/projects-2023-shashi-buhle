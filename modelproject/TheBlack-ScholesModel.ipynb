{
 "cells": [
  {
   "attachments": {},
   "cell_type": "markdown",
   "metadata": {},
   "source": [
    "# MODEL-PROJECT: The Black-Scholes(-Merton)-Model"
   ]
  },
  {
   "attachments": {},
   "cell_type": "markdown",
   "metadata": {},
   "source": [
    "**Before we start please install these packages in your VScode terminal (if not already installed)**\n",
    "\n",
    "To do that just remove the '#' in the codecell below and run the code once. Be sure to put the '#' back in before you continue as to not run into problems when rerunning the code."
   ]
  },
  {
   "cell_type": "code",
   "execution_count": 14,
   "metadata": {},
   "outputs": [],
   "source": [
    "# !pip install yfinance\n",
    "# !pip install ipywidgets\n",
    "# !pip install dash\n",
    "# !pip install dash-core-components"
   ]
  },
  {
   "cell_type": "markdown",
   "metadata": {},
   "source": [
    "Imports and set magics:"
   ]
  },
  {
   "cell_type": "code",
   "execution_count": 15,
   "metadata": {},
   "outputs": [
    {
     "name": "stdout",
     "output_type": "stream",
     "text": [
      "The autoreload extension is already loaded. To reload it, use:\n",
      "  %reload_ext autoreload\n"
     ]
    }
   ],
   "source": [
    "import numpy as np\n",
    "from scipy import optimize\n",
    "import sympy as sp\n",
    "import matplotlib.pyplot as plt\n",
    "from scipy.stats import norm\n",
    "import yfinance as yf\n",
    "from dash import dcc\n",
    "import ipywidgets as widgets\n",
    "from IPython.display import display\n",
    "\n",
    "# autoreload modules when code is run\n",
    "%load_ext autoreload\n",
    "%autoreload 2\n",
    "\n",
    "# local modules\n",
    "import modelproject"
   ]
  },
  {
   "cell_type": "markdown",
   "metadata": {},
   "source": [
    "# Model description"
   ]
  },
  {
   "attachments": {},
   "cell_type": "markdown",
   "metadata": {},
   "source": [
    "The Black-Scholes model is a mathematical model for pricing European-style options. It's widely used in the financial industry, and it has significantly impacted the field of financial economics. The model assumes that the price of the underlying asset follows a geometric Brownian motion, and it derives a closed-form solution for the price of said asset. It provides a theoretical estimate of the value of a call or put option based on the following parameters:\n",
    "\n",
    "-The current price of the underlying asset (S)  \n",
    "-The strike price of the option (K)  \n",
    "-The time to maturity (T)  \n",
    "-The risk-free interest rate (r)  \n",
    "-The volatility of the underlying asset (σ)  \n",
    "\n",
    "The Black-Scholes equation for the price of a call option (C) and put option (P) is given by:\n",
    "\n",
    "$ C(S, K, T, r, σ) = S N(d1) - K e^{-rT} N(d2) $\n",
    "\n",
    "$ P(S, K, T, r, σ) = K e^{-rT} N(-d2) - S N(-d1) $\n",
    "\n",
    "where:\n",
    "\n",
    "$ d1 = \\frac{log(\\frac{S}{K}) + (r + \\frac{σ^2}{2})T}{σ\\sqrt{T}} $\n",
    "\n",
    "$ d2 = d1 - σ\\sqrt{T} $\n",
    " \n",
    "and $N(x)$ is the cumulative distribution function of the standard normal distribution.\n",
    "\n",
    "In this project, we'll implement the Black-Scholes model using Python and perform various analyses, including numerical solutions for different real world assets and visualizations."
   ]
  },
  {
   "cell_type": "code",
   "execution_count": 16,
   "metadata": {},
   "outputs": [],
   "source": [
    "# Define the Black-Scholes Model equation\n",
    "def black_scholes(S, K, T, r, sigma, option_type='call'):\n",
    "    d1 = (np.log(S/K) + (r + 0.5*sigma**2)*T) / (sigma*np.sqrt(T))\n",
    "    d2 = d1 - sigma*np.sqrt(T)\n",
    "    \n",
    "    if option_type == 'call':\n",
    "        price = S*norm.cdf(d1) - K*np.exp(-r*T)*norm.cdf(d2)\n",
    "    else:\n",
    "        price = K*np.exp(-r*T)*norm.cdf(-d2) - S*norm.cdf(-d1)\n",
    "    \n",
    "    return price"
   ]
  },
  {
   "cell_type": "markdown",
   "metadata": {},
   "source": [
    "## Analytical solution"
   ]
  },
  {
   "attachments": {},
   "cell_type": "markdown",
   "metadata": {},
   "source": [
    "The Black-Scholes model has a closed-form solution, which we can obtain using Sympy. We'll first derive the steady-state equation and then use Sympy to solve and lambdify it."
   ]
  },
  {
   "cell_type": "code",
   "execution_count": 17,
   "metadata": {},
   "outputs": [],
   "source": [
    "# Define the Black-Scholes Model symbols\n",
    "S, K, T, r, sigma = sp.symbols('S K T r sigma')\n",
    "\n",
    "# Define the Black-Scholes Model equation\n",
    "d1 = (sp.log(S/K) + (r + 0.5*sigma**2)*T) / (sigma*sp.sqrt(T))\n",
    "d2 = d1 - sigma*sp.sqrt(T)\n",
    "\n",
    "# Define lambdified functions for d1 and d2\n",
    "d1_lambdified = sp.lambdify((S, K, T, r, sigma), d1, 'numpy')\n",
    "d2_lambdified = sp.lambdify((S, K, T, r, sigma), d2, 'numpy')\n",
    "\n",
    "# Define Black-Scholes call and put pricing functions\n",
    "def black_scholes_call(S, K, T, r, sigma):\n",
    "    d1_val = d1_lambdified(S, K, T, r, sigma)\n",
    "    d2_val = d2_lambdified(S, K, T, r, sigma)\n",
    "    return S*norm.cdf(d1_val) - K*np.exp(-r*T)*norm.cdf(d2_val)\n",
    "\n",
    "def black_scholes_put(S, K, T, r, sigma):\n",
    "    d1_val = d1_lambdified(S, K, T, r, sigma)\n",
    "    d2_val = d2_lambdified(S, K, T, r, sigma)\n",
    "    return K*np.exp(-r*T)*norm.cdf(-d2_val) - S*norm.cdf(-d1_val) \n",
    "\n",
    "\n"
   ]
  },
  {
   "cell_type": "markdown",
   "metadata": {},
   "source": [
    "## Numerical solution"
   ]
  },
  {
   "attachments": {},
   "cell_type": "markdown",
   "metadata": {},
   "source": [
    "We can also solve the Black-Scholes model numerically using optimization algorithms. In this case, we'll use the Newton-Raphson method."
   ]
  },
  {
   "cell_type": "code",
   "execution_count": 18,
   "metadata": {},
   "outputs": [
    {
     "data": {
      "application/vnd.jupyter.widget-view+json": {
       "model_id": "4cc92a2c771045d9a717ffb39d6e079f",
       "version_major": 2,
       "version_minor": 0
      },
      "text/plain": [
       "interactive(children=(FloatSlider(value=0.2, continuous_update=False, description='Sigma:', max=1.0, min=0.01,…"
      ]
     },
     "metadata": {},
     "output_type": "display_data"
    },
    {
     "data": {
      "application/vnd.jupyter.widget-view+json": {
       "model_id": "7ee6a08ac9f94375a9689894eb108297",
       "version_major": 2,
       "version_minor": 0
      },
      "text/plain": [
       "Output()"
      ]
     },
     "metadata": {},
     "output_type": "display_data"
    }
   ],
   "source": [
    "# Define the Black-Scholes Model equation\n",
    "def black_scholes(S, K, T, r, sigma, option_type='call'):\n",
    "    d1 = (np.log(S/K) + (r + 0.5*sigma**2)*T) / (sigma*np.sqrt(T))\n",
    "    d2 = d1 - sigma*np.sqrt(T)\n",
    "    \n",
    "    if option_type == 'call':\n",
    "        price = S*norm.cdf(d1) - K*np.exp(-r*T)*norm.cdf(d2)\n",
    "    else:\n",
    "        price = K*np.exp(-r*T)*norm.cdf(-d2) - S*norm.cdf(-d1)\n",
    "    \n",
    "    return price\n",
    "\n",
    "# Define the initial values for S, K, T, r, and sigma\n",
    "S = 100\n",
    "K = 100\n",
    "T = 1\n",
    "r = 0.05\n",
    "sigma = 0.2\n",
    "\n",
    "# Define a range of strike prices\n",
    "strike_prices = np.linspace(S * 0.5, S * 1.5, 100)\n",
    "\n",
    "# Create a function to update the plot with the new value of sigma\n",
    "def update_plot(sigma):\n",
    "    call_prices = [black_scholes(S, K, T, r, sigma, option_type='call') for K in strike_prices]\n",
    "    put_prices = [black_scholes(S, K, T, r, sigma, option_type='put') for K in strike_prices]\n",
    "    \n",
    "    plt.figure(figsize=(10, 6))\n",
    "    plt.plot(strike_prices, call_prices, label=\"Call prices\")\n",
    "    plt.plot(strike_prices, put_prices, label=\"Put prices\")\n",
    "    plt.title(f\"Black-Scholes Model for S={S}, K={K}, T={T}, r={r}, sigma={sigma}\")\n",
    "    plt.xlabel(\"Strike Price\")\n",
    "    plt.ylabel(\"Option Price\")\n",
    "    plt.legend()\n",
    "    plt.show()\n",
    "\n",
    "# Create a slider widget for sigma\n",
    "sigma_slider = widgets.FloatSlider(\n",
    "    value=sigma,\n",
    "    min=0.01,\n",
    "    max=1,\n",
    "    step=0.01,\n",
    "    description='Sigma:',\n",
    "    continuous_update=False\n",
    ")\n",
    "\n",
    "# Create an output widget to display the plot\n",
    "out = widgets.Output()\n",
    "\n",
    "# Display the interactive plot\n",
    "widgets.interact(update_plot, sigma=sigma_slider)\n",
    "display(out)\n"
   ]
  },
  {
   "cell_type": "markdown",
   "metadata": {},
   "source": [
    "# Further analysis"
   ]
  },
  {
   "attachments": {},
   "cell_type": "markdown",
   "metadata": {},
   "source": [
    "Now, let's analyze how the model changes with different parameter values and visualize the results."
   ]
  },
  {
   "cell_type": "code",
   "execution_count": 20,
   "metadata": {},
   "outputs": [
    {
     "data": {
      "application/vnd.jupyter.widget-view+json": {
       "model_id": "0c203e514c514d8aa45df22d958c1c2d",
       "version_major": 2,
       "version_minor": 0
      },
      "text/plain": [
       "interactive(children=(Dropdown(description='Company:', options=('Apple', 'Microsoft', 'Google', 'Amazon', 'Tes…"
      ]
     },
     "metadata": {},
     "output_type": "display_data"
    },
    {
     "data": {
      "application/vnd.jupyter.widget-view+json": {
       "model_id": "420b99a83f1445a4854e17c88ccfc568",
       "version_major": 2,
       "version_minor": 0
      },
      "text/plain": [
       "Output()"
      ]
     },
     "metadata": {},
     "output_type": "display_data"
    }
   ],
   "source": [
    "# List of 15 stock tickers \n",
    "stock_list = [\"AAPL\", \"MSFT\", \"GOOG\", \"AMZN\", \"TSLA\", \"NFLX\", \"BRK-B\", \"JPM\", \"JNJ\", \"V\", \"WMT\", \"UNH\", \"PG\", \"NVDA\", \"HD\"]\n",
    "company_list = [\"Apple\", \"Microsoft\", \"Google\", \"Amazon\", \"Tesla\", \"Netflix\", \"Berkshire Hathaway\", \"JPMorgan Chase\", \"Johnson & Johnson\", \"Visa\", \"Walmart\", \"UnitedHealth Group\", \"Procter & Gamble\", \"NVIDIA\", \"Home Depot\"]\n",
    "\n",
    "# Define dictionary to map companies to tickers\n",
    "company_ticker_dict = {company: ticker for company, ticker in zip(company_list, stock_list)}\n",
    "\n",
    "# Function to plot Black-Scholes model for a given stock ticker\n",
    "def plot_black_scholes(company):\n",
    "    with out:\n",
    "        try:\n",
    "            # Get stock data\n",
    "            stock_ticker = company_ticker_dict[company]\n",
    "            stock_data = yf.download(stock_ticker, progress=False)\n",
    "            stock_price = stock_data.iloc[-1][\"Close\"]\n",
    "\n",
    "            # Calculate call and put prices for a range of strike prices\n",
    "            strike_prices = np.linspace(stock_price * 0.5, stock_price * 1.5, 100)\n",
    "            call_prices = [black_scholes_call(stock_price, K, T, r, sigma) for K in strike_prices]\n",
    "            put_prices = [black_scholes_put(stock_price, K, T, r, sigma) for K in strike_prices]\n",
    "\n",
    "            # Clear the output and create the plot\n",
    "            out.clear_output(wait=True)\n",
    "            plt.figure(figsize=(10, 6))\n",
    "            plt.plot(strike_prices, call_prices, label=\"Call prices\")\n",
    "            plt.plot(strike_prices, put_prices, label=\"Put prices\")\n",
    "\n",
    "            plt.title(f\"Black-Scholes Model for {company}\")\n",
    "            plt.xlabel(\"Strike Price\")\n",
    "            plt.ylabel(\"Option Price\")\n",
    "            plt.legend()\n",
    "            plt.show()\n",
    "        except IndexError as e:\n",
    "            print(f\"Error: {e}. Data for {company} might not be available or the stock might be delisted.\")\n",
    "\n",
    "# Create a dropdown menu for company selection\n",
    "company_dropdown = widgets.Dropdown(\n",
    "    options=company_list,\n",
    "    value=company_list[0],\n",
    "    description=\"Company:\",\n",
    ")\n",
    "\n",
    "# Create an Output widget to display the plot\n",
    "out = widgets.Output()\n",
    "\n",
    "# Display the interactive plot\n",
    "widgets.interact(plot_black_scholes, company=company_dropdown)\n",
    "display(out)\n"
   ]
  },
  {
   "cell_type": "code",
   "execution_count": null,
   "metadata": {},
   "outputs": [],
   "source": [
    "# Trying to get an actual sigma for the real world stock data. ChatGPT stuff that still needs to be refined:\n",
    "\n",
    "\n",
    "\n",
    "\n",
    "\n",
    "\n",
    "\n",
    "\n",
    "\n",
    "\n",
    "\n",
    "# Define a list of ticker symbols for the stocks you want to analyze\n",
    "tickers = [\"AAPL\", \"MSFT\", \"AMZN\", \"GOOGL\", \"FB\"]\n",
    "\n",
    "# Download data for all the tickers in the list\n",
    "data = yf.download(tickers, start=\"2020-01-01\", end=\"2020-12-31\", group_by=\"ticker\")\n",
    "\n",
    "# Calculate the standard deviation of the Close prices for each stock\n",
    "std_devs = data[\"Close\"].std()\n",
    "\n",
    "# Create a dictionary to store the results\n",
    "results_dict = {}\n",
    "\n",
    "# Loop through the list of tickers and store the standard deviation for each one in the dictionary\n",
    "for ticker in tickers:\n",
    "    results_dict[ticker] = std_devs[ticker]\n",
    "\n",
    "# Print the dictionary to display the results\n",
    "print(results_dict)"
   ]
  },
  {
   "cell_type": "markdown",
   "metadata": {},
   "source": [
    "# Conclusion"
   ]
  },
  {
   "cell_type": "markdown",
   "metadata": {},
   "source": [
    "Additionally, in this version of the project, we have created an interactive plot to visualize the Black-Scholes option prices for 15 different European stocks. The stocks were chosen to represent a diverse range of industries and countries. The interactive plot allows users to select a stock from a dropdown menu and view the corresponding option prices for the call and put options."
   ]
  }
 ],
 "metadata": {
  "kernelspec": {
   "display_name": "base",
   "language": "python",
   "name": "python3"
  },
  "language_info": {
   "codemirror_mode": {
    "name": "ipython",
    "version": 3
   },
   "file_extension": ".py",
   "mimetype": "text/x-python",
   "name": "python",
   "nbconvert_exporter": "python",
   "pygments_lexer": "ipython3",
   "version": "3.9.16"
  },
  "toc-autonumbering": true,
  "vscode": {
   "interpreter": {
    "hash": "8d3d87ccdefad26727745608b6e2c318ea0e6227948721763511471dc41e3e75"
   }
  }
 },
 "nbformat": 4,
 "nbformat_minor": 4
}
