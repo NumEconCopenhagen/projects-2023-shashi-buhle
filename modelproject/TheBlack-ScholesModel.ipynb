{
 "cells": [
  {
   "attachments": {},
   "cell_type": "markdown",
   "metadata": {},
   "source": [
    "# MODEL-PROJECT: The Black-Scholes(-Merton)-Model"
   ]
  },
  {
   "attachments": {},
   "cell_type": "markdown",
   "metadata": {},
   "source": [
    "**Before we start please install these packages in your VScode terminal (if not already installed)**\n",
    "\n",
    "To do that just remove the '#' in the codecell below and run the code once. Be sure to put the '#' back in before you continue as to not run into problems when rerunning the code."
   ]
  },
  {
   "cell_type": "code",
   "execution_count": 18,
   "metadata": {},
   "outputs": [],
   "source": [
    "# !pip install yfinance\n",
    "# !pip install ipywidgets\n",
    "# !pip install dash\n",
    "# !pip install dash-core-components"
   ]
  },
  {
   "cell_type": "markdown",
   "metadata": {},
   "source": [
    "Imports and set magics:"
   ]
  },
  {
   "cell_type": "code",
   "execution_count": 19,
   "metadata": {},
   "outputs": [
    {
     "name": "stdout",
     "output_type": "stream",
     "text": [
      "The autoreload extension is already loaded. To reload it, use:\n",
      "  %reload_ext autoreload\n"
     ]
    }
   ],
   "source": [
    "import numpy as np\n",
    "from scipy import optimize\n",
    "import sympy as sp\n",
    "import matplotlib.pyplot as plt\n",
    "from scipy.stats import norm\n",
    "import yfinance as yf\n",
    "from dash import dcc\n",
    "import ipywidgets as widgets\n",
    "from IPython.display import display\n",
    "\n",
    "# autoreload modules when code is run\n",
    "%load_ext autoreload\n",
    "%autoreload 2\n",
    "\n",
    "# local modules\n",
    "import modelproject"
   ]
  },
  {
   "cell_type": "markdown",
   "metadata": {},
   "source": [
    "# Model description"
   ]
  },
  {
   "attachments": {},
   "cell_type": "markdown",
   "metadata": {},
   "source": [
    "The Black-Scholes model is a mathematical model for pricing European-style options. It's widely used in the financial industry, and it has significantly impacted the field of financial economics. The model assumes that the price of the underlying asset follows a geometric Brownian motion, and it derives a closed-form solution for the price of said asset. It provides a theoretical estimate of the value of a call or put option based on the following parameters:\n",
    "\n",
    "-The current price of the underlying asset (S)  \n",
    "-The strike price of the option (K)  \n",
    "-The time to maturity (T)  \n",
    "-The risk-free interest rate (r)  \n",
    "-The volatility of the underlying asset (σ)  \n",
    "\n",
    "Deriving the Black-Scholes PDE for a call-option on a non-dividend paying stock with strike K and maturity T. We assume that the stock price follows a geometric Brownian motion so that:\n",
    "\n",
    "$ d (S_t) = μS_t dt + σS_tdW_t $ (i)\n",
    "\n",
    "where $ W_t $ is a standard Brownian motion. We also assume that interest rates are constant so that 1 unit of currency invested in the cash account at time 0 will be worth $ B_t := exp(rt) $ at time t. We will denote by $ C(S, t) $ the value of the call option at time t. By Itˆo’s lemma we know that:\n",
    "\n",
    "$ dC(S, t) = μS_t\\frac{∂ C}{∂ S} + \\frac{∂ C}{∂ t} + \\frac{1}{2}σ^2S^2\\frac{∂^2C}{∂S^2} dt + σS_t\\frac{∂ C}{∂ S}dW_t$ (ii)\n",
    "\n",
    "Let us now consider a self-financing trading strategy where at each time t we hold $x_t$ units of the cash account and $y_t$ units of the stock. Then $P_t$, the time t value of this strategy satisfies:\n",
    "\n",
    "$P_t = x_tB_t + y_tS_t $ (iii)\n",
    "\n",
    "We will choose $x_t$ and $y_t$ in such a way that the strategy replicates the value of the option. The self-financing assumption implies that:\n",
    "\n",
    "$ dP_t = x_tdB_t + y_tdS_t$  (iv)  \n",
    "$      = rx_tB_tdt + y_t(μS_tdt + σS_tdW_t) $  \n",
    "$      = (rx_tB_t + y_tμS_t)dt + y_tσS_tdW_t $ (v)\n",
    "\n",
    "We can equate terms in (ii)) with the corresponding terms in (v) to obtain:\n",
    "\n",
    "$ y_t = \\frac{∂ C}{∂ S} $  (vi)\n",
    "\n",
    "$ rx_tB_t = \\frac{∂ C}{∂ t} + \\frac{1}{2}σ^2S^2\\frac{∂^2C}{∂S^2} $  (vii)\n",
    "\n",
    "If we set $C_0 = P_0$, the initial value of our self-financing strategy, then it must be the case that $C_t = P_t$ for all t since C and P have the same dynamics. This is true by construction after we equated terms in (ii) with the corresponding terms in (v). Substituting (vi) and (vii) into (iii) we obtain:\n",
    "\n",
    "\n",
    "$ rS_t\\frac{∂ C}{∂ S} + \\frac{∂ C}{∂ t} + \\frac{1}{2}σ^2S^2\\frac{∂^2C}{∂S^2} - rC = 0 $ (viii) \n",
    "\n",
    "\n",
    "the Black-Scholes PDE. In order to solve (viii) boundary conditions must also be provided. In the case of the call option, these conditions are as follows:\n",
    "\n",
    "$ C(S, T) = max(S-K, 0), C(0, t) = 0 $ for all t and $C(S, t) ⭢ S $ $as$ $ S ⭢ ∞ $  \n",
    "\n",
    "We are finally able to arrive at the final formula for a european style call option as the solution to equation (viii):\n",
    "\n",
    "$ C(S, K, T, r, σ) = S N(d1) - K e^{-rT} N(d2) $ \n",
    "\n",
    "where:\n",
    "\n",
    "$ d1 = \\frac{log(\\frac{S}{K}) + (r + \\frac{σ^2}{2})T}{σ\\sqrt{T}} $\n",
    "\n",
    "$ d2 = d1 - σ\\sqrt{T} $  \n",
    "\n",
    "and $N(x)$ is the cumulative distribution function of the standard normal distribution.\n",
    "\n",
    "Equivalenty, from what we call the put-call parity we can also easily compute the price of a European put option using the formula for a call. By doing so we arrive at the following:\n",
    "\n",
    "$ P(S, K, T, r, σ) = K e^{-rT} N(-d2) - S N(-d1) $  \n",
    "  \n",
    "  \n",
    "In this project, we'll implement the Black-Scholes model using Python and perform various analyses, including numerical solutions for different real world assets and visualizations.\n"
   ]
  },
  {
   "cell_type": "markdown",
   "metadata": {},
   "source": [
    "## Analytical solution"
   ]
  },
  {
   "attachments": {},
   "cell_type": "markdown",
   "metadata": {},
   "source": [
    "The Black-Scholes model ....."
   ]
  },
  {
   "cell_type": "code",
   "execution_count": 20,
   "metadata": {},
   "outputs": [
    {
     "data": {
      "text/latex": [
       "$\\displaystyle \\frac{T \\left(r + 0.5 \\sigma^{2}\\right) + \\log{\\left(\\frac{S}{K} \\right)}}{\\sqrt{T} \\sigma}$"
      ],
      "text/plain": [
       "(T*(r + 0.5*sigma**2) + log(S/K))/(sqrt(T)*sigma)"
      ]
     },
     "execution_count": 20,
     "metadata": {},
     "output_type": "execute_result"
    }
   ],
   "source": [
    "# Define the Black-Scholes Model symbols\n",
    "S, K, T, r, sigma = sp.symbols('S K T r sigma')\n",
    "\n",
    "# Define the Black-Scholes Model equation\n",
    "d1 = ((r + 0.5*sigma**2)*T + sp.log(S/K)) / (sigma*sp.sqrt(T))\n",
    "d1"
   ]
  },
  {
   "cell_type": "code",
   "execution_count": 21,
   "metadata": {},
   "outputs": [
    {
     "data": {
      "text/latex": [
       "$\\displaystyle - \\sqrt{T} \\sigma + \\frac{T \\left(r + 0.5 \\sigma^{2}\\right) + \\log{\\left(\\frac{S}{K} \\right)}}{\\sqrt{T} \\sigma}$"
      ],
      "text/plain": [
       "-sqrt(T)*sigma + (T*(r + 0.5*sigma**2) + log(S/K))/(sqrt(T)*sigma)"
      ]
     },
     "execution_count": 21,
     "metadata": {},
     "output_type": "execute_result"
    }
   ],
   "source": [
    "d2 = d1 - sigma*sp.sqrt(T)\n",
    "d2"
   ]
  },
  {
   "cell_type": "code",
   "execution_count": 22,
   "metadata": {},
   "outputs": [],
   "source": [
    "# Define lambdified functions for d1 and d2\n",
    "d1_lambdified = sp.lambdify((S, K, T, r, sigma), d1, 'numpy')\n",
    "d2_lambdified = sp.lambdify((S, K, T, r, sigma), d2, 'numpy')\n",
    "\n",
    "# Define the Black-Scholes Model equation\n",
    "def black_scholes(S, K, T, r, sigma, option_type='call'):\n",
    "    d1 = d1_lambdified(S, K, T, r, sigma)\n",
    "    d2 = d2_lambdified(S, K, T, r, sigma)\n",
    "    \n",
    "    if option_type == 'call':\n",
    "        price = S*norm.cdf(d1) - K*np.exp(-r*T)*norm.cdf(d2)\n",
    "    else:\n",
    "        price = K*np.exp(-r*T)*norm.cdf(-d2) - S*norm.cdf(-d1)\n",
    "    \n",
    "    return price"
   ]
  },
  {
   "cell_type": "markdown",
   "metadata": {},
   "source": [
    "## Numerical solution"
   ]
  },
  {
   "attachments": {},
   "cell_type": "markdown",
   "metadata": {},
   "source": [
    "We can also solve the Black-Scholes model numerically using optimization algorithms. In this case, we'll use the Newton-Raphson method."
   ]
  },
  {
   "cell_type": "code",
   "execution_count": 33,
   "metadata": {},
   "outputs": [
    {
     "data": {
      "application/vnd.jupyter.widget-view+json": {
       "model_id": "7ea2756b632e43b4bc6192dc6a6ad236",
       "version_major": 2,
       "version_minor": 0
      },
      "text/plain": [
       "interactive(children=(FloatSlider(value=100.0, continuous_update=False, description='Strike price \"K\":', max=1…"
      ]
     },
     "metadata": {},
     "output_type": "display_data"
    },
    {
     "data": {
      "application/vnd.jupyter.widget-view+json": {
       "model_id": "e885d973a5cf4f61b296588963ab9b5b",
       "version_major": 2,
       "version_minor": 0
      },
      "text/plain": [
       "Output()"
      ]
     },
     "metadata": {},
     "output_type": "display_data"
    }
   ],
   "source": [
    "# Define the initial values for K, S, T, r, and sigma\n",
    "K = 100\n",
    "S = 100\n",
    "T = 1\n",
    "r = 0.05\n",
    "sigma = 0.2\n",
    "\n",
    "# Define a range of strike prices\n",
    "stock_prices = np.linspace(1, 200, 100)\n",
    "\n",
    "# Create a function to update the plot with the new value of sigma\n",
    "def update_plot(K, T, r, sigma):\n",
    "    call_prices = [black_scholes(S, K, T, r, sigma, option_type='call') for S in stock_prices]\n",
    "    put_prices = [black_scholes(S, K, T, r, sigma, option_type='put') for S in stock_prices]\n",
    "    \n",
    "    plt.figure(figsize=(10, 6))\n",
    "    plt.plot(stock_prices, call_prices, label=\"Call prices\")\n",
    "    plt.plot(stock_prices, put_prices, label=\"Put prices\")\n",
    "    plt.title(f\"Black-Scholes Model for K={K}, T={T}, r={r}, sigma={sigma}\")\n",
    "    plt.xlabel(\"Stock Price\")\n",
    "    plt.ylabel(\"Option Price\")\n",
    "    plt.legend()\n",
    "    plt.show()\n",
    "\n",
    "# Create a slider widget for S\n",
    "K_slider = widgets.FloatSlider(\n",
    "    value=K,\n",
    "    min=S * 0.5,\n",
    "    max=S * 1.5,\n",
    "    step=1,\n",
    "    description='Strike price \"K\":',\n",
    "    continuous_update=False\n",
    ")    \n",
    "\n",
    "# Create a slider widget for T\n",
    "T_slider = widgets.FloatSlider(\n",
    "    value=T,\n",
    "    min=1,\n",
    "    max=10,\n",
    "    step=1,\n",
    "    description='Time to maturity \"T\":',\n",
    "    continuous_update=False\n",
    ")\n",
    "\n",
    "# Create a slider widget for r\n",
    "r_slider = widgets.FloatSlider(\n",
    "    value=r,\n",
    "    min=0,\n",
    "    max=0.2,\n",
    "    step=0.005,\n",
    "    description='Risk free rate \"r\":',\n",
    "    continuous_update=False\n",
    ")\n",
    "\n",
    "# Create a slider widget for sigma\n",
    "sigma_slider = widgets.FloatSlider(\n",
    "    value=sigma,\n",
    "    min=0.01,\n",
    "    max=1,\n",
    "    step=0.01,\n",
    "    description='Sigma:',\n",
    "    continuous_update=False\n",
    ")\n",
    "\n",
    "# Create an output widget to display the plot\n",
    "out = widgets.Output()\n",
    "\n",
    "# Display the interactive plot\n",
    "widgets.interact(update_plot, K=K_slider, T=T_slider, r=r_slider, sigma=sigma_slider)\n",
    "display(out)\n"
   ]
  },
  {
   "cell_type": "markdown",
   "metadata": {},
   "source": [
    "# Further analysis"
   ]
  },
  {
   "attachments": {},
   "cell_type": "markdown",
   "metadata": {},
   "source": [
    "Now, let's analyze how the model changes with different parameter values and visualize the results."
   ]
  },
  {
   "cell_type": "code",
   "execution_count": 24,
   "metadata": {},
   "outputs": [
    {
     "data": {
      "application/vnd.jupyter.widget-view+json": {
       "model_id": "84b612e787f544bfae523b4a53f50593",
       "version_major": 2,
       "version_minor": 0
      },
      "text/plain": [
       "interactive(children=(Dropdown(description='Company:', options=('Apple', 'Microsoft', 'Google', 'Amazon', 'Tes…"
      ]
     },
     "metadata": {},
     "output_type": "display_data"
    },
    {
     "data": {
      "application/vnd.jupyter.widget-view+json": {
       "model_id": "f67763e1e2f540749f09587c43ee9c7f",
       "version_major": 2,
       "version_minor": 0
      },
      "text/plain": [
       "Output()"
      ]
     },
     "metadata": {},
     "output_type": "display_data"
    }
   ],
   "source": [
    "# List of 15 stock tickers \n",
    "stock_list = [\"AAPL\", \"MSFT\", \"GOOG\", \"AMZN\", \"TSLA\", \"NFLX\", \"BRK-B\", \"JPM\", \"JNJ\", \"V\", \"WMT\", \"UNH\", \"PG\", \"NVDA\", \"HD\"]\n",
    "company_list = [\"Apple\", \"Microsoft\", \"Google\", \"Amazon\", \"Tesla\", \"Netflix\", \"Berkshire Hathaway\", \"JPMorgan Chase\", \"Johnson & Johnson\", \"Visa\", \"Walmart\", \"UnitedHealth Group\", \"Procter & Gamble\", \"NVIDIA\", \"Home Depot\"]\n",
    "\n",
    "# Define dictionary to map companies to tickers\n",
    "company_ticker_dict = {company: ticker for company, ticker in zip(company_list, stock_list)}\n",
    "\n",
    "# Function to plot Black-Scholes model for a given stock ticker\n",
    "def plot_black_scholes(company, T_val=T, r_val=r, sigma_val=sigma):\n",
    "    with out:\n",
    "        try:\n",
    "            # Get stock data\n",
    "            stock_ticker = company_ticker_dict[company]\n",
    "            stock_data = yf.download(stock_ticker, progress=False)\n",
    "            stock_price = stock_data.iloc[-1][\"Close\"]\n",
    "\n",
    "            # Calculate call and put prices for a range of strike prices\n",
    "            strike_prices = np.linspace(stock_price * 0.5, stock_price * 1.5, 100)\n",
    "            call_prices = [black_scholes(stock_price, K, T_val, r_val, sigma_val, option_type='call') for K in strike_prices]\n",
    "            put_prices = [black_scholes(stock_price, K, T_val, r_val, sigma_val, option_type='put') for K in strike_prices]\n",
    "\n",
    "            # Clear the output and create the plot\n",
    "            out.clear_output(wait=True)\n",
    "            plt.figure(figsize=(10, 6))\n",
    "            plt.plot(strike_prices, call_prices, label=\"Call prices\")\n",
    "            plt.plot(strike_prices, put_prices, label=\"Put prices\")\n",
    "\n",
    "            plt.title(f\"Black-Scholes Model for {company}\")\n",
    "            plt.xlabel(\"Strike Price\")\n",
    "            plt.ylabel(\"Option Price\")\n",
    "            plt.legend()\n",
    "            plt.show()\n",
    "        except IndexError as e:\n",
    "            print(f\"Error: {e}. Data for {company} might not be available or the stock might be delisted.\")\n",
    "\n",
    "\n",
    "# Create a dropdown menu for company selection\n",
    "company_dropdown = widgets.Dropdown(\n",
    "    options=company_list,\n",
    "    value=company_list[0],\n",
    "    description=\"Company:\",\n",
    ")\n",
    "\n",
    "# Create a slider widget for T\n",
    "T_slider2 = widgets.FloatSlider(\n",
    "    value=T,\n",
    "    min=1,\n",
    "    max=10,\n",
    "    step=1,\n",
    "    description='Time to maturity \"T\":',\n",
    "    continuous_update=False\n",
    ")\n",
    "\n",
    "# Create a slider widget for r\n",
    "r_slider2 = widgets.FloatSlider(\n",
    "    value=r,\n",
    "    min=0,\n",
    "    max=0.2,\n",
    "    step=0.005,\n",
    "    description='Risk free rate \"r\":',\n",
    "    continuous_update=False\n",
    ")\n",
    "\n",
    "# Create a slider widget for sigma\n",
    "sigma_slider2 = widgets.FloatSlider(\n",
    "    value=sigma,\n",
    "    min=0.01,\n",
    "    max=1,\n",
    "    step=0.01,\n",
    "    description='Sigma:',\n",
    "    continuous_update=False\n",
    ")\n",
    "\n",
    "# Create an Output widget to display the plot\n",
    "out = widgets.Output()\n",
    "\n",
    "# Display the interactive plot\n",
    "widgets.interact(plot_black_scholes, company=company_dropdown, T_val=T_slider2, r_val=r_slider2, sigma_val=sigma_slider2)\n",
    "display(out)"
   ]
  },
  {
   "cell_type": "code",
   "execution_count": 25,
   "metadata": {},
   "outputs": [
    {
     "name": "stdout",
     "output_type": "stream",
     "text": [
      "[*********************100%***********************]  4 of 4 completed\n",
      "{'AAPL': 12.740353615867223, 'MSFT': 24.851217339488393, 'AMZN': 24.060345165344298, 'GOOGL': 15.932279210602557}\n"
     ]
    }
   ],
   "source": [
    "# Code we can use to estimate past sigmas: \n",
    "\n",
    "\n",
    "# Define a list of ticker symbols for the stocks you want to analyze\n",
    "tickers = [\"AAPL\", \"MSFT\", \"AMZN\", \"GOOGL\"]\n",
    "\n",
    "# Download data for all the tickers in the list\n",
    "data = yf.download(tickers, start=\"2022-01-01\", end=\"2023-05-05\", group_by=\"ticker\")\n",
    "\n",
    "# Create a dictionary to store the results\n",
    "results_dict = {}\n",
    "\n",
    "# Loop through the list of tickers and calculate the standard deviation for the Close column (if available)\n",
    "for ticker in tickers:\n",
    "    # Check if the Close column exists in the data\n",
    "    if \"Close\" in data[ticker].columns:\n",
    "        # Calculate the standard deviation of the Close column\n",
    "        std_dev = data[ticker][\"Close\"].std()\n",
    "    else:\n",
    "        # If the Close column doesn't exist, set the standard deviation to None\n",
    "        std_dev = None\n",
    "        \n",
    "    results_dict[ticker] = std_dev\n",
    "\n",
    "# Print the dictionary to display the results\n",
    "print(results_dict)\n"
   ]
  },
  {
   "cell_type": "markdown",
   "metadata": {},
   "source": [
    "# Conclusion"
   ]
  },
  {
   "cell_type": "markdown",
   "metadata": {},
   "source": [
    "Additionally, in this version of the project, we have created an interactive plot to visualize the Black-Scholes option prices for 15 different European stocks. The stocks were chosen to represent a diverse range of industries and countries. The interactive plot allows users to select a stock from a dropdown menu and view the corresponding option prices for the call and put options."
   ]
  }
 ],
 "metadata": {
  "kernelspec": {
   "display_name": "base",
   "language": "python",
   "name": "python3"
  },
  "language_info": {
   "codemirror_mode": {
    "name": "ipython",
    "version": 3
   },
   "file_extension": ".py",
   "mimetype": "text/x-python",
   "name": "python",
   "nbconvert_exporter": "python",
   "pygments_lexer": "ipython3",
   "version": "3.9.16"
  },
  "toc-autonumbering": true,
  "vscode": {
   "interpreter": {
    "hash": "8d3d87ccdefad26727745608b6e2c318ea0e6227948721763511471dc41e3e75"
   }
  }
 },
 "nbformat": 4,
 "nbformat_minor": 4
}
